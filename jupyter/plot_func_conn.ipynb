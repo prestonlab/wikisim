{
 "cells": [
  {
   "cell_type": "code",
   "execution_count": 1,
   "metadata": {},
   "outputs": [],
   "source": [
    "import os\n",
    "import numpy as np\n",
    "import pandas as pd\n",
    "import matplotlib.pyplot as plt\n",
    "from IPython.display import display\n",
    "import seaborn as sns\n",
    "import importlib\n",
    "from wikisim import rsa\n",
    "\n",
    "roi_dir = '/Users/morton/Dropbox/work/bender/batch/glm/prex_stim2/roi'"
   ]
  },
  {
   "cell_type": "code",
   "execution_count": 2,
   "metadata": {},
   "outputs": [],
   "source": [
    "func_rois = rsa.get_rois('func')\n",
    "pmat_rois = rsa.get_rois('pmat')\n",
    "all_rois = pd.concat((func_rois, pmat_rois), axis=0)\n",
    "rois = all_rois.loc[all_rois['net'].isin(['face', 'scene', 'hpc'])].copy()\n",
    "corr = rsa.load_roi_corr(roi_dir, rois.index)"
   ]
  },
  {
   "cell_type": "code",
   "execution_count": 3,
   "metadata": {},
   "outputs": [
    {
     "data": {
      "image/png": "[encoded data removed]",
      "text/plain": [
       "<Figure size 288x288 with 1 Axes>"
      ]
     },
     "metadata": {
      "needs_background": "light"
     },
     "output_type": "display_data"
    }
   ],
   "source": [
    "fig, ax = plt.subplots(figsize=(4, 4))\n",
    "ax.pcolor(np.mean(corr['face'], 0) - np.mean(corr['scene'], 0),\n",
    "          cmap='RdBu_r')\n",
    "ax.axis('equal');\n",
    "ticks = np.arange(8) + .5\n",
    "ax.set(xticks=ticks, yticks=ticks, \n",
    "       xticklabels=rois['roi_label'], yticklabels=rois['roi_label']);\n",
    "ax.tick_params('x', labelrotation=45)"
   ]
  },
  {
   "cell_type": "code",
   "execution_count": 4,
   "metadata": {},
   "outputs": [
    {
     "name": "stdout",
     "output_type": "stream",
     "text": [
      "            roi_label    net net_label  net_id\n",
      "r_ofa             OFA   face      Face       0\n",
      "b_ffa             FFA   face      Face       0\n",
      "b_pat            ATFA   face      Face       0\n",
      "b_opa             OPA  scene     Scene       1\n",
      "b_rsc             RSC  scene     Scene       1\n",
      "b_ppa             PPA  scene     Scene       1\n",
      "b_fshs_phpc      pHPC    hpc       HPC       1\n",
      "b_fshs_ahpc      aHPC    hpc       HPC       1\n"
     ]
    }
   ],
   "source": [
    "print(rois)"
   ]
  },
  {
   "cell_type": "code",
   "execution_count": 5,
   "metadata": {},
   "outputs": [],
   "source": [
    "func_rois = rois['roi_label'][:6]\n",
    "df = {}\n",
    "diff = corr['face'][:, :, 6:] - corr['scene'][:, :, 6:]\n",
    "for i, roi in enumerate(func_rois):\n",
    "    x = diff[:, i, :]\n",
    "    df[roi] = pd.DataFrame(x, columns=['pHPC', 'aHPC'])"
   ]
  },
  {
   "cell_type": "code",
   "execution_count": 6,
   "metadata": {},
   "outputs": [],
   "source": [
    "sig_rois = ['ATFA', 'OFA', 'OPA', 'RSC', 'PPA']\n",
    "sign_rois = [1, -1, -1, -1, -1]\n",
    "results = {}\n",
    "for roi, sign in zip(sig_rois, sign_rois):\n",
    "    p, p_cor = rsa.sign_perm(df[roi].to_numpy() * sign, 100000, method='fwe', tail='right')\n",
    "    temp = df[roi] * sign\n",
    "    st = temp.agg(['mean', 'sem', 'std'])\n",
    "    st.loc['d'] = st.loc['mean'].abs() / st.loc['std']\n",
    "    st.loc['p'] = p\n",
    "    st.loc['p_cor'] = p_cor\n",
    "    results[roi] = st"
   ]
  },
  {
   "cell_type": "code",
   "execution_count": 7,
   "metadata": {},
   "outputs": [
    {
     "name": "stdout",
     "output_type": "stream",
     "text": [
      "ATFA\n"
     ]
    },
    {
     "data": {
      "text/html": [
       "<div>\n",
       "<style scoped>\n",
       "    .dataframe tbody tr th:only-of-type {\n",
       "        vertical-align: middle;\n",
       "    }\n",
       "\n",
       "    .dataframe tbody tr th {\n",
       "        vertical-align: top;\n",
       "    }\n",
       "\n",
       "    .dataframe thead th {\n",
       "        text-align: right;\n",
       "    }\n",
       "</style>\n",
       "<table border=\"1\" class=\"dataframe\">\n",
       "  <thead>\n",
       "    <tr style=\"text-align: right;\">\n",
       "      <th></th>\n",
       "      <th>pHPC</th>\n",
       "      <th>aHPC</th>\n",
       "    </tr>\n",
       "  </thead>\n",
       "  <tbody>\n",
       "    <tr>\n",
       "      <th>mean</th>\n",
       "      <td>0.030864</td>\n",
       "      <td>0.068864</td>\n",
       "    </tr>\n",
       "    <tr>\n",
       "      <th>sem</th>\n",
       "      <td>0.033974</td>\n",
       "      <td>0.024323</td>\n",
       "    </tr>\n",
       "    <tr>\n",
       "      <th>std</th>\n",
       "      <td>0.195168</td>\n",
       "      <td>0.139726</td>\n",
       "    </tr>\n",
       "    <tr>\n",
       "      <th>d</th>\n",
       "      <td>0.158141</td>\n",
       "      <td>0.492852</td>\n",
       "    </tr>\n",
       "    <tr>\n",
       "      <th>p</th>\n",
       "      <td>0.186108</td>\n",
       "      <td>0.004190</td>\n",
       "    </tr>\n",
       "    <tr>\n",
       "      <th>p_cor</th>\n",
       "      <td>0.256907</td>\n",
       "      <td>0.023830</td>\n",
       "    </tr>\n",
       "  </tbody>\n",
       "</table>\n",
       "</div>"
      ],
      "text/plain": [
       "           pHPC      aHPC\n",
       "mean   0.030864  0.068864\n",
       "sem    0.033974  0.024323\n",
       "std    0.195168  0.139726\n",
       "d      0.158141  0.492852\n",
       "p      0.186108  0.004190\n",
       "p_cor  0.256907  0.023830"
      ]
     },
     "metadata": {},
     "output_type": "display_data"
    },
    {
     "name": "stdout",
     "output_type": "stream",
     "text": [
      "OFA\n"
     ]
    },
    {
     "data": {
      "text/html": [
       "<div>\n",
       "<style scoped>\n",
       "    .dataframe tbody tr th:only-of-type {\n",
       "        vertical-align: middle;\n",
       "    }\n",
       "\n",
       "    .dataframe tbody tr th {\n",
       "        vertical-align: top;\n",
       "    }\n",
       "\n",
       "    .dataframe thead th {\n",
       "        text-align: right;\n",
       "    }\n",
       "</style>\n",
       "<table border=\"1\" class=\"dataframe\">\n",
       "  <thead>\n",
       "    <tr style=\"text-align: right;\">\n",
       "      <th></th>\n",
       "      <th>pHPC</th>\n",
       "      <th>aHPC</th>\n",
       "    </tr>\n",
       "  </thead>\n",
       "  <tbody>\n",
       "    <tr>\n",
       "      <th>mean</th>\n",
       "      <td>-0.065640</td>\n",
       "      <td>-0.012973</td>\n",
       "    </tr>\n",
       "    <tr>\n",
       "      <th>sem</th>\n",
       "      <td>0.024414</td>\n",
       "      <td>0.034276</td>\n",
       "    </tr>\n",
       "    <tr>\n",
       "      <th>std</th>\n",
       "      <td>0.140248</td>\n",
       "      <td>0.196903</td>\n",
       "    </tr>\n",
       "    <tr>\n",
       "      <th>d</th>\n",
       "      <td>0.468030</td>\n",
       "      <td>0.065883</td>\n",
       "    </tr>\n",
       "    <tr>\n",
       "      <th>p</th>\n",
       "      <td>0.994220</td>\n",
       "      <td>0.644504</td>\n",
       "    </tr>\n",
       "    <tr>\n",
       "      <th>p_cor</th>\n",
       "      <td>0.998960</td>\n",
       "      <td>0.822292</td>\n",
       "    </tr>\n",
       "  </tbody>\n",
       "</table>\n",
       "</div>"
      ],
      "text/plain": [
       "           pHPC      aHPC\n",
       "mean  -0.065640 -0.012973\n",
       "sem    0.024414  0.034276\n",
       "std    0.140248  0.196903\n",
       "d      0.468030  0.065883\n",
       "p      0.994220  0.644504\n",
       "p_cor  0.998960  0.822292"
      ]
     },
     "metadata": {},
     "output_type": "display_data"
    },
    {
     "name": "stdout",
     "output_type": "stream",
     "text": [
      "OPA\n"
     ]
    },
    {
     "data": {
      "text/html": [
       "<div>\n",
       "<style scoped>\n",
       "    .dataframe tbody tr th:only-of-type {\n",
       "        vertical-align: middle;\n",
       "    }\n",
       "\n",
       "    .dataframe tbody tr th {\n",
       "        vertical-align: top;\n",
       "    }\n",
       "\n",
       "    .dataframe thead th {\n",
       "        text-align: right;\n",
       "    }\n",
       "</style>\n",
       "<table border=\"1\" class=\"dataframe\">\n",
       "  <thead>\n",
       "    <tr style=\"text-align: right;\">\n",
       "      <th></th>\n",
       "      <th>pHPC</th>\n",
       "      <th>aHPC</th>\n",
       "    </tr>\n",
       "  </thead>\n",
       "  <tbody>\n",
       "    <tr>\n",
       "      <th>mean</th>\n",
       "      <td>-0.037188</td>\n",
       "      <td>0.023016</td>\n",
       "    </tr>\n",
       "    <tr>\n",
       "      <th>sem</th>\n",
       "      <td>0.028098</td>\n",
       "      <td>0.037746</td>\n",
       "    </tr>\n",
       "    <tr>\n",
       "      <th>std</th>\n",
       "      <td>0.161410</td>\n",
       "      <td>0.216836</td>\n",
       "    </tr>\n",
       "    <tr>\n",
       "      <th>d</th>\n",
       "      <td>0.230394</td>\n",
       "      <td>0.106143</td>\n",
       "    </tr>\n",
       "    <tr>\n",
       "      <th>p</th>\n",
       "      <td>0.903851</td>\n",
       "      <td>0.275337</td>\n",
       "    </tr>\n",
       "    <tr>\n",
       "      <th>p_cor</th>\n",
       "      <td>0.949941</td>\n",
       "      <td>0.362006</td>\n",
       "    </tr>\n",
       "  </tbody>\n",
       "</table>\n",
       "</div>"
      ],
      "text/plain": [
       "           pHPC      aHPC\n",
       "mean  -0.037188  0.023016\n",
       "sem    0.028098  0.037746\n",
       "std    0.161410  0.216836\n",
       "d      0.230394  0.106143\n",
       "p      0.903851  0.275337\n",
       "p_cor  0.949941  0.362006"
      ]
     },
     "metadata": {},
     "output_type": "display_data"
    },
    {
     "name": "stdout",
     "output_type": "stream",
     "text": [
      "RSC\n"
     ]
    },
    {
     "data": {
      "text/html": [
       "<div>\n",
       "<style scoped>\n",
       "    .dataframe tbody tr th:only-of-type {\n",
       "        vertical-align: middle;\n",
       "    }\n",
       "\n",
       "    .dataframe tbody tr th {\n",
       "        vertical-align: top;\n",
       "    }\n",
       "\n",
       "    .dataframe thead th {\n",
       "        text-align: right;\n",
       "    }\n",
       "</style>\n",
       "<table border=\"1\" class=\"dataframe\">\n",
       "  <thead>\n",
       "    <tr style=\"text-align: right;\">\n",
       "      <th></th>\n",
       "      <th>pHPC</th>\n",
       "      <th>aHPC</th>\n",
       "    </tr>\n",
       "  </thead>\n",
       "  <tbody>\n",
       "    <tr>\n",
       "      <th>mean</th>\n",
       "      <td>0.017136</td>\n",
       "      <td>0.090630</td>\n",
       "    </tr>\n",
       "    <tr>\n",
       "      <th>sem</th>\n",
       "      <td>0.029070</td>\n",
       "      <td>0.029403</td>\n",
       "    </tr>\n",
       "    <tr>\n",
       "      <th>std</th>\n",
       "      <td>0.166996</td>\n",
       "      <td>0.168908</td>\n",
       "    </tr>\n",
       "    <tr>\n",
       "      <th>d</th>\n",
       "      <td>0.102610</td>\n",
       "      <td>0.536562</td>\n",
       "    </tr>\n",
       "    <tr>\n",
       "      <th>p</th>\n",
       "      <td>0.279007</td>\n",
       "      <td>0.002420</td>\n",
       "    </tr>\n",
       "    <tr>\n",
       "      <th>p_cor</th>\n",
       "      <td>0.432296</td>\n",
       "      <td>0.002690</td>\n",
       "    </tr>\n",
       "  </tbody>\n",
       "</table>\n",
       "</div>"
      ],
      "text/plain": [
       "           pHPC      aHPC\n",
       "mean   0.017136  0.090630\n",
       "sem    0.029070  0.029403\n",
       "std    0.166996  0.168908\n",
       "d      0.102610  0.536562\n",
       "p      0.279007  0.002420\n",
       "p_cor  0.432296  0.002690"
      ]
     },
     "metadata": {},
     "output_type": "display_data"
    },
    {
     "name": "stdout",
     "output_type": "stream",
     "text": [
      "PPA\n"
     ]
    },
    {
     "data": {
      "text/html": [
       "<div>\n",
       "<style scoped>\n",
       "    .dataframe tbody tr th:only-of-type {\n",
       "        vertical-align: middle;\n",
       "    }\n",
       "\n",
       "    .dataframe tbody tr th {\n",
       "        vertical-align: top;\n",
       "    }\n",
       "\n",
       "    .dataframe thead th {\n",
       "        text-align: right;\n",
       "    }\n",
       "</style>\n",
       "<table border=\"1\" class=\"dataframe\">\n",
       "  <thead>\n",
       "    <tr style=\"text-align: right;\">\n",
       "      <th></th>\n",
       "      <th>pHPC</th>\n",
       "      <th>aHPC</th>\n",
       "    </tr>\n",
       "  </thead>\n",
       "  <tbody>\n",
       "    <tr>\n",
       "      <th>mean</th>\n",
       "      <td>-0.013653</td>\n",
       "      <td>0.065875</td>\n",
       "    </tr>\n",
       "    <tr>\n",
       "      <th>sem</th>\n",
       "      <td>0.027140</td>\n",
       "      <td>0.031311</td>\n",
       "    </tr>\n",
       "    <tr>\n",
       "      <th>std</th>\n",
       "      <td>0.155910</td>\n",
       "      <td>0.179866</td>\n",
       "    </tr>\n",
       "    <tr>\n",
       "      <th>d</th>\n",
       "      <td>0.087568</td>\n",
       "      <td>0.366247</td>\n",
       "    </tr>\n",
       "    <tr>\n",
       "      <th>p</th>\n",
       "      <td>0.691113</td>\n",
       "      <td>0.022010</td>\n",
       "    </tr>\n",
       "    <tr>\n",
       "      <th>p_cor</th>\n",
       "      <td>0.837002</td>\n",
       "      <td>0.026990</td>\n",
       "    </tr>\n",
       "  </tbody>\n",
       "</table>\n",
       "</div>"
      ],
      "text/plain": [
       "           pHPC      aHPC\n",
       "mean  -0.013653  0.065875\n",
       "sem    0.027140  0.031311\n",
       "std    0.155910  0.179866\n",
       "d      0.087568  0.366247\n",
       "p      0.691113  0.022010\n",
       "p_cor  0.837002  0.026990"
      ]
     },
     "metadata": {},
     "output_type": "display_data"
    }
   ],
   "source": [
    "for roi, res in results.items():\n",
    "    print(roi)\n",
    "    display(res)"
   ]
  }
 ],
 "metadata": {
  "kernelspec": {
   "display_name": "wikisim2",
   "language": "python",
   "name": "wikisim2"
  },
  "language_info": {
   "codemirror_mode": {
    "name": "ipython",
    "version": 3
   },
   "file_extension": ".py",
   "mimetype": "text/x-python",
   "name": "python",
   "nbconvert_exporter": "python",
   "pygments_lexer": "ipython3",
   "version": "3.7.9"
  }
 },
 "nbformat": 4,
 "nbformat_minor": 4
}
