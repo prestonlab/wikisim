{
 "cells": [
  {
   "cell_type": "code",
   "execution_count": 1,
   "metadata": {},
   "outputs": [],
   "source": [
    "import numpy as np\n",
    "import pandas as pd\n",
    "import matplotlib.pyplot as plt\n",
    "\n",
    "from wikisim import rsa\n",
    "\n",
    "roi_dir = '/Users/morton/Dropbox/work/bender/batch/glm/prex_stim2/roi'"
   ]
  },
  {
   "cell_type": "code",
   "execution_count": 2,
   "metadata": {},
   "outputs": [],
   "source": [
    "func_rois = rsa.get_rois('func')\n",
    "pmat_rois = rsa.get_rois('pmat')\n",
    "all_rois = pd.concat((func_rois, pmat_rois), axis=0)\n",
    "rois = all_rois.loc[all_rois['net'].isin(['face', 'scene', 'hpc'])].copy()\n",
    "corr = rsa.load_roi_corr(roi_dir, rois.index)"
   ]
  },
  {
   "cell_type": "code",
   "execution_count": 3,
   "metadata": {},
   "outputs": [
    {
     "data": {
      "image/png": "[encoded data removed]",
      "text/plain": [
       "<Figure size 288x288 with 1 Axes>"
      ]
     },
     "metadata": {
      "needs_background": "light"
     },
     "output_type": "display_data"
    }
   ],
   "source": [
    "fig, ax = plt.subplots(figsize=(4, 4))\n",
    "ax.pcolor(\n",
    "    np.mean(corr['face'], 0) - np.mean(corr['scene'], 0), cmap='RdBu_r'\n",
    ")\n",
    "ax.axis('equal')\n",
    "ticks = np.arange(8) + .5\n",
    "ax.set(\n",
    "    xticks=ticks, yticks=ticks, xticklabels=rois['roi_label'],\n",
    "    yticklabels=rois['roi_label']\n",
    ")\n",
    "ax.tick_params('x', labelrotation=45)"
   ]
  },
  {
   "cell_type": "code",
   "execution_count": 4,
   "metadata": {},
   "outputs": [
    {
     "name": "stdout",
     "output_type": "stream",
     "text": [
      "            roi_label    net net_label  net_id\n",
      "r_ofa             OFA   face      Face       0\n",
      "b_ffa             FFA   face      Face       0\n",
      "b_pat            ATFA   face      Face       0\n",
      "b_opa             OPA  scene     Scene       1\n",
      "b_rsc             RSC  scene     Scene       1\n",
      "b_ppa             PPA  scene     Scene       1\n",
      "b_fshs_phpc      pHPC    hpc       HPC       1\n",
      "b_fshs_ahpc      aHPC    hpc       HPC       1\n"
     ]
    }
   ],
   "source": [
    "print(rois)"
   ]
  },
  {
   "cell_type": "code",
   "execution_count": 5,
   "metadata": {},
   "outputs": [],
   "source": [
    "func_rois = rois['roi_label'][:6]\n",
    "df = {}\n",
    "diff = corr['face'][:, :, 6:] - corr['scene'][:, :, 6:]\n",
    "for i, roi in enumerate(func_rois):\n",
    "    x = diff[:, i, :]\n",
    "    df[roi] = pd.DataFrame(x, columns=['pHPC', 'aHPC'])"
   ]
  },
  {
   "cell_type": "code",
   "execution_count": 8,
   "metadata": {},
   "outputs": [
    {
     "name": "stdout",
     "output_type": "stream",
     "text": [
      "ATFA\n",
      "pHPC:\n",
      "mean=0.03086400313831736, sem=0.033974381743505214, p=0.25108748912510875\n",
      "aHPC:\n",
      "mean=0.06886419987831112, sem=0.024323154983990007, p=0.023759762402375977\n",
      "\n",
      "OFA\n",
      "pHPC:\n",
      "mean=-0.06564041737469738, sem=0.024414116140445998, p=0.999120008799912\n",
      "aHPC:\n",
      "mean=-0.012972514660058826, sem=0.03427634243210216, p=0.8218117818821812\n",
      "\n",
      "OPA\n",
      "pHPC:\n",
      "mean=-0.03718793847901188, sem=0.02809789589309, p=0.948960510394896\n",
      "aHPC:\n",
      "mean=0.023015554995936622, sem=0.03774622093765502, p=0.36026639733602667\n",
      "\n",
      "RSC\n",
      "pHPC:\n",
      "mean=0.017135577682178004, sem=0.02907033430963717, p=0.43628563714362856\n",
      "aHPC:\n",
      "mean=0.09062958156054607, sem=0.029403088548758928, p=0.0025999740002599974\n",
      "\n",
      "PPA\n",
      "pHPC:\n",
      "mean=-0.013652698339112299, sem=0.02714041831730031, p=0.8375716242837572\n",
      "aHPC:\n",
      "mean=0.06587529486731555, sem=0.031310598621882076, p=0.027079729202707972\n",
      "\n"
     ]
    }
   ],
   "source": [
    "sig_rois = ['ATFA', 'OFA', 'OPA', 'RSC', 'PPA']\n",
    "sign_rois = [1, -1, -1, -1, -1]\n",
    "for roi, sign in zip(sig_rois, sign_rois):\n",
    "    p, p_cor = rsa.sign_perm(\n",
    "        df[roi].to_numpy() * sign, 100000, method='fwe', tail='right'\n",
    "    )\n",
    "    temp = df[roi] * sign\n",
    "    st = temp.agg(['mean', 'sem'])\n",
    "    print(roi)\n",
    "    print(f'pHPC:')\n",
    "    print(f\"mean={st.loc['mean', 'pHPC']}, sem={st.loc['sem', 'pHPC']}, p={p_cor[0]}\")\n",
    "    print(f'aHPC:')\n",
    "    print(f\"mean={st.loc['mean', 'aHPC']}, sem={st.loc['sem', 'aHPC']}, p={p_cor[1]}\")\n",
    "    print()"
   ]
  }
 ],
 "metadata": {
  "kernelspec": {
   "display_name": "wikisim2",
   "language": "python",
   "name": "wikisim2"
  },
  "language_info": {
   "codemirror_mode": {
    "name": "ipython",
    "version": 3
   },
   "file_extension": ".py",
   "mimetype": "text/x-python",
   "name": "python",
   "nbconvert_exporter": "python",
   "pygments_lexer": "ipython3",
   "version": "3.7.9"
  }
 },
 "nbformat": 4,
 "nbformat_minor": 4
}