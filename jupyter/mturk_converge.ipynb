{
 "cells": [
  {
   "cell_type": "code",
   "execution_count": 1,
   "metadata": {},
   "outputs": [
    {
     "name": "stderr",
     "output_type": "stream",
     "text": [
      "/Users/morton/miniconda3/envs/wikisim2/lib/python3.7/site-packages/tensorflow/python/framework/dtypes.py:516: FutureWarning: Passing (type, 1) or '1type' as a synonym of type is deprecated; in a future version of numpy, it will be understood as (type, (1,)) / '(1,)type'.\n",
      "  _np_qint8 = np.dtype([(\"qint8\", np.int8, 1)])\n",
      "/Users/morton/miniconda3/envs/wikisim2/lib/python3.7/site-packages/tensorflow/python/framework/dtypes.py:517: FutureWarning: Passing (type, 1) or '1type' as a synonym of type is deprecated; in a future version of numpy, it will be understood as (type, (1,)) / '(1,)type'.\n",
      "  _np_quint8 = np.dtype([(\"quint8\", np.uint8, 1)])\n",
      "/Users/morton/miniconda3/envs/wikisim2/lib/python3.7/site-packages/tensorflow/python/framework/dtypes.py:518: FutureWarning: Passing (type, 1) or '1type' as a synonym of type is deprecated; in a future version of numpy, it will be understood as (type, (1,)) / '(1,)type'.\n",
      "  _np_qint16 = np.dtype([(\"qint16\", np.int16, 1)])\n",
      "/Users/morton/miniconda3/envs/wikisim2/lib/python3.7/site-packages/tensorflow/python/framework/dtypes.py:519: FutureWarning: Passing (type, 1) or '1type' as a synonym of type is deprecated; in a future version of numpy, it will be understood as (type, (1,)) / '(1,)type'.\n",
      "  _np_quint16 = np.dtype([(\"quint16\", np.uint16, 1)])\n",
      "/Users/morton/miniconda3/envs/wikisim2/lib/python3.7/site-packages/tensorflow/python/framework/dtypes.py:520: FutureWarning: Passing (type, 1) or '1type' as a synonym of type is deprecated; in a future version of numpy, it will be understood as (type, (1,)) / '(1,)type'.\n",
      "  _np_qint32 = np.dtype([(\"qint32\", np.int32, 1)])\n",
      "/Users/morton/miniconda3/envs/wikisim2/lib/python3.7/site-packages/tensorflow/python/framework/dtypes.py:525: FutureWarning: Passing (type, 1) or '1type' as a synonym of type is deprecated; in a future version of numpy, it will be understood as (type, (1,)) / '(1,)type'.\n",
      "  np_resource = np.dtype([(\"resource\", np.ubyte, 1)])\n",
      "/Users/morton/miniconda3/envs/wikisim2/lib/python3.7/site-packages/tensorboard/compat/tensorflow_stub/dtypes.py:541: FutureWarning: Passing (type, 1) or '1type' as a synonym of type is deprecated; in a future version of numpy, it will be understood as (type, (1,)) / '(1,)type'.\n",
      "  _np_qint8 = np.dtype([(\"qint8\", np.int8, 1)])\n",
      "/Users/morton/miniconda3/envs/wikisim2/lib/python3.7/site-packages/tensorboard/compat/tensorflow_stub/dtypes.py:542: FutureWarning: Passing (type, 1) or '1type' as a synonym of type is deprecated; in a future version of numpy, it will be understood as (type, (1,)) / '(1,)type'.\n",
      "  _np_quint8 = np.dtype([(\"quint8\", np.uint8, 1)])\n",
      "/Users/morton/miniconda3/envs/wikisim2/lib/python3.7/site-packages/tensorboard/compat/tensorflow_stub/dtypes.py:543: FutureWarning: Passing (type, 1) or '1type' as a synonym of type is deprecated; in a future version of numpy, it will be understood as (type, (1,)) / '(1,)type'.\n",
      "  _np_qint16 = np.dtype([(\"qint16\", np.int16, 1)])\n",
      "/Users/morton/miniconda3/envs/wikisim2/lib/python3.7/site-packages/tensorboard/compat/tensorflow_stub/dtypes.py:544: FutureWarning: Passing (type, 1) or '1type' as a synonym of type is deprecated; in a future version of numpy, it will be understood as (type, (1,)) / '(1,)type'.\n",
      "  _np_quint16 = np.dtype([(\"quint16\", np.uint16, 1)])\n",
      "/Users/morton/miniconda3/envs/wikisim2/lib/python3.7/site-packages/tensorboard/compat/tensorflow_stub/dtypes.py:545: FutureWarning: Passing (type, 1) or '1type' as a synonym of type is deprecated; in a future version of numpy, it will be understood as (type, (1,)) / '(1,)type'.\n",
      "  _np_qint32 = np.dtype([(\"qint32\", np.int32, 1)])\n",
      "/Users/morton/miniconda3/envs/wikisim2/lib/python3.7/site-packages/tensorboard/compat/tensorflow_stub/dtypes.py:550: FutureWarning: Passing (type, 1) or '1type' as a synonym of type is deprecated; in a future version of numpy, it will be understood as (type, (1,)) / '(1,)type'.\n",
      "  np_resource = np.dtype([(\"resource\", np.ubyte, 1)])\n"
     ]
    }
   ],
   "source": [
    "import os\n",
    "import pandas as pd\n",
    "import seaborn as sns\n",
    "\n",
    "from wikisim import embed\n",
    "\n",
    "work_dir = '/Users/morton/Dropbox/work/bender/mturk'\n",
    "sim_file = os.path.join(work_dir, 'mturk_sim.csv')\n",
    "\n",
    "fig_dir = '/Users/morton/Dropbox/work/bender/figs_wikisim3/mturk'\n",
    "if not os.path.exists(fig_dir):\n",
    "    os.mkdir(fig_dir)"
   ]
  },
  {
   "cell_type": "code",
   "execution_count": 2,
   "metadata": {},
   "outputs": [],
   "source": [
    "sim = pd.read_csv(sim_file, index_col=0)\n",
    "sim.loc[:, 'include'] = sim['stim_fam'] > 1"
   ]
  },
  {
   "cell_type": "code",
   "execution_count": 3,
   "metadata": {},
   "outputs": [
    {
     "name": "stdout",
     "output_type": "stream",
     "text": [
      "Assessing convergence for condition 1...\n",
      "  Shuffle 1\n",
      "[psiz] Inferring embedding...\n",
      "WARNING:tensorflow:From /Users/morton/miniconda3/envs/wikisim2/lib/python3.7/site-packages/psiz/models.py:1227: add_dispatch_support.<locals>.wrapper (from tensorflow.python.ops.array_ops) is deprecated and will be removed in a future version.\n",
      "Instructions for updating:\n",
      "Use tf.where in 2.0, which has the same broadcast rule as np.where\n",
      "WARNING:tensorflow:From /Users/morton/miniconda3/envs/wikisim2/lib/python3.7/site-packages/tensorflow/python/training/rmsprop.py:119: calling Ones.__init__ (from tensorflow.python.ops.init_ops) with dtype is deprecated and will be removed in a future version.\n",
      "Instructions for updating:\n",
      "Call initializer instance with the dtype argument instead of passing it to the constructor\n"
     ]
    },
    {
     "name": "stderr",
     "output_type": "stream",
     "text": [
      "/Users/morton/miniconda3/envs/wikisim2/lib/python3.7/site-packages/tensorflow/python/ops/gradients_util.py:93: UserWarning: Converting sparse IndexedSlices to a dense Tensor of unknown shape. This may consume a large amount of memory.\n",
      "  \"Converting sparse IndexedSlices to a dense Tensor of unknown shape. \"\n"
     ]
    },
    {
     "name": "stdout",
     "output_type": "stream",
     "text": [
      "    Progress: |██████████████████████████████████████████████████| 100.0%% Complete | ETA: 0:00:00\n",
      "    Elapsed time: 0:02:13\n",
      "[psiz] Inferring embedding...\n",
      "    Progress: |--------------------------------------------------| 0.0%% Complete | ETA: 0:00:00\r"
     ]
    },
    {
     "name": "stderr",
     "output_type": "stream",
     "text": [
      "/Users/morton/miniconda3/envs/wikisim2/lib/python3.7/site-packages/tensorflow/python/ops/gradients_util.py:93: UserWarning: Converting sparse IndexedSlices to a dense Tensor of unknown shape. This may consume a large amount of memory.\n",
      "  \"Converting sparse IndexedSlices to a dense Tensor of unknown shape. \"\n"
     ]
    },
    {
     "name": "stdout",
     "output_type": "stream",
     "text": [
      "    Progress: |██████████████████████████████████████████████████| 100.0%% Complete | ETA: 0:00:00\n",
      "    Elapsed time: 0:25:07\n",
      "    8 | measure: 0.86\n",
      "[psiz] Inferring embedding...\n",
      "    Progress: |--------------------------------------------------| 0.0%% Complete | ETA: 0:00:00\r"
     ]
    },
    {
     "name": "stderr",
     "output_type": "stream",
     "text": [
      "/Users/morton/miniconda3/envs/wikisim2/lib/python3.7/site-packages/tensorflow/python/ops/gradients_util.py:93: UserWarning: Converting sparse IndexedSlices to a dense Tensor of unknown shape. This may consume a large amount of memory.\n",
      "  \"Converting sparse IndexedSlices to a dense Tensor of unknown shape. \"\n"
     ]
    },
    {
     "name": "stdout",
     "output_type": "stream",
     "text": [
      "    Progress: |██████████████████████████████████████████████████| 100.0%% Complete | ETA: 0:00:00\n",
      "    Elapsed time: 0:03:06\n",
      "    9 | measure: 0.93\n",
      "  Shuffle 2\n",
      "[psiz] Inferring embedding...\n",
      "    Progress: |--------------------------------------------------| 0.0%% Complete | ETA: 0:00:00\r"
     ]
    },
    {
     "name": "stderr",
     "output_type": "stream",
     "text": [
      "/Users/morton/miniconda3/envs/wikisim2/lib/python3.7/site-packages/tensorflow/python/ops/gradients_util.py:93: UserWarning: Converting sparse IndexedSlices to a dense Tensor of unknown shape. This may consume a large amount of memory.\n",
      "  \"Converting sparse IndexedSlices to a dense Tensor of unknown shape. \"\n"
     ]
    },
    {
     "name": "stdout",
     "output_type": "stream",
     "text": [
      "    Progress: |██████████████████████████████████████████████████| 100.0%% Complete | ETA: 0:00:00\n",
      "    Elapsed time: 0:03:25\n",
      "[psiz] Inferring embedding...\n",
      "    Progress: |--------------------------------------------------| 0.0%% Complete | ETA: 0:00:00\r"
     ]
    },
    {
     "name": "stderr",
     "output_type": "stream",
     "text": [
      "/Users/morton/miniconda3/envs/wikisim2/lib/python3.7/site-packages/tensorflow/python/ops/gradients_util.py:93: UserWarning: Converting sparse IndexedSlices to a dense Tensor of unknown shape. This may consume a large amount of memory.\n",
      "  \"Converting sparse IndexedSlices to a dense Tensor of unknown shape. \"\n"
     ]
    },
    {
     "name": "stdout",
     "output_type": "stream",
     "text": [
      "    Progress: |██████████████████████████████████████████████████| 100.0%% Complete | ETA: 0:00:00\n",
      "    Elapsed time: 0:15:29\n",
      "    8 | measure: 0.83\n",
      "[psiz] Inferring embedding...\n",
      "    Progress: |--------------------------------------------------| 0.0%% Complete | ETA: 0:00:00\r"
     ]
    },
    {
     "name": "stderr",
     "output_type": "stream",
     "text": [
      "/Users/morton/miniconda3/envs/wikisim2/lib/python3.7/site-packages/tensorflow/python/ops/gradients_util.py:93: UserWarning: Converting sparse IndexedSlices to a dense Tensor of unknown shape. This may consume a large amount of memory.\n",
      "  \"Converting sparse IndexedSlices to a dense Tensor of unknown shape. \"\n"
     ]
    },
    {
     "name": "stdout",
     "output_type": "stream",
     "text": [
      "    Progress: |██████████████████████████████████████████████████| 100.0%% Complete | ETA: 0:00:00\n",
      "    Elapsed time: 0:03:13\n",
      "    9 | measure: 0.91\n",
      "  Shuffle 3\n",
      "[psiz] Inferring embedding...\n",
      "    Progress: |--------------------------------------------------| 0.0%% Complete | ETA: 0:00:00\r"
     ]
    },
    {
     "name": "stderr",
     "output_type": "stream",
     "text": [
      "/Users/morton/miniconda3/envs/wikisim2/lib/python3.7/site-packages/tensorflow/python/ops/gradients_util.py:93: UserWarning: Converting sparse IndexedSlices to a dense Tensor of unknown shape. This may consume a large amount of memory.\n",
      "  \"Converting sparse IndexedSlices to a dense Tensor of unknown shape. \"\n"
     ]
    },
    {
     "name": "stdout",
     "output_type": "stream",
     "text": [
      "    Progress: |██████████████████████████████████████████████████| 100.0%% Complete | ETA: 0:00:00\n",
      "    Elapsed time: 0:02:24\n",
      "[psiz] Inferring embedding...\n",
      "    Progress: |--------------------------------------------------| 0.0%% Complete | ETA: 0:00:00\r"
     ]
    },
    {
     "name": "stderr",
     "output_type": "stream",
     "text": [
      "/Users/morton/miniconda3/envs/wikisim2/lib/python3.7/site-packages/tensorflow/python/ops/gradients_util.py:93: UserWarning: Converting sparse IndexedSlices to a dense Tensor of unknown shape. This may consume a large amount of memory.\n",
      "  \"Converting sparse IndexedSlices to a dense Tensor of unknown shape. \"\n"
     ]
    },
    {
     "name": "stdout",
     "output_type": "stream",
     "text": [
      "    Progress: |██████████████████████████████████████████████████| 100.0%% Complete | ETA: 0:00:00\n",
      "    Elapsed time: 0:03:03\n",
      "    8 | measure: 0.87\n",
      "[psiz] Inferring embedding...\n",
      "    Progress: |--------------------------------------------------| 0.0%% Complete | ETA: 0:00:00\r"
     ]
    },
    {
     "name": "stderr",
     "output_type": "stream",
     "text": [
      "/Users/morton/miniconda3/envs/wikisim2/lib/python3.7/site-packages/tensorflow/python/ops/gradients_util.py:93: UserWarning: Converting sparse IndexedSlices to a dense Tensor of unknown shape. This may consume a large amount of memory.\n",
      "  \"Converting sparse IndexedSlices to a dense Tensor of unknown shape. \"\n"
     ]
    },
    {
     "name": "stdout",
     "output_type": "stream",
     "text": [
      "    Progress: |██████████████████████████████████████████████████| 100.0%% Complete | ETA: 0:00:00\n",
      "    Elapsed time: 0:02:58\n",
      "    9 | measure: 0.85\n",
      "  Shuffle 4\n",
      "[psiz] Inferring embedding...\n",
      "    Progress: |--------------------------------------------------| 0.0%% Complete | ETA: 0:00:00\r"
     ]
    },
    {
     "name": "stderr",
     "output_type": "stream",
     "text": [
      "/Users/morton/miniconda3/envs/wikisim2/lib/python3.7/site-packages/tensorflow/python/ops/gradients_util.py:93: UserWarning: Converting sparse IndexedSlices to a dense Tensor of unknown shape. This may consume a large amount of memory.\n",
      "  \"Converting sparse IndexedSlices to a dense Tensor of unknown shape. \"\n"
     ]
    },
    {
     "name": "stdout",
     "output_type": "stream",
     "text": [
      "    Progress: |██████████████████████████████████████████████████| 100.0%% Complete | ETA: 0:00:00\n",
      "    Elapsed time: 0:02:07\n",
      "[psiz] Inferring embedding...\n",
      "    Progress: |--------------------------------------------------| 0.0%% Complete | ETA: 0:00:00\r"
     ]
    },
    {
     "name": "stderr",
     "output_type": "stream",
     "text": [
      "/Users/morton/miniconda3/envs/wikisim2/lib/python3.7/site-packages/tensorflow/python/ops/gradients_util.py:93: UserWarning: Converting sparse IndexedSlices to a dense Tensor of unknown shape. This may consume a large amount of memory.\n",
      "  \"Converting sparse IndexedSlices to a dense Tensor of unknown shape. \"\n"
     ]
    },
    {
     "name": "stdout",
     "output_type": "stream",
     "text": [
      "    Progress: |██████████████████████████████████████████████████| 100.0%% Complete | ETA: 0:00:00\n",
      "    Elapsed time: 0:03:13\n",
      "    8 | measure: 0.88\n",
      "[psiz] Inferring embedding...\n",
      "    Progress: |--------------------------------------------------| 0.0%% Complete | ETA: 0:00:00\r"
     ]
    },
    {
     "name": "stderr",
     "output_type": "stream",
     "text": [
      "/Users/morton/miniconda3/envs/wikisim2/lib/python3.7/site-packages/tensorflow/python/ops/gradients_util.py:93: UserWarning: Converting sparse IndexedSlices to a dense Tensor of unknown shape. This may consume a large amount of memory.\n",
      "  \"Converting sparse IndexedSlices to a dense Tensor of unknown shape. \"\n"
     ]
    },
    {
     "name": "stdout",
     "output_type": "stream",
     "text": [
      "    Progress: |██████████████████████████████████████████████████| 100.0%% Complete | ETA: 0:00:00\n",
      "    Elapsed time: 0:03:14\n",
      "    9 | measure: 0.89\n",
      "Assessing convergence for condition 4...\n",
      "  Shuffle 1\n",
      "[psiz] Inferring embedding...\n",
      "    Progress: |--------------------------------------------------| 0.0%% Complete | ETA: 0:00:00\r"
     ]
    },
    {
     "name": "stderr",
     "output_type": "stream",
     "text": [
      "/Users/morton/miniconda3/envs/wikisim2/lib/python3.7/site-packages/tensorflow/python/ops/gradients_util.py:93: UserWarning: Converting sparse IndexedSlices to a dense Tensor of unknown shape. This may consume a large amount of memory.\n",
      "  \"Converting sparse IndexedSlices to a dense Tensor of unknown shape. \"\n"
     ]
    },
    {
     "name": "stdout",
     "output_type": "stream",
     "text": [
      "    Progress: |██████████████████████████████████████████████████| 100.0%% Complete | ETA: 0:00:00\n",
      "    Elapsed time: 0:02:28\n",
      "[psiz] Inferring embedding...\n",
      "    Progress: |--------------------------------------------------| 0.0%% Complete | ETA: 0:00:00\r"
     ]
    },
    {
     "name": "stderr",
     "output_type": "stream",
     "text": [
      "/Users/morton/miniconda3/envs/wikisim2/lib/python3.7/site-packages/tensorflow/python/ops/gradients_util.py:93: UserWarning: Converting sparse IndexedSlices to a dense Tensor of unknown shape. This may consume a large amount of memory.\n",
      "  \"Converting sparse IndexedSlices to a dense Tensor of unknown shape. \"\n"
     ]
    },
    {
     "name": "stdout",
     "output_type": "stream",
     "text": [
      "    Progress: |██████████████████████████████████████████████████| 100.0%% Complete | ETA: 0:00:00\n",
      "    Elapsed time: 0:02:32\n",
      "    8 | measure: 0.92\n",
      "[psiz] Inferring embedding...\n",
      "    Progress: |--------------------------------------------------| 0.0%% Complete | ETA: 0:00:00\r"
     ]
    },
    {
     "name": "stderr",
     "output_type": "stream",
     "text": [
      "/Users/morton/miniconda3/envs/wikisim2/lib/python3.7/site-packages/tensorflow/python/ops/gradients_util.py:93: UserWarning: Converting sparse IndexedSlices to a dense Tensor of unknown shape. This may consume a large amount of memory.\n",
      "  \"Converting sparse IndexedSlices to a dense Tensor of unknown shape. \"\n"
     ]
    },
    {
     "name": "stdout",
     "output_type": "stream",
     "text": [
      "    Progress: |██████████████████████████████████████████████████| 100.0%% Complete | ETA: 0:00:00\n",
      "    Elapsed time: 0:02:47\n",
      "    9 | measure: 0.93\n",
      "  Shuffle 2\n",
      "[psiz] Inferring embedding...\n",
      "    Progress: |--------------------------------------------------| 0.0%% Complete | ETA: 0:00:00\r"
     ]
    },
    {
     "name": "stderr",
     "output_type": "stream",
     "text": [
      "/Users/morton/miniconda3/envs/wikisim2/lib/python3.7/site-packages/tensorflow/python/ops/gradients_util.py:93: UserWarning: Converting sparse IndexedSlices to a dense Tensor of unknown shape. This may consume a large amount of memory.\n",
      "  \"Converting sparse IndexedSlices to a dense Tensor of unknown shape. \"\n"
     ]
    },
    {
     "name": "stdout",
     "output_type": "stream",
     "text": [
      "    Progress: |██████████████████████████████████████████████████| 100.0%% Complete | ETA: 0:00:00\n",
      "    Elapsed time: 0:02:42\n",
      "[psiz] Inferring embedding...\n",
      "    Progress: |--------------------------------------------------| 0.0%% Complete | ETA: 0:00:00\r"
     ]
    },
    {
     "name": "stderr",
     "output_type": "stream",
     "text": [
      "/Users/morton/miniconda3/envs/wikisim2/lib/python3.7/site-packages/tensorflow/python/ops/gradients_util.py:93: UserWarning: Converting sparse IndexedSlices to a dense Tensor of unknown shape. This may consume a large amount of memory.\n",
      "  \"Converting sparse IndexedSlices to a dense Tensor of unknown shape. \"\n"
     ]
    },
    {
     "name": "stdout",
     "output_type": "stream",
     "text": [
      "    Progress: |██████████████████████████████████████████████████| 100.0%% Complete | ETA: 0:00:00\n",
      "    Elapsed time: 0:02:28\n",
      "    8 | measure: 0.84\n",
      "[psiz] Inferring embedding...\n",
      "    Progress: |--------------------------------------------------| 0.0%% Complete | ETA: 0:00:00\r"
     ]
    },
    {
     "name": "stderr",
     "output_type": "stream",
     "text": [
      "/Users/morton/miniconda3/envs/wikisim2/lib/python3.7/site-packages/tensorflow/python/ops/gradients_util.py:93: UserWarning: Converting sparse IndexedSlices to a dense Tensor of unknown shape. This may consume a large amount of memory.\n",
      "  \"Converting sparse IndexedSlices to a dense Tensor of unknown shape. \"\n"
     ]
    },
    {
     "name": "stdout",
     "output_type": "stream",
     "text": [
      "    Progress: |██████████████████████████████████████████████████| 100.0%% Complete | ETA: 0:00:00\n",
      "    Elapsed time: 0:03:02\n",
      "    9 | measure: 0.93\n",
      "  Shuffle 3\n",
      "[psiz] Inferring embedding...\n",
      "    Progress: |--------------------------------------------------| 0.0%% Complete | ETA: 0:00:00\r"
     ]
    },
    {
     "name": "stderr",
     "output_type": "stream",
     "text": [
      "/Users/morton/miniconda3/envs/wikisim2/lib/python3.7/site-packages/tensorflow/python/ops/gradients_util.py:93: UserWarning: Converting sparse IndexedSlices to a dense Tensor of unknown shape. This may consume a large amount of memory.\n",
      "  \"Converting sparse IndexedSlices to a dense Tensor of unknown shape. \"\n"
     ]
    },
    {
     "name": "stdout",
     "output_type": "stream",
     "text": [
      "    Progress: |██████████████████████████████████████████████████| 100.0%% Complete | ETA: 0:00:00\n",
      "    Elapsed time: 0:02:24\n",
      "[psiz] Inferring embedding...\n",
      "    Progress: |--------------------------------------------------| 0.0%% Complete | ETA: 0:00:00\r"
     ]
    },
    {
     "name": "stderr",
     "output_type": "stream",
     "text": [
      "/Users/morton/miniconda3/envs/wikisim2/lib/python3.7/site-packages/tensorflow/python/ops/gradients_util.py:93: UserWarning: Converting sparse IndexedSlices to a dense Tensor of unknown shape. This may consume a large amount of memory.\n",
      "  \"Converting sparse IndexedSlices to a dense Tensor of unknown shape. \"\n"
     ]
    },
    {
     "name": "stdout",
     "output_type": "stream",
     "text": [
      "    Progress: |██████████████████████████████████████████████████| 100.0%% Complete | ETA: 0:00:00\n",
      "    Elapsed time: 0:03:14\n",
      "    8 | measure: 0.87\n",
      "[psiz] Inferring embedding...\n",
      "    Progress: |--------------------------------------------------| 0.0%% Complete | ETA: 0:00:00\r"
     ]
    },
    {
     "name": "stderr",
     "output_type": "stream",
     "text": [
      "/Users/morton/miniconda3/envs/wikisim2/lib/python3.7/site-packages/tensorflow/python/ops/gradients_util.py:93: UserWarning: Converting sparse IndexedSlices to a dense Tensor of unknown shape. This may consume a large amount of memory.\n",
      "  \"Converting sparse IndexedSlices to a dense Tensor of unknown shape. \"\n"
     ]
    },
    {
     "name": "stdout",
     "output_type": "stream",
     "text": [
      "    Progress: |██████████████████████████████████████████████████| 100.0%% Complete | ETA: 0:00:00\n",
      "    Elapsed time: 0:02:53\n",
      "    9 | measure: 0.95\n",
      "  Shuffle 4\n",
      "[psiz] Inferring embedding...\n",
      "    Progress: |--------------------------------------------------| 0.0%% Complete | ETA: 0:00:00\r"
     ]
    },
    {
     "name": "stderr",
     "output_type": "stream",
     "text": [
      "/Users/morton/miniconda3/envs/wikisim2/lib/python3.7/site-packages/tensorflow/python/ops/gradients_util.py:93: UserWarning: Converting sparse IndexedSlices to a dense Tensor of unknown shape. This may consume a large amount of memory.\n",
      "  \"Converting sparse IndexedSlices to a dense Tensor of unknown shape. \"\n"
     ]
    },
    {
     "name": "stdout",
     "output_type": "stream",
     "text": [
      "    Progress: |██████████████████████████████████████████████████| 100.0%% Complete | ETA: 0:00:00\n",
      "    Elapsed time: 0:02:44\n",
      "[psiz] Inferring embedding...\n",
      "    Progress: |--------------------------------------------------| 0.0%% Complete | ETA: 0:00:00\r"
     ]
    },
    {
     "name": "stderr",
     "output_type": "stream",
     "text": [
      "/Users/morton/miniconda3/envs/wikisim2/lib/python3.7/site-packages/tensorflow/python/ops/gradients_util.py:93: UserWarning: Converting sparse IndexedSlices to a dense Tensor of unknown shape. This may consume a large amount of memory.\n",
      "  \"Converting sparse IndexedSlices to a dense Tensor of unknown shape. \"\n"
     ]
    },
    {
     "name": "stdout",
     "output_type": "stream",
     "text": [
      "    Progress: |██████████████████████████████████████████████████| 100.0%% Complete | ETA: 0:00:00\n",
      "    Elapsed time: 0:02:43\n",
      "    8 | measure: 0.90\n",
      "[psiz] Inferring embedding...\n",
      "    Progress: |--------------------------------------------------| 0.0%% Complete | ETA: 0:00:00\r"
     ]
    },
    {
     "name": "stderr",
     "output_type": "stream",
     "text": [
      "/Users/morton/miniconda3/envs/wikisim2/lib/python3.7/site-packages/tensorflow/python/ops/gradients_util.py:93: UserWarning: Converting sparse IndexedSlices to a dense Tensor of unknown shape. This may consume a large amount of memory.\n",
      "  \"Converting sparse IndexedSlices to a dense Tensor of unknown shape. \"\n"
     ]
    },
    {
     "name": "stdout",
     "output_type": "stream",
     "text": [
      "    Progress: |██████████████████████████████████████████████████| 100.0%% Complete | ETA: 0:00:00\n",
      "    Elapsed time: 0:02:22\n",
      "    9 | measure: 0.92\n",
      "Assessing convergence for condition 2...\n",
      "  Shuffle 1\n",
      "[psiz] Inferring embedding...\n",
      "    Progress: |--------------------------------------------------| 0.0%% Complete | ETA: 0:00:00\r"
     ]
    },
    {
     "name": "stderr",
     "output_type": "stream",
     "text": [
      "/Users/morton/miniconda3/envs/wikisim2/lib/python3.7/site-packages/tensorflow/python/ops/gradients_util.py:93: UserWarning: Converting sparse IndexedSlices to a dense Tensor of unknown shape. This may consume a large amount of memory.\n",
      "  \"Converting sparse IndexedSlices to a dense Tensor of unknown shape. \"\n"
     ]
    },
    {
     "name": "stdout",
     "output_type": "stream",
     "text": [
      "    Progress: |██████████████████████████████████████████████████| 100.0%% Complete | ETA: 0:00:00\n",
      "    Elapsed time: 0:02:09\n",
      "[psiz] Inferring embedding...\n",
      "    Progress: |--------------------------------------------------| 0.0%% Complete | ETA: 0:00:00\r"
     ]
    },
    {
     "name": "stderr",
     "output_type": "stream",
     "text": [
      "/Users/morton/miniconda3/envs/wikisim2/lib/python3.7/site-packages/tensorflow/python/ops/gradients_util.py:93: UserWarning: Converting sparse IndexedSlices to a dense Tensor of unknown shape. This may consume a large amount of memory.\n",
      "  \"Converting sparse IndexedSlices to a dense Tensor of unknown shape. \"\n"
     ]
    },
    {
     "name": "stdout",
     "output_type": "stream",
     "text": [
      "    Progress: |██████████████████████████████████████████████████| 100.0%% Complete | ETA: 0:00:00\n",
      "    Elapsed time: 0:01:58\n",
      "    8 | measure: 0.87\n",
      "[psiz] Inferring embedding...\n",
      "    Progress: |--------------------------------------------------| 0.0%% Complete | ETA: 0:00:00\r"
     ]
    },
    {
     "name": "stderr",
     "output_type": "stream",
     "text": [
      "/Users/morton/miniconda3/envs/wikisim2/lib/python3.7/site-packages/tensorflow/python/ops/gradients_util.py:93: UserWarning: Converting sparse IndexedSlices to a dense Tensor of unknown shape. This may consume a large amount of memory.\n",
      "  \"Converting sparse IndexedSlices to a dense Tensor of unknown shape. \"\n"
     ]
    },
    {
     "name": "stdout",
     "output_type": "stream",
     "text": [
      "    Progress: |██████████████████████████████████████████████████| 100.0%% Complete | ETA: 0:00:00\n",
      "    Elapsed time: 0:02:26\n",
      "    9 | measure: 0.85\n",
      "  Shuffle 2\n",
      "[psiz] Inferring embedding...\n",
      "    Progress: |--------------------------------------------------| 0.0%% Complete | ETA: 0:00:00\r"
     ]
    },
    {
     "name": "stderr",
     "output_type": "stream",
     "text": [
      "/Users/morton/miniconda3/envs/wikisim2/lib/python3.7/site-packages/tensorflow/python/ops/gradients_util.py:93: UserWarning: Converting sparse IndexedSlices to a dense Tensor of unknown shape. This may consume a large amount of memory.\n",
      "  \"Converting sparse IndexedSlices to a dense Tensor of unknown shape. \"\n"
     ]
    },
    {
     "name": "stdout",
     "output_type": "stream",
     "text": [
      "    Progress: |██████████████████████████████████████████████████| 100.0%% Complete | ETA: 0:00:00\n",
      "    Elapsed time: 0:03:07\n",
      "[psiz] Inferring embedding...\n",
      "    Progress: |--------------------------------------------------| 0.0%% Complete | ETA: 0:00:00\r"
     ]
    },
    {
     "name": "stderr",
     "output_type": "stream",
     "text": [
      "/Users/morton/miniconda3/envs/wikisim2/lib/python3.7/site-packages/tensorflow/python/ops/gradients_util.py:93: UserWarning: Converting sparse IndexedSlices to a dense Tensor of unknown shape. This may consume a large amount of memory.\n",
      "  \"Converting sparse IndexedSlices to a dense Tensor of unknown shape. \"\n"
     ]
    },
    {
     "name": "stdout",
     "output_type": "stream",
     "text": [
      "    Progress: |██████████████████████████████████████████████████| 100.0%% Complete | ETA: 0:00:00\n",
      "    Elapsed time: 0:02:23\n",
      "    8 | measure: 0.72\n",
      "[psiz] Inferring embedding...\n",
      "    Progress: |--------------------------------------------------| 0.0%% Complete | ETA: 0:00:00\r"
     ]
    },
    {
     "name": "stderr",
     "output_type": "stream",
     "text": [
      "/Users/morton/miniconda3/envs/wikisim2/lib/python3.7/site-packages/tensorflow/python/ops/gradients_util.py:93: UserWarning: Converting sparse IndexedSlices to a dense Tensor of unknown shape. This may consume a large amount of memory.\n",
      "  \"Converting sparse IndexedSlices to a dense Tensor of unknown shape. \"\n"
     ]
    },
    {
     "name": "stdout",
     "output_type": "stream",
     "text": [
      "    Progress: |██████████████████████████████████████████████████| 100.0%% Complete | ETA: 0:00:00\n",
      "    Elapsed time: 0:02:19\n",
      "    9 | measure: 0.93\n",
      "  Shuffle 3\n",
      "[psiz] Inferring embedding...\n",
      "    Progress: |--------------------------------------------------| 0.0%% Complete | ETA: 0:00:00\r"
     ]
    },
    {
     "name": "stderr",
     "output_type": "stream",
     "text": [
      "/Users/morton/miniconda3/envs/wikisim2/lib/python3.7/site-packages/tensorflow/python/ops/gradients_util.py:93: UserWarning: Converting sparse IndexedSlices to a dense Tensor of unknown shape. This may consume a large amount of memory.\n",
      "  \"Converting sparse IndexedSlices to a dense Tensor of unknown shape. \"\n"
     ]
    },
    {
     "name": "stdout",
     "output_type": "stream",
     "text": [
      "    Progress: |██████████████████████████████████████████████████| 100.0%% Complete | ETA: 0:00:00\n",
      "    Elapsed time: 0:02:47\n",
      "[psiz] Inferring embedding...\n",
      "    Progress: |--------------------------------------------------| 0.0%% Complete | ETA: 0:00:00\r"
     ]
    },
    {
     "name": "stderr",
     "output_type": "stream",
     "text": [
      "/Users/morton/miniconda3/envs/wikisim2/lib/python3.7/site-packages/tensorflow/python/ops/gradients_util.py:93: UserWarning: Converting sparse IndexedSlices to a dense Tensor of unknown shape. This may consume a large amount of memory.\n",
      "  \"Converting sparse IndexedSlices to a dense Tensor of unknown shape. \"\n"
     ]
    },
    {
     "name": "stdout",
     "output_type": "stream",
     "text": [
      "    Progress: |██████████████████████████████████████████████████| 100.0%% Complete | ETA: 0:00:00\n",
      "    Elapsed time: 0:02:29\n",
      "    8 | measure: 0.70\n",
      "[psiz] Inferring embedding...\n",
      "    Progress: |--------------------------------------------------| 0.0%% Complete | ETA: 0:00:00\r"
     ]
    },
    {
     "name": "stderr",
     "output_type": "stream",
     "text": [
      "/Users/morton/miniconda3/envs/wikisim2/lib/python3.7/site-packages/tensorflow/python/ops/gradients_util.py:93: UserWarning: Converting sparse IndexedSlices to a dense Tensor of unknown shape. This may consume a large amount of memory.\n",
      "  \"Converting sparse IndexedSlices to a dense Tensor of unknown shape. \"\n"
     ]
    },
    {
     "name": "stdout",
     "output_type": "stream",
     "text": [
      "    Progress: |██████████████████████████████████████████████████| 100.0%% Complete | ETA: 0:00:00\n",
      "    Elapsed time: 0:02:56\n",
      "    9 | measure: 0.88\n",
      "  Shuffle 4\n",
      "[psiz] Inferring embedding...\n",
      "    Progress: |--------------------------------------------------| 0.0%% Complete | ETA: 0:00:00\r"
     ]
    },
    {
     "name": "stderr",
     "output_type": "stream",
     "text": [
      "/Users/morton/miniconda3/envs/wikisim2/lib/python3.7/site-packages/tensorflow/python/ops/gradients_util.py:93: UserWarning: Converting sparse IndexedSlices to a dense Tensor of unknown shape. This may consume a large amount of memory.\n",
      "  \"Converting sparse IndexedSlices to a dense Tensor of unknown shape. \"\n"
     ]
    },
    {
     "name": "stdout",
     "output_type": "stream",
     "text": [
      "    Progress: |██████████████████████████████████████████████████| 100.0%% Complete | ETA: 0:00:00\n",
      "    Elapsed time: 0:02:17\n",
      "[psiz] Inferring embedding...\n",
      "    Progress: |--------------------------------------------------| 0.0%% Complete | ETA: 0:00:00\r"
     ]
    },
    {
     "name": "stderr",
     "output_type": "stream",
     "text": [
      "/Users/morton/miniconda3/envs/wikisim2/lib/python3.7/site-packages/tensorflow/python/ops/gradients_util.py:93: UserWarning: Converting sparse IndexedSlices to a dense Tensor of unknown shape. This may consume a large amount of memory.\n",
      "  \"Converting sparse IndexedSlices to a dense Tensor of unknown shape. \"\n"
     ]
    },
    {
     "name": "stdout",
     "output_type": "stream",
     "text": [
      "    Progress: |██████████████████████████████████████████████████| 100.0%% Complete | ETA: 0:00:00\n",
      "    Elapsed time: 0:02:56\n",
      "    8 | measure: 0.88\n",
      "[psiz] Inferring embedding...\n",
      "    Progress: |--------------------------------------------------| 0.0%% Complete | ETA: 0:00:00\r"
     ]
    },
    {
     "name": "stderr",
     "output_type": "stream",
     "text": [
      "/Users/morton/miniconda3/envs/wikisim2/lib/python3.7/site-packages/tensorflow/python/ops/gradients_util.py:93: UserWarning: Converting sparse IndexedSlices to a dense Tensor of unknown shape. This may consume a large amount of memory.\n",
      "  \"Converting sparse IndexedSlices to a dense Tensor of unknown shape. \"\n"
     ]
    },
    {
     "name": "stdout",
     "output_type": "stream",
     "text": [
      "    Progress: |██████████████████████████████████████████████████| 100.0%% Complete | ETA: 0:00:00\n",
      "    Elapsed time: 0:02:40\n",
      "    9 | measure: 0.88\n",
      "Assessing convergence for condition 3...\n",
      "  Shuffle 1\n",
      "[psiz] Inferring embedding...\n",
      "    Progress: |--------------------------------------------------| 0.0%% Complete | ETA: 0:00:00\r"
     ]
    },
    {
     "name": "stderr",
     "output_type": "stream",
     "text": [
      "/Users/morton/miniconda3/envs/wikisim2/lib/python3.7/site-packages/tensorflow/python/ops/gradients_util.py:93: UserWarning: Converting sparse IndexedSlices to a dense Tensor of unknown shape. This may consume a large amount of memory.\n",
      "  \"Converting sparse IndexedSlices to a dense Tensor of unknown shape. \"\n"
     ]
    },
    {
     "name": "stdout",
     "output_type": "stream",
     "text": [
      "    Progress: |██████████████████████████████████████████████████| 100.0%% Complete | ETA: 0:00:00\n",
      "    Elapsed time: 0:01:54\n",
      "[psiz] Inferring embedding...\n",
      "    Progress: |--------------------------------------------------| 0.0%% Complete | ETA: 0:00:00\r"
     ]
    },
    {
     "name": "stderr",
     "output_type": "stream",
     "text": [
      "/Users/morton/miniconda3/envs/wikisim2/lib/python3.7/site-packages/tensorflow/python/ops/gradients_util.py:93: UserWarning: Converting sparse IndexedSlices to a dense Tensor of unknown shape. This may consume a large amount of memory.\n",
      "  \"Converting sparse IndexedSlices to a dense Tensor of unknown shape. \"\n"
     ]
    },
    {
     "name": "stdout",
     "output_type": "stream",
     "text": [
      "    Progress: |██████████████████████████████████████████████████| 100.0%% Complete | ETA: 0:00:00\n",
      "    Elapsed time: 0:03:01\n",
      "    8 | measure: 0.84\n",
      "[psiz] Inferring embedding...\n",
      "    Progress: |--------------------------------------------------| 0.0%% Complete | ETA: 0:00:00\r"
     ]
    },
    {
     "name": "stderr",
     "output_type": "stream",
     "text": [
      "/Users/morton/miniconda3/envs/wikisim2/lib/python3.7/site-packages/tensorflow/python/ops/gradients_util.py:93: UserWarning: Converting sparse IndexedSlices to a dense Tensor of unknown shape. This may consume a large amount of memory.\n",
      "  \"Converting sparse IndexedSlices to a dense Tensor of unknown shape. \"\n"
     ]
    },
    {
     "name": "stdout",
     "output_type": "stream",
     "text": [
      "    Progress: |██████████████████████████████████████████████████| 100.0%% Complete | ETA: 0:00:00\n",
      "    Elapsed time: 0:02:52\n",
      "    9 | measure: 0.90\n",
      "  Shuffle 2\n",
      "[psiz] Inferring embedding...\n",
      "    Progress: |--------------------------------------------------| 0.0%% Complete | ETA: 0:00:00\r"
     ]
    },
    {
     "name": "stderr",
     "output_type": "stream",
     "text": [
      "/Users/morton/miniconda3/envs/wikisim2/lib/python3.7/site-packages/tensorflow/python/ops/gradients_util.py:93: UserWarning: Converting sparse IndexedSlices to a dense Tensor of unknown shape. This may consume a large amount of memory.\n",
      "  \"Converting sparse IndexedSlices to a dense Tensor of unknown shape. \"\n"
     ]
    },
    {
     "name": "stdout",
     "output_type": "stream",
     "text": [
      "    Progress: |██████████████████████████████████████████████████| 100.0%% Complete | ETA: 0:00:00\n",
      "    Elapsed time: 0:01:44\n",
      "[psiz] Inferring embedding...\n",
      "    Progress: |--------------------------------------------------| 0.0%% Complete | ETA: 0:00:00\r"
     ]
    },
    {
     "name": "stderr",
     "output_type": "stream",
     "text": [
      "/Users/morton/miniconda3/envs/wikisim2/lib/python3.7/site-packages/tensorflow/python/ops/gradients_util.py:93: UserWarning: Converting sparse IndexedSlices to a dense Tensor of unknown shape. This may consume a large amount of memory.\n",
      "  \"Converting sparse IndexedSlices to a dense Tensor of unknown shape. \"\n"
     ]
    },
    {
     "name": "stdout",
     "output_type": "stream",
     "text": [
      "    Progress: |██████████████████████████████████████████████████| 100.0%% Complete | ETA: 0:00:00\n",
      "    Elapsed time: 0:02:25\n",
      "    8 | measure: 0.73\n",
      "[psiz] Inferring embedding...\n",
      "    Progress: |--------------------------------------------------| 0.0%% Complete | ETA: 0:00:00\r"
     ]
    },
    {
     "name": "stderr",
     "output_type": "stream",
     "text": [
      "/Users/morton/miniconda3/envs/wikisim2/lib/python3.7/site-packages/tensorflow/python/ops/gradients_util.py:93: UserWarning: Converting sparse IndexedSlices to a dense Tensor of unknown shape. This may consume a large amount of memory.\n",
      "  \"Converting sparse IndexedSlices to a dense Tensor of unknown shape. \"\n"
     ]
    },
    {
     "name": "stdout",
     "output_type": "stream",
     "text": [
      "    Progress: |██████████████████████████████████████████████████| 100.0%% Complete | ETA: 0:00:00\n",
      "    Elapsed time: 0:02:17\n",
      "    9 | measure: 0.73\n",
      "  Shuffle 3\n",
      "[psiz] Inferring embedding...\n",
      "    Progress: |--------------------------------------------------| 0.0%% Complete | ETA: 0:00:00\r"
     ]
    },
    {
     "name": "stderr",
     "output_type": "stream",
     "text": [
      "/Users/morton/miniconda3/envs/wikisim2/lib/python3.7/site-packages/tensorflow/python/ops/gradients_util.py:93: UserWarning: Converting sparse IndexedSlices to a dense Tensor of unknown shape. This may consume a large amount of memory.\n",
      "  \"Converting sparse IndexedSlices to a dense Tensor of unknown shape. \"\n"
     ]
    },
    {
     "name": "stdout",
     "output_type": "stream",
     "text": [
      "    Progress: |██████████████████████████████████████████████████| 100.0%% Complete | ETA: 0:00:00\n",
      "    Elapsed time: 0:02:06\n",
      "[psiz] Inferring embedding...\n",
      "    Progress: |--------------------------------------------------| 0.0%% Complete | ETA: 0:00:00\r"
     ]
    },
    {
     "name": "stderr",
     "output_type": "stream",
     "text": [
      "/Users/morton/miniconda3/envs/wikisim2/lib/python3.7/site-packages/tensorflow/python/ops/gradients_util.py:93: UserWarning: Converting sparse IndexedSlices to a dense Tensor of unknown shape. This may consume a large amount of memory.\n",
      "  \"Converting sparse IndexedSlices to a dense Tensor of unknown shape. \"\n"
     ]
    },
    {
     "name": "stdout",
     "output_type": "stream",
     "text": [
      "    Progress: |██████████████████████████████████████████████████| 100.0%% Complete | ETA: 0:00:00\n",
      "    Elapsed time: 0:02:38\n",
      "    8 | measure: 0.82\n",
      "[psiz] Inferring embedding...\n",
      "    Progress: |--------------------------------------------------| 0.0%% Complete | ETA: 0:00:00\r"
     ]
    },
    {
     "name": "stderr",
     "output_type": "stream",
     "text": [
      "/Users/morton/miniconda3/envs/wikisim2/lib/python3.7/site-packages/tensorflow/python/ops/gradients_util.py:93: UserWarning: Converting sparse IndexedSlices to a dense Tensor of unknown shape. This may consume a large amount of memory.\n",
      "  \"Converting sparse IndexedSlices to a dense Tensor of unknown shape. \"\n"
     ]
    },
    {
     "name": "stdout",
     "output_type": "stream",
     "text": [
      "    Progress: |██████████████████████████████████████████████████| 100.0%% Complete | ETA: 0:00:00\n",
      "    Elapsed time: 0:02:16\n",
      "    9 | measure: 0.80\n",
      "  Shuffle 4\n",
      "[psiz] Inferring embedding...\n",
      "    Progress: |--------------------------------------------------| 0.0%% Complete | ETA: 0:00:00\r"
     ]
    },
    {
     "name": "stderr",
     "output_type": "stream",
     "text": [
      "/Users/morton/miniconda3/envs/wikisim2/lib/python3.7/site-packages/tensorflow/python/ops/gradients_util.py:93: UserWarning: Converting sparse IndexedSlices to a dense Tensor of unknown shape. This may consume a large amount of memory.\n",
      "  \"Converting sparse IndexedSlices to a dense Tensor of unknown shape. \"\n"
     ]
    },
    {
     "name": "stdout",
     "output_type": "stream",
     "text": [
      "    Progress: |██████████████████████████████████████████████████| 100.0%% Complete | ETA: 0:00:00\n",
      "    Elapsed time: 0:02:15\n",
      "[psiz] Inferring embedding...\n",
      "    Progress: |--------------------------------------------------| 0.0%% Complete | ETA: 0:00:00\r"
     ]
    },
    {
     "name": "stderr",
     "output_type": "stream",
     "text": [
      "/Users/morton/miniconda3/envs/wikisim2/lib/python3.7/site-packages/tensorflow/python/ops/gradients_util.py:93: UserWarning: Converting sparse IndexedSlices to a dense Tensor of unknown shape. This may consume a large amount of memory.\n",
      "  \"Converting sparse IndexedSlices to a dense Tensor of unknown shape. \"\n"
     ]
    },
    {
     "name": "stdout",
     "output_type": "stream",
     "text": [
      "    Progress: |██████████████████████████████████████████████████| 100.0%% Complete | ETA: 0:00:00\n",
      "    Elapsed time: 0:02:15\n",
      "    8 | measure: 0.86\n",
      "[psiz] Inferring embedding...\n",
      "    Progress: |--------------------------------------------------| 0.0%% Complete | ETA: 0:00:00\r"
     ]
    },
    {
     "name": "stderr",
     "output_type": "stream",
     "text": [
      "/Users/morton/miniconda3/envs/wikisim2/lib/python3.7/site-packages/tensorflow/python/ops/gradients_util.py:93: UserWarning: Converting sparse IndexedSlices to a dense Tensor of unknown shape. This may consume a large amount of memory.\n",
      "  \"Converting sparse IndexedSlices to a dense Tensor of unknown shape. \"\n"
     ]
    },
    {
     "name": "stdout",
     "output_type": "stream",
     "text": [
      "    Progress: |██████████████████████████████████████████████████| 100.0%% Complete | ETA: 0:00:00\n",
      "    Elapsed time: 0:02:20\n",
      "    9 | measure: 0.89\n"
     ]
    }
   ],
   "source": [
    "short = embed.cond_convergence(sim.loc[sim['include']])"
   ]
  },
  {
   "cell_type": "code",
   "execution_count": 4,
   "metadata": {},
   "outputs": [
    {
     "data": {
      "text/html": [
       "<div>\n",
       "<style scoped>\n",
       "    .dataframe tbody tr th:only-of-type {\n",
       "        vertical-align: middle;\n",
       "    }\n",
       "\n",
       "    .dataframe tbody tr th {\n",
       "        vertical-align: top;\n",
       "    }\n",
       "\n",
       "    .dataframe thead th {\n",
       "        text-align: right;\n",
       "    }\n",
       "</style>\n",
       "<table border=\"1\" class=\"dataframe\">\n",
       "  <thead>\n",
       "    <tr style=\"text-align: right;\">\n",
       "      <th></th>\n",
       "      <th>partition</th>\n",
       "      <th>sample</th>\n",
       "      <th>n</th>\n",
       "      <th>val</th>\n",
       "      <th>condition</th>\n",
       "    </tr>\n",
       "  </thead>\n",
       "  <tbody>\n",
       "    <tr>\n",
       "      <th>8</th>\n",
       "      <td>8</td>\n",
       "      <td>0</td>\n",
       "      <td>1800</td>\n",
       "      <td>0.860815</td>\n",
       "      <td>1</td>\n",
       "    </tr>\n",
       "    <tr>\n",
       "      <th>18</th>\n",
       "      <td>8</td>\n",
       "      <td>1</td>\n",
       "      <td>1800</td>\n",
       "      <td>0.827528</td>\n",
       "      <td>1</td>\n",
       "    </tr>\n",
       "    <tr>\n",
       "      <th>28</th>\n",
       "      <td>8</td>\n",
       "      <td>2</td>\n",
       "      <td>1800</td>\n",
       "      <td>0.870737</td>\n",
       "      <td>1</td>\n",
       "    </tr>\n",
       "    <tr>\n",
       "      <th>38</th>\n",
       "      <td>8</td>\n",
       "      <td>3</td>\n",
       "      <td>1800</td>\n",
       "      <td>0.884136</td>\n",
       "      <td>1</td>\n",
       "    </tr>\n",
       "    <tr>\n",
       "      <th>9</th>\n",
       "      <td>9</td>\n",
       "      <td>0</td>\n",
       "      <td>1999</td>\n",
       "      <td>0.927785</td>\n",
       "      <td>1</td>\n",
       "    </tr>\n",
       "    <tr>\n",
       "      <th>19</th>\n",
       "      <td>9</td>\n",
       "      <td>1</td>\n",
       "      <td>1999</td>\n",
       "      <td>0.906798</td>\n",
       "      <td>1</td>\n",
       "    </tr>\n",
       "    <tr>\n",
       "      <th>29</th>\n",
       "      <td>9</td>\n",
       "      <td>2</td>\n",
       "      <td>1999</td>\n",
       "      <td>0.851628</td>\n",
       "      <td>1</td>\n",
       "    </tr>\n",
       "    <tr>\n",
       "      <th>39</th>\n",
       "      <td>9</td>\n",
       "      <td>3</td>\n",
       "      <td>1999</td>\n",
       "      <td>0.892569</td>\n",
       "      <td>1</td>\n",
       "    </tr>\n",
       "    <tr>\n",
       "      <th>88</th>\n",
       "      <td>8</td>\n",
       "      <td>0</td>\n",
       "      <td>1605</td>\n",
       "      <td>0.869295</td>\n",
       "      <td>2</td>\n",
       "    </tr>\n",
       "    <tr>\n",
       "      <th>98</th>\n",
       "      <td>8</td>\n",
       "      <td>1</td>\n",
       "      <td>1605</td>\n",
       "      <td>0.719613</td>\n",
       "      <td>2</td>\n",
       "    </tr>\n",
       "    <tr>\n",
       "      <th>108</th>\n",
       "      <td>8</td>\n",
       "      <td>2</td>\n",
       "      <td>1605</td>\n",
       "      <td>0.700882</td>\n",
       "      <td>2</td>\n",
       "    </tr>\n",
       "    <tr>\n",
       "      <th>118</th>\n",
       "      <td>8</td>\n",
       "      <td>3</td>\n",
       "      <td>1605</td>\n",
       "      <td>0.876993</td>\n",
       "      <td>2</td>\n",
       "    </tr>\n",
       "    <tr>\n",
       "      <th>89</th>\n",
       "      <td>9</td>\n",
       "      <td>0</td>\n",
       "      <td>1783</td>\n",
       "      <td>0.852594</td>\n",
       "      <td>2</td>\n",
       "    </tr>\n",
       "    <tr>\n",
       "      <th>99</th>\n",
       "      <td>9</td>\n",
       "      <td>1</td>\n",
       "      <td>1783</td>\n",
       "      <td>0.931799</td>\n",
       "      <td>2</td>\n",
       "    </tr>\n",
       "    <tr>\n",
       "      <th>109</th>\n",
       "      <td>9</td>\n",
       "      <td>2</td>\n",
       "      <td>1783</td>\n",
       "      <td>0.884392</td>\n",
       "      <td>2</td>\n",
       "    </tr>\n",
       "    <tr>\n",
       "      <th>119</th>\n",
       "      <td>9</td>\n",
       "      <td>3</td>\n",
       "      <td>1783</td>\n",
       "      <td>0.876437</td>\n",
       "      <td>2</td>\n",
       "    </tr>\n",
       "    <tr>\n",
       "      <th>128</th>\n",
       "      <td>8</td>\n",
       "      <td>0</td>\n",
       "      <td>1642</td>\n",
       "      <td>0.837285</td>\n",
       "      <td>3</td>\n",
       "    </tr>\n",
       "    <tr>\n",
       "      <th>138</th>\n",
       "      <td>8</td>\n",
       "      <td>1</td>\n",
       "      <td>1642</td>\n",
       "      <td>0.726298</td>\n",
       "      <td>3</td>\n",
       "    </tr>\n",
       "    <tr>\n",
       "      <th>148</th>\n",
       "      <td>8</td>\n",
       "      <td>2</td>\n",
       "      <td>1642</td>\n",
       "      <td>0.818124</td>\n",
       "      <td>3</td>\n",
       "    </tr>\n",
       "    <tr>\n",
       "      <th>158</th>\n",
       "      <td>8</td>\n",
       "      <td>3</td>\n",
       "      <td>1642</td>\n",
       "      <td>0.861310</td>\n",
       "      <td>3</td>\n",
       "    </tr>\n",
       "    <tr>\n",
       "      <th>129</th>\n",
       "      <td>9</td>\n",
       "      <td>0</td>\n",
       "      <td>1824</td>\n",
       "      <td>0.896595</td>\n",
       "      <td>3</td>\n",
       "    </tr>\n",
       "    <tr>\n",
       "      <th>139</th>\n",
       "      <td>9</td>\n",
       "      <td>1</td>\n",
       "      <td>1824</td>\n",
       "      <td>0.731288</td>\n",
       "      <td>3</td>\n",
       "    </tr>\n",
       "    <tr>\n",
       "      <th>149</th>\n",
       "      <td>9</td>\n",
       "      <td>2</td>\n",
       "      <td>1824</td>\n",
       "      <td>0.804544</td>\n",
       "      <td>3</td>\n",
       "    </tr>\n",
       "    <tr>\n",
       "      <th>159</th>\n",
       "      <td>9</td>\n",
       "      <td>3</td>\n",
       "      <td>1824</td>\n",
       "      <td>0.891613</td>\n",
       "      <td>3</td>\n",
       "    </tr>\n",
       "    <tr>\n",
       "      <th>48</th>\n",
       "      <td>8</td>\n",
       "      <td>0</td>\n",
       "      <td>1628</td>\n",
       "      <td>0.921807</td>\n",
       "      <td>4</td>\n",
       "    </tr>\n",
       "    <tr>\n",
       "      <th>58</th>\n",
       "      <td>8</td>\n",
       "      <td>1</td>\n",
       "      <td>1628</td>\n",
       "      <td>0.843485</td>\n",
       "      <td>4</td>\n",
       "    </tr>\n",
       "    <tr>\n",
       "      <th>68</th>\n",
       "      <td>8</td>\n",
       "      <td>2</td>\n",
       "      <td>1628</td>\n",
       "      <td>0.873213</td>\n",
       "      <td>4</td>\n",
       "    </tr>\n",
       "    <tr>\n",
       "      <th>78</th>\n",
       "      <td>8</td>\n",
       "      <td>3</td>\n",
       "      <td>1628</td>\n",
       "      <td>0.903327</td>\n",
       "      <td>4</td>\n",
       "    </tr>\n",
       "    <tr>\n",
       "      <th>49</th>\n",
       "      <td>9</td>\n",
       "      <td>0</td>\n",
       "      <td>1808</td>\n",
       "      <td>0.931829</td>\n",
       "      <td>4</td>\n",
       "    </tr>\n",
       "    <tr>\n",
       "      <th>59</th>\n",
       "      <td>9</td>\n",
       "      <td>1</td>\n",
       "      <td>1808</td>\n",
       "      <td>0.929834</td>\n",
       "      <td>4</td>\n",
       "    </tr>\n",
       "    <tr>\n",
       "      <th>69</th>\n",
       "      <td>9</td>\n",
       "      <td>2</td>\n",
       "      <td>1808</td>\n",
       "      <td>0.953599</td>\n",
       "      <td>4</td>\n",
       "    </tr>\n",
       "    <tr>\n",
       "      <th>79</th>\n",
       "      <td>9</td>\n",
       "      <td>3</td>\n",
       "      <td>1808</td>\n",
       "      <td>0.924339</td>\n",
       "      <td>4</td>\n",
       "    </tr>\n",
       "  </tbody>\n",
       "</table>\n",
       "</div>"
      ],
      "text/plain": [
       "     partition  sample     n       val  condition\n",
       "8            8       0  1800  0.860815          1\n",
       "18           8       1  1800  0.827528          1\n",
       "28           8       2  1800  0.870737          1\n",
       "38           8       3  1800  0.884136          1\n",
       "9            9       0  1999  0.927785          1\n",
       "19           9       1  1999  0.906798          1\n",
       "29           9       2  1999  0.851628          1\n",
       "39           9       3  1999  0.892569          1\n",
       "88           8       0  1605  0.869295          2\n",
       "98           8       1  1605  0.719613          2\n",
       "108          8       2  1605  0.700882          2\n",
       "118          8       3  1605  0.876993          2\n",
       "89           9       0  1783  0.852594          2\n",
       "99           9       1  1783  0.931799          2\n",
       "109          9       2  1783  0.884392          2\n",
       "119          9       3  1783  0.876437          2\n",
       "128          8       0  1642  0.837285          3\n",
       "138          8       1  1642  0.726298          3\n",
       "148          8       2  1642  0.818124          3\n",
       "158          8       3  1642  0.861310          3\n",
       "129          9       0  1824  0.896595          3\n",
       "139          9       1  1824  0.731288          3\n",
       "149          9       2  1824  0.804544          3\n",
       "159          9       3  1824  0.891613          3\n",
       "48           8       0  1628  0.921807          4\n",
       "58           8       1  1628  0.843485          4\n",
       "68           8       2  1628  0.873213          4\n",
       "78           8       3  1628  0.903327          4\n",
       "49           9       0  1808  0.931829          4\n",
       "59           9       1  1808  0.929834          4\n",
       "69           9       2  1808  0.953599          4\n",
       "79           9       3  1808  0.924339          4"
      ]
     },
     "execution_count": 4,
     "metadata": {},
     "output_type": "execute_result"
    }
   ],
   "source": [
    "short"
   ]
  },
  {
   "cell_type": "code",
   "execution_count": 5,
   "metadata": {},
   "outputs": [
    {
     "data": {
      "text/plain": [
       "<matplotlib.axes._subplots.AxesSubplot at 0x7f984d124790>"
      ]
     },
     "execution_count": 5,
     "metadata": {},
     "output_type": "execute_result"
    },
    {
     "data": {
      "image/png": "[encoded data removed]",
      "text/plain": [
       "<Figure size 432x288 with 1 Axes>"
      ]
     },
     "metadata": {
      "needs_background": "light"
     },
     "output_type": "display_data"
    }
   ],
   "source": [
    "sns.pointplot(x='partition', y='val', hue='condition', dodge=True, data=short)"
   ]
  },
  {
   "cell_type": "code",
   "execution_count": 6,
   "metadata": {},
   "outputs": [
    {
     "data": {
      "text/html": [
       "<div>\n",
       "<style scoped>\n",
       "    .dataframe tbody tr th:only-of-type {\n",
       "        vertical-align: middle;\n",
       "    }\n",
       "\n",
       "    .dataframe tbody tr th {\n",
       "        vertical-align: top;\n",
       "    }\n",
       "\n",
       "    .dataframe thead th {\n",
       "        text-align: right;\n",
       "    }\n",
       "</style>\n",
       "<table border=\"1\" class=\"dataframe\">\n",
       "  <thead>\n",
       "    <tr style=\"text-align: right;\">\n",
       "      <th></th>\n",
       "      <th></th>\n",
       "      <th>sample</th>\n",
       "      <th>n</th>\n",
       "      <th>val</th>\n",
       "    </tr>\n",
       "    <tr>\n",
       "      <th>condition</th>\n",
       "      <th>partition</th>\n",
       "      <th></th>\n",
       "      <th></th>\n",
       "      <th></th>\n",
       "    </tr>\n",
       "  </thead>\n",
       "  <tbody>\n",
       "    <tr>\n",
       "      <th rowspan=\"2\" valign=\"top\">1</th>\n",
       "      <th>8</th>\n",
       "      <td>1.5</td>\n",
       "      <td>1800.0</td>\n",
       "      <td>0.860804</td>\n",
       "    </tr>\n",
       "    <tr>\n",
       "      <th>9</th>\n",
       "      <td>1.5</td>\n",
       "      <td>1999.0</td>\n",
       "      <td>0.894695</td>\n",
       "    </tr>\n",
       "    <tr>\n",
       "      <th rowspan=\"2\" valign=\"top\">2</th>\n",
       "      <th>8</th>\n",
       "      <td>1.5</td>\n",
       "      <td>1605.0</td>\n",
       "      <td>0.791696</td>\n",
       "    </tr>\n",
       "    <tr>\n",
       "      <th>9</th>\n",
       "      <td>1.5</td>\n",
       "      <td>1783.0</td>\n",
       "      <td>0.886306</td>\n",
       "    </tr>\n",
       "    <tr>\n",
       "      <th rowspan=\"2\" valign=\"top\">3</th>\n",
       "      <th>8</th>\n",
       "      <td>1.5</td>\n",
       "      <td>1642.0</td>\n",
       "      <td>0.810754</td>\n",
       "    </tr>\n",
       "    <tr>\n",
       "      <th>9</th>\n",
       "      <td>1.5</td>\n",
       "      <td>1824.0</td>\n",
       "      <td>0.831010</td>\n",
       "    </tr>\n",
       "    <tr>\n",
       "      <th rowspan=\"2\" valign=\"top\">4</th>\n",
       "      <th>8</th>\n",
       "      <td>1.5</td>\n",
       "      <td>1628.0</td>\n",
       "      <td>0.885458</td>\n",
       "    </tr>\n",
       "    <tr>\n",
       "      <th>9</th>\n",
       "      <td>1.5</td>\n",
       "      <td>1808.0</td>\n",
       "      <td>0.934900</td>\n",
       "    </tr>\n",
       "  </tbody>\n",
       "</table>\n",
       "</div>"
      ],
      "text/plain": [
       "                     sample       n       val\n",
       "condition partition                          \n",
       "1         8             1.5  1800.0  0.860804\n",
       "          9             1.5  1999.0  0.894695\n",
       "2         8             1.5  1605.0  0.791696\n",
       "          9             1.5  1783.0  0.886306\n",
       "3         8             1.5  1642.0  0.810754\n",
       "          9             1.5  1824.0  0.831010\n",
       "4         8             1.5  1628.0  0.885458\n",
       "          9             1.5  1808.0  0.934900"
      ]
     },
     "execution_count": 6,
     "metadata": {},
     "output_type": "execute_result"
    }
   ],
   "source": [
    "short.groupby(['condition', 'partition']).mean()"
   ]
  }
 ],
 "metadata": {
  "kernelspec": {
   "display_name": "wikisim2",
   "language": "python",
   "name": "wikisim2"
  },
  "language_info": {
   "codemirror_mode": {
    "name": "ipython",
    "version": 3
   },
   "file_extension": ".py",
   "mimetype": "text/x-python",
   "name": "python",
   "nbconvert_exporter": "python",
   "pygments_lexer": "ipython3",
   "version": "3.7.7"
  }
 },
 "nbformat": 4,
 "nbformat_minor": 4
}
