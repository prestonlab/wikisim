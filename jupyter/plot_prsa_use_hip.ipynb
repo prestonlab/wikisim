{
 "cells": [
  {
   "cell_type": "markdown",
   "metadata": {},
   "source": [
    "# Analysis of hip ROIs"
   ]
  },
  {
   "cell_type": "code",
   "execution_count": 1,
   "metadata": {},
   "outputs": [],
   "source": [
    "import os\n",
    "import numpy as np\n",
    "import pandas as pd\n",
    "import matplotlib.pyplot as plt\n",
    "import seaborn as sns\n",
    "import importlib\n",
    "from bender import rsa\n",
    "from bender import figures\n",
    "\n",
    "rsa_dir = '/Users/morton/Dropbox/work/bender/batch/rsa'\n",
    "fig_dir = '/Users/morton/Dropbox/work/bender/figs_wikisim2/rois'\n",
    "if not os.path.exists(fig_dir):\n",
    "    os.makedirs(fig_dir)\n",
    "\n",
    "# controls plot precision; use 1000 for testing, 100000 for final\n",
    "opt = {'n_perm': 100000, 'n_boot': 100000, \n",
    "       'max_offset': 4, 'sig_offset': 3.5}\n",
    "figsize = (3.5, 2.5)\n",
    "\n",
    "rois = rsa.define_network(['hmx_use_face_hip_dil2', 'hmx_use_scene_hip_dil2'],\n",
    "                          ['Face cluster', 'Scene cluster'], [0, 0], \n",
    "                          ['cluster1', 'cluster2'], ['cluster1', 'cluster2'])"
   ]
  },
  {
   "cell_type": "markdown",
   "metadata": {},
   "source": [
    "## Face semantics\n",
    "\n",
    "Controlling for just the visual model, adding gender, and adding occupation."
   ]
  },
  {
   "cell_type": "code",
   "execution_count": 2,
   "metadata": {},
   "outputs": [],
   "source": [
    "zstat_face_hmx_use = rsa.load_net_zstat(rsa_dir, 'prsa_hmx_use', 'face', rois)\n",
    "zstat_face_hmx_sub_use = rsa.load_net_zstat(rsa_dir, 'prsa_hmx_sub_use', 'face', rois)\n",
    "zstat_face_hmx_sub_occ_use = rsa.load_net_zstat(rsa_dir, 'prsa_hmx_sub_occ_use', 'face', rois)"
   ]
  },
  {
   "cell_type": "code",
   "execution_count": 3,
   "metadata": {},
   "outputs": [
    {
     "data": {
      "text/html": [
       "<div>\n",
       "<style scoped>\n",
       "    .dataframe tbody tr th:only-of-type {\n",
       "        vertical-align: middle;\n",
       "    }\n",
       "\n",
       "    .dataframe tbody tr th {\n",
       "        vertical-align: top;\n",
       "    }\n",
       "\n",
       "    .dataframe thead th {\n",
       "        text-align: right;\n",
       "    }\n",
       "</style>\n",
       "<table border=\"1\" class=\"dataframe\">\n",
       "  <thead>\n",
       "    <tr style=\"text-align: right;\">\n",
       "      <th></th>\n",
       "      <th>mean</th>\n",
       "      <th>sem</th>\n",
       "      <th>p</th>\n",
       "      <th>p_cor</th>\n",
       "    </tr>\n",
       "  </thead>\n",
       "  <tbody>\n",
       "    <tr>\n",
       "      <th>Face cluster</th>\n",
       "      <td>0.517406</td>\n",
       "      <td>0.161801</td>\n",
       "      <td>0.001470</td>\n",
       "      <td>0.000985</td>\n",
       "    </tr>\n",
       "    <tr>\n",
       "      <th>Scene cluster</th>\n",
       "      <td>-0.050407</td>\n",
       "      <td>0.166232</td>\n",
       "      <td>0.620504</td>\n",
       "      <td>0.612759</td>\n",
       "    </tr>\n",
       "  </tbody>\n",
       "</table>\n",
       "</div>"
      ],
      "text/plain": [
       "                   mean       sem         p     p_cor\n",
       "Face cluster   0.517406  0.161801  0.001470  0.000985\n",
       "Scene cluster -0.050407  0.166232  0.620504  0.612759"
      ]
     },
     "execution_count": 3,
     "metadata": {},
     "output_type": "execute_result"
    },
    {
     "data": {
      "image/png": "[encoded data removed]",
      "text/plain": [
       "<Figure size 252x180 with 1 Axes>"
      ]
     },
     "metadata": {
      "needs_background": "light"
     },
     "output_type": "display_data"
    }
   ],
   "source": [
    "fig, ax = plt.subplots(figsize=figsize)\n",
    "sig = figures.plot_zstat_perm(zstat_face_hmx_use, 'wiki_use1', 'face', ax=ax, **opt)\n",
    "fig.savefig(os.path.join(fig_dir, 'prsa_hip_face_use.pdf'))\n",
    "sig"
   ]
  },
  {
   "cell_type": "code",
   "execution_count": 4,
   "metadata": {},
   "outputs": [
    {
     "data": {
      "text/html": [
       "<div>\n",
       "<style scoped>\n",
       "    .dataframe tbody tr th:only-of-type {\n",
       "        vertical-align: middle;\n",
       "    }\n",
       "\n",
       "    .dataframe tbody tr th {\n",
       "        vertical-align: top;\n",
       "    }\n",
       "\n",
       "    .dataframe thead th {\n",
       "        text-align: right;\n",
       "    }\n",
       "</style>\n",
       "<table border=\"1\" class=\"dataframe\">\n",
       "  <thead>\n",
       "    <tr style=\"text-align: right;\">\n",
       "      <th></th>\n",
       "      <th>mean</th>\n",
       "      <th>sem</th>\n",
       "      <th>p</th>\n",
       "      <th>p_cor</th>\n",
       "    </tr>\n",
       "  </thead>\n",
       "  <tbody>\n",
       "    <tr>\n",
       "      <th>Face cluster</th>\n",
       "      <td>0.509107</td>\n",
       "      <td>0.161624</td>\n",
       "      <td>0.001560</td>\n",
       "      <td>0.001135</td>\n",
       "    </tr>\n",
       "    <tr>\n",
       "      <th>Scene cluster</th>\n",
       "      <td>-0.057071</td>\n",
       "      <td>0.167956</td>\n",
       "      <td>0.632754</td>\n",
       "      <td>0.625924</td>\n",
       "    </tr>\n",
       "  </tbody>\n",
       "</table>\n",
       "</div>"
      ],
      "text/plain": [
       "                   mean       sem         p     p_cor\n",
       "Face cluster   0.509107  0.161624  0.001560  0.001135\n",
       "Scene cluster -0.057071  0.167956  0.632754  0.625924"
      ]
     },
     "execution_count": 4,
     "metadata": {},
     "output_type": "execute_result"
    },
    {
     "data": {
      "image/png": "[encoded data removed]",
      "text/plain": [
       "<Figure size 252x180 with 1 Axes>"
      ]
     },
     "metadata": {
      "needs_background": "light"
     },
     "output_type": "display_data"
    }
   ],
   "source": [
    "fig, ax = plt.subplots(figsize=figsize)\n",
    "sig = figures.plot_zstat_perm(zstat_face_hmx_sub_use, 'wiki_use1', 'face', ax=ax, **opt)\n",
    "fig.savefig(os.path.join(fig_dir, 'prsa_hip_face_sub_use.pdf'))\n",
    "sig"
   ]
  },
  {
   "cell_type": "code",
   "execution_count": 5,
   "metadata": {},
   "outputs": [
    {
     "data": {
      "text/html": [
       "<div>\n",
       "<style scoped>\n",
       "    .dataframe tbody tr th:only-of-type {\n",
       "        vertical-align: middle;\n",
       "    }\n",
       "\n",
       "    .dataframe tbody tr th {\n",
       "        vertical-align: top;\n",
       "    }\n",
       "\n",
       "    .dataframe thead th {\n",
       "        text-align: right;\n",
       "    }\n",
       "</style>\n",
       "<table border=\"1\" class=\"dataframe\">\n",
       "  <thead>\n",
       "    <tr style=\"text-align: right;\">\n",
       "      <th></th>\n",
       "      <th>mean</th>\n",
       "      <th>sem</th>\n",
       "      <th>p</th>\n",
       "      <th>p_cor</th>\n",
       "    </tr>\n",
       "  </thead>\n",
       "  <tbody>\n",
       "    <tr>\n",
       "      <th>Face cluster</th>\n",
       "      <td>0.515496</td>\n",
       "      <td>0.122580</td>\n",
       "      <td>0.000110</td>\n",
       "      <td>0.001530</td>\n",
       "    </tr>\n",
       "    <tr>\n",
       "      <th>Scene cluster</th>\n",
       "      <td>-0.013042</td>\n",
       "      <td>0.195262</td>\n",
       "      <td>0.525445</td>\n",
       "      <td>0.530795</td>\n",
       "    </tr>\n",
       "  </tbody>\n",
       "</table>\n",
       "</div>"
      ],
      "text/plain": [
       "                   mean       sem         p     p_cor\n",
       "Face cluster   0.515496  0.122580  0.000110  0.001530\n",
       "Scene cluster -0.013042  0.195262  0.525445  0.530795"
      ]
     },
     "execution_count": 5,
     "metadata": {},
     "output_type": "execute_result"
    },
    {
     "data": {
      "image/png": "[encoded data removed]",
      "text/plain": [
       "<Figure size 252x180 with 1 Axes>"
      ]
     },
     "metadata": {
      "needs_background": "light"
     },
     "output_type": "display_data"
    }
   ],
   "source": [
    "fig, ax = plt.subplots(figsize=figsize)\n",
    "sig = figures.plot_zstat_perm(zstat_face_hmx_sub_occ_use, 'wiki_use1', 'face', ax=ax, **opt)\n",
    "fig.savefig(os.path.join(fig_dir, 'prsa_hip_face_sub_occ_use.pdf'))\n",
    "sig"
   ]
  },
  {
   "cell_type": "markdown",
   "metadata": {},
   "source": [
    "## Scene semantics\n",
    "\n",
    "Controlling for just the visual model, then adding visual category and subcategory."
   ]
  },
  {
   "cell_type": "code",
   "execution_count": 6,
   "metadata": {},
   "outputs": [],
   "source": [
    "zstat_scene_hmx_use = rsa.load_net_zstat(rsa_dir, 'prsa_hmx_use', 'scene', rois)\n",
    "zstat_scene_hmx_sub_typ_use = rsa.load_net_zstat(rsa_dir, 'prsa_hmx_sub_typ_use', 'scene', rois)"
   ]
  },
  {
   "cell_type": "code",
   "execution_count": 7,
   "metadata": {},
   "outputs": [
    {
     "data": {
      "text/html": [
       "<div>\n",
       "<style scoped>\n",
       "    .dataframe tbody tr th:only-of-type {\n",
       "        vertical-align: middle;\n",
       "    }\n",
       "\n",
       "    .dataframe tbody tr th {\n",
       "        vertical-align: top;\n",
       "    }\n",
       "\n",
       "    .dataframe thead th {\n",
       "        text-align: right;\n",
       "    }\n",
       "</style>\n",
       "<table border=\"1\" class=\"dataframe\">\n",
       "  <thead>\n",
       "    <tr style=\"text-align: right;\">\n",
       "      <th></th>\n",
       "      <th>mean</th>\n",
       "      <th>sem</th>\n",
       "      <th>p</th>\n",
       "      <th>p_cor</th>\n",
       "    </tr>\n",
       "  </thead>\n",
       "  <tbody>\n",
       "    <tr>\n",
       "      <th>Face cluster</th>\n",
       "      <td>0.163309</td>\n",
       "      <td>0.209386</td>\n",
       "      <td>0.219418</td>\n",
       "      <td>0.209193</td>\n",
       "    </tr>\n",
       "    <tr>\n",
       "      <th>Scene cluster</th>\n",
       "      <td>0.578959</td>\n",
       "      <td>0.164726</td>\n",
       "      <td>0.000590</td>\n",
       "      <td>0.001200</td>\n",
       "    </tr>\n",
       "  </tbody>\n",
       "</table>\n",
       "</div>"
      ],
      "text/plain": [
       "                   mean       sem         p     p_cor\n",
       "Face cluster   0.163309  0.209386  0.219418  0.209193\n",
       "Scene cluster  0.578959  0.164726  0.000590  0.001200"
      ]
     },
     "execution_count": 7,
     "metadata": {},
     "output_type": "execute_result"
    },
    {
     "data": {
      "image/png": "[encoded data removed]",
      "text/plain": [
       "<Figure size 252x180 with 1 Axes>"
      ]
     },
     "metadata": {
      "needs_background": "light"
     },
     "output_type": "display_data"
    }
   ],
   "source": [
    "fig, ax = plt.subplots(figsize=figsize)\n",
    "sig = figures.plot_zstat_perm(zstat_scene_hmx_use, 'wiki_use1', 'scene', ax=ax, **opt)\n",
    "fig.savefig(os.path.join(fig_dir, 'prsa_hip_scene_use.pdf'))\n",
    "sig"
   ]
  },
  {
   "cell_type": "code",
   "execution_count": 8,
   "metadata": {},
   "outputs": [
    {
     "data": {
      "text/html": [
       "<div>\n",
       "<style scoped>\n",
       "    .dataframe tbody tr th:only-of-type {\n",
       "        vertical-align: middle;\n",
       "    }\n",
       "\n",
       "    .dataframe tbody tr th {\n",
       "        vertical-align: top;\n",
       "    }\n",
       "\n",
       "    .dataframe thead th {\n",
       "        text-align: right;\n",
       "    }\n",
       "</style>\n",
       "<table border=\"1\" class=\"dataframe\">\n",
       "  <thead>\n",
       "    <tr style=\"text-align: right;\">\n",
       "      <th></th>\n",
       "      <th>mean</th>\n",
       "      <th>sem</th>\n",
       "      <th>p</th>\n",
       "      <th>p_cor</th>\n",
       "    </tr>\n",
       "  </thead>\n",
       "  <tbody>\n",
       "    <tr>\n",
       "      <th>Face cluster</th>\n",
       "      <td>0.152310</td>\n",
       "      <td>0.178970</td>\n",
       "      <td>0.200278</td>\n",
       "      <td>0.188418</td>\n",
       "    </tr>\n",
       "    <tr>\n",
       "      <th>Scene cluster</th>\n",
       "      <td>0.401854</td>\n",
       "      <td>0.145703</td>\n",
       "      <td>0.004360</td>\n",
       "      <td>0.007805</td>\n",
       "    </tr>\n",
       "  </tbody>\n",
       "</table>\n",
       "</div>"
      ],
      "text/plain": [
       "                   mean       sem         p     p_cor\n",
       "Face cluster   0.152310  0.178970  0.200278  0.188418\n",
       "Scene cluster  0.401854  0.145703  0.004360  0.007805"
      ]
     },
     "execution_count": 8,
     "metadata": {},
     "output_type": "execute_result"
    },
    {
     "data": {
      "image/png": "[encoded data removed]",
      "text/plain": [
       "<Figure size 252x180 with 1 Axes>"
      ]
     },
     "metadata": {
      "needs_background": "light"
     },
     "output_type": "display_data"
    }
   ],
   "source": [
    "fig, ax = plt.subplots(figsize=figsize)\n",
    "sig = figures.plot_zstat_perm(zstat_scene_hmx_sub_typ_use, 'wiki_use1', 'scene', ax=ax, **opt)\n",
    "fig.savefig(os.path.join(fig_dir, 'prsa_hip_scene_sub_typ_use.pdf'))\n",
    "sig"
   ]
  },
  {
   "cell_type": "markdown",
   "metadata": {},
   "source": [
    "## Scene geography"
   ]
  },
  {
   "cell_type": "code",
   "execution_count": 9,
   "metadata": {},
   "outputs": [],
   "source": [
    "zstat_scene_hmx_use_geo = rsa.load_net_zstat(rsa_dir, 'prsa_hmx_use_geo', 'scene', rois)\n",
    "zstat_scene_hmx_reg_use_geo = rsa.load_net_zstat(rsa_dir, 'prsa_hmx_use_reg_geo', 'scene', rois)"
   ]
  },
  {
   "cell_type": "code",
   "execution_count": 10,
   "metadata": {},
   "outputs": [
    {
     "data": {
      "text/html": [
       "<div>\n",
       "<style scoped>\n",
       "    .dataframe tbody tr th:only-of-type {\n",
       "        vertical-align: middle;\n",
       "    }\n",
       "\n",
       "    .dataframe tbody tr th {\n",
       "        vertical-align: top;\n",
       "    }\n",
       "\n",
       "    .dataframe thead th {\n",
       "        text-align: right;\n",
       "    }\n",
       "</style>\n",
       "<table border=\"1\" class=\"dataframe\">\n",
       "  <thead>\n",
       "    <tr style=\"text-align: right;\">\n",
       "      <th></th>\n",
       "      <th>mean</th>\n",
       "      <th>sem</th>\n",
       "      <th>p</th>\n",
       "      <th>p_cor</th>\n",
       "    </tr>\n",
       "  </thead>\n",
       "  <tbody>\n",
       "    <tr>\n",
       "      <th>Face cluster</th>\n",
       "      <td>0.205497</td>\n",
       "      <td>0.165539</td>\n",
       "      <td>0.110239</td>\n",
       "      <td>0.096954</td>\n",
       "    </tr>\n",
       "    <tr>\n",
       "      <th>Scene cluster</th>\n",
       "      <td>-0.165235</td>\n",
       "      <td>0.146851</td>\n",
       "      <td>0.865011</td>\n",
       "      <td>0.850701</td>\n",
       "    </tr>\n",
       "  </tbody>\n",
       "</table>\n",
       "</div>"
      ],
      "text/plain": [
       "                   mean       sem         p     p_cor\n",
       "Face cluster   0.205497  0.165539  0.110239  0.096954\n",
       "Scene cluster -0.165235  0.146851  0.865011  0.850701"
      ]
     },
     "execution_count": 10,
     "metadata": {},
     "output_type": "execute_result"
    },
    {
     "data": {
      "image/png": "[encoded data removed]",
      "text/plain": [
       "<Figure size 252x180 with 1 Axes>"
      ]
     },
     "metadata": {
      "needs_background": "light"
     },
     "output_type": "display_data"
    }
   ],
   "source": [
    "fig, ax = plt.subplots(figsize=figsize)\n",
    "sig = figures.plot_zstat_perm(zstat_scene_hmx_use_geo, 'geo', 'geo', ax=ax, **opt)\n",
    "fig.savefig(os.path.join(fig_dir, 'prsa_hip_use_geo.pdf'))\n",
    "sig"
   ]
  },
  {
   "cell_type": "code",
   "execution_count": 11,
   "metadata": {},
   "outputs": [
    {
     "data": {
      "text/html": [
       "<div>\n",
       "<style scoped>\n",
       "    .dataframe tbody tr th:only-of-type {\n",
       "        vertical-align: middle;\n",
       "    }\n",
       "\n",
       "    .dataframe tbody tr th {\n",
       "        vertical-align: top;\n",
       "    }\n",
       "\n",
       "    .dataframe thead th {\n",
       "        text-align: right;\n",
       "    }\n",
       "</style>\n",
       "<table border=\"1\" class=\"dataframe\">\n",
       "  <thead>\n",
       "    <tr style=\"text-align: right;\">\n",
       "      <th></th>\n",
       "      <th>mean</th>\n",
       "      <th>sem</th>\n",
       "      <th>p</th>\n",
       "      <th>p_cor</th>\n",
       "    </tr>\n",
       "  </thead>\n",
       "  <tbody>\n",
       "    <tr>\n",
       "      <th>Face cluster</th>\n",
       "      <td>0.004161</td>\n",
       "      <td>0.230210</td>\n",
       "      <td>0.493085</td>\n",
       "      <td>0.492310</td>\n",
       "    </tr>\n",
       "    <tr>\n",
       "      <th>Scene cluster</th>\n",
       "      <td>-0.044122</td>\n",
       "      <td>0.179497</td>\n",
       "      <td>0.596164</td>\n",
       "      <td>0.585314</td>\n",
       "    </tr>\n",
       "  </tbody>\n",
       "</table>\n",
       "</div>"
      ],
      "text/plain": [
       "                   mean       sem         p     p_cor\n",
       "Face cluster   0.004161  0.230210  0.493085  0.492310\n",
       "Scene cluster -0.044122  0.179497  0.596164  0.585314"
      ]
     },
     "execution_count": 11,
     "metadata": {},
     "output_type": "execute_result"
    },
    {
     "data": {
      "image/png": "[encoded data removed]",
      "text/plain": [
       "<Figure size 252x180 with 1 Axes>"
      ]
     },
     "metadata": {
      "needs_background": "light"
     },
     "output_type": "display_data"
    }
   ],
   "source": [
    "fig, ax = plt.subplots(figsize=figsize)\n",
    "sig = figures.plot_zstat_perm(zstat_scene_hmx_reg_use_geo, 'geo', 'geo', ax=ax, **opt)\n",
    "fig.savefig(os.path.join(fig_dir, 'prsa_hip_reg_use_geo.pdf'))\n",
    "sig"
   ]
  }
 ],
 "metadata": {
  "kernelspec": {
   "display_name": "wikisim",
   "language": "python",
   "name": "wikisim"
  },
  "language_info": {
   "codemirror_mode": {
    "name": "ipython",
    "version": 3
   },
   "file_extension": ".py",
   "mimetype": "text/x-python",
   "name": "python",
   "nbconvert_exporter": "python",
   "pygments_lexer": "ipython3",
   "version": "3.7.7"
  }
 },
 "nbformat": 4,
 "nbformat_minor": 4
}
