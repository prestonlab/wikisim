{
 "cells": [
  {
   "cell_type": "markdown",
   "metadata": {},
   "source": [
    "# Analysis of hip ROIs"
   ]
  },
  {
   "cell_type": "code",
   "execution_count": 1,
   "metadata": {},
   "outputs": [],
   "source": [
    "import os\n",
    "import matplotlib.pyplot as plt\n",
    "\n",
    "from wikisim import rsa\n",
    "from wikisim import figures\n",
    "\n",
    "rsa_dir = '/Users/morton/Dropbox/work/bender/batch/rsa'\n",
    "fig_dir = '/Users/morton/Dropbox/work/bender/figs_wikisim3/rois'\n",
    "if not os.path.exists(fig_dir):\n",
    "    os.makedirs(fig_dir)\n",
    "\n",
    "# controls plot precision; use 1000 for testing, 100000 for final\n",
    "opt = {'n_perm': 100000, 'n_boot': 100000, \n",
    "       'max_offset': 4, 'sig_offset': 3.5}\n",
    "figsize = (3.5, 2.5)\n",
    "\n",
    "rois = rsa.define_network(\n",
    "    ['hmx_use_face_hip_dil2', 'hmx_use_scene_hip_dil2'],\n",
    "    ['Face cluster', 'Scene cluster'], [0, 0],\n",
    "    ['cluster1', 'cluster2'], ['cluster1', 'cluster2']\n",
    ")"
   ]
  },
  {
   "cell_type": "markdown",
   "metadata": {},
   "source": [
    "## Face semantics\n",
    "\n",
    "Controlling for just the visual model, adding gender, and adding occupation."
   ]
  },
  {
   "cell_type": "code",
   "execution_count": 2,
   "metadata": {},
   "outputs": [],
   "source": [
    "zstat_face_hmx_use = rsa.load_net_zstat(\n",
    "    rsa_dir, 'prsa_hmx_use', 'face', rois\n",
    ")\n",
    "zstat_face_hmx_sub_use = rsa.load_net_zstat(\n",
    "    rsa_dir, 'prsa_hmx_sub_use', 'face', rois\n",
    ")\n",
    "zstat_face_hmx_sub_occ_use = rsa.load_net_zstat(\n",
    "    rsa_dir, 'prsa_hmx_sub_occ_use', 'face', rois\n",
    ")"
   ]
  },
  {
   "cell_type": "code",
   "execution_count": 4,
   "metadata": {},
   "outputs": [
    {
     "data": {
      "text/html": [
       "<div>\n",
       "<style scoped>\n",
       "    .dataframe tbody tr th:only-of-type {\n",
       "        vertical-align: middle;\n",
       "    }\n",
       "\n",
       "    .dataframe tbody tr th {\n",
       "        vertical-align: top;\n",
       "    }\n",
       "\n",
       "    .dataframe thead th {\n",
       "        text-align: right;\n",
       "    }\n",
       "</style>\n",
       "<table border=\"1\" class=\"dataframe\">\n",
       "  <thead>\n",
       "    <tr style=\"text-align: right;\">\n",
       "      <th></th>\n",
       "      <th>mean</th>\n",
       "      <th>sem</th>\n",
       "      <th>std</th>\n",
       "      <th>p</th>\n",
       "      <th>p_cor</th>\n",
       "      <th>d</th>\n",
       "    </tr>\n",
       "  </thead>\n",
       "  <tbody>\n",
       "    <tr>\n",
       "      <th>Face cluster</th>\n",
       "      <td>0.509107</td>\n",
       "      <td>0.161624</td>\n",
       "      <td>0.928457</td>\n",
       "      <td>0.001630</td>\n",
       "      <td>0.001180</td>\n",
       "      <td>0.548337</td>\n",
       "    </tr>\n",
       "    <tr>\n",
       "      <th>Scene cluster</th>\n",
       "      <td>-0.057071</td>\n",
       "      <td>0.167956</td>\n",
       "      <td>0.964835</td>\n",
       "      <td>0.633404</td>\n",
       "      <td>0.626364</td>\n",
       "      <td>0.059151</td>\n",
       "    </tr>\n",
       "  </tbody>\n",
       "</table>\n",
       "</div>"
      ],
      "text/plain": [
       "                   mean       sem       std         p     p_cor         d\n",
       "Face cluster   0.509107  0.161624  0.928457  0.001630  0.001180  0.548337\n",
       "Scene cluster -0.057071  0.167956  0.964835  0.633404  0.626364  0.059151"
      ]
     },
     "execution_count": 4,
     "metadata": {},
     "output_type": "execute_result"
    },
    {
     "data": {
      "image/png": "[encoded data removed]",
      "text/plain": [
       "<Figure size 252x180 with 1 Axes>"
      ]
     },
     "metadata": {
      "needs_background": "light"
     },
     "output_type": "display_data"
    }
   ],
   "source": [
    "fig, ax = plt.subplots(figsize=figsize)\n",
    "sig = figures.plot_zstat_perm(\n",
    "    zstat_face_hmx_sub_use, 'wiki_use1', 'face', ax=ax, **opt\n",
    ")\n",
    "fig.savefig(os.path.join(fig_dir, 'prsa_hip_face_sub_use.pdf'))\n",
    "sig"
   ]
  },
  {
   "cell_type": "code",
   "execution_count": 5,
   "metadata": {},
   "outputs": [
    {
     "data": {
      "text/html": [
       "<div>\n",
       "<style scoped>\n",
       "    .dataframe tbody tr th:only-of-type {\n",
       "        vertical-align: middle;\n",
       "    }\n",
       "\n",
       "    .dataframe tbody tr th {\n",
       "        vertical-align: top;\n",
       "    }\n",
       "\n",
       "    .dataframe thead th {\n",
       "        text-align: right;\n",
       "    }\n",
       "</style>\n",
       "<table border=\"1\" class=\"dataframe\">\n",
       "  <thead>\n",
       "    <tr style=\"text-align: right;\">\n",
       "      <th></th>\n",
       "      <th>mean</th>\n",
       "      <th>sem</th>\n",
       "      <th>std</th>\n",
       "      <th>p</th>\n",
       "      <th>p_cor</th>\n",
       "      <th>d</th>\n",
       "    </tr>\n",
       "  </thead>\n",
       "  <tbody>\n",
       "    <tr>\n",
       "      <th>Face cluster</th>\n",
       "      <td>0.515496</td>\n",
       "      <td>0.122580</td>\n",
       "      <td>0.704166</td>\n",
       "      <td>0.000140</td>\n",
       "      <td>0.001705</td>\n",
       "      <td>0.732066</td>\n",
       "    </tr>\n",
       "    <tr>\n",
       "      <th>Scene cluster</th>\n",
       "      <td>-0.013042</td>\n",
       "      <td>0.195262</td>\n",
       "      <td>1.121694</td>\n",
       "      <td>0.525125</td>\n",
       "      <td>0.529200</td>\n",
       "      <td>0.011627</td>\n",
       "    </tr>\n",
       "  </tbody>\n",
       "</table>\n",
       "</div>"
      ],
      "text/plain": [
       "                   mean       sem       std         p     p_cor         d\n",
       "Face cluster   0.515496  0.122580  0.704166  0.000140  0.001705  0.732066\n",
       "Scene cluster -0.013042  0.195262  1.121694  0.525125  0.529200  0.011627"
      ]
     },
     "execution_count": 5,
     "metadata": {},
     "output_type": "execute_result"
    },
    {
     "data": {
      "image/png": "[encoded data removed]",
      "text/plain": [
       "<Figure size 252x180 with 1 Axes>"
      ]
     },
     "metadata": {
      "needs_background": "light"
     },
     "output_type": "display_data"
    }
   ],
   "source": [
    "fig, ax = plt.subplots(figsize=figsize)\n",
    "sig = figures.plot_zstat_perm(\n",
    "    zstat_face_hmx_sub_occ_use, 'wiki_use1', 'face', ax=ax, **opt\n",
    ")\n",
    "fig.savefig(os.path.join(fig_dir, 'prsa_hip_face_sub_occ_use.pdf'))\n",
    "sig"
   ]
  },
  {
   "cell_type": "markdown",
   "metadata": {},
   "source": [
    "## Scene semantics\n",
    "\n",
    "Controlling for just the visual model, then adding visual category and subcategory."
   ]
  },
  {
   "cell_type": "code",
   "execution_count": 6,
   "metadata": {},
   "outputs": [],
   "source": [
    "zstat_scene_hmx_use = rsa.load_net_zstat(\n",
    "    rsa_dir, 'prsa_hmx_use', 'scene', rois\n",
    ")\n",
    "zstat_scene_hmx_sub_typ_use = rsa.load_net_zstat(\n",
    "    rsa_dir, 'prsa_hmx_sub_typ_use', 'scene', rois\n",
    ")"
   ]
  },
  {
   "cell_type": "code",
   "execution_count": 8,
   "metadata": {},
   "outputs": [
    {
     "data": {
      "text/html": [
       "<div>\n",
       "<style scoped>\n",
       "    .dataframe tbody tr th:only-of-type {\n",
       "        vertical-align: middle;\n",
       "    }\n",
       "\n",
       "    .dataframe tbody tr th {\n",
       "        vertical-align: top;\n",
       "    }\n",
       "\n",
       "    .dataframe thead th {\n",
       "        text-align: right;\n",
       "    }\n",
       "</style>\n",
       "<table border=\"1\" class=\"dataframe\">\n",
       "  <thead>\n",
       "    <tr style=\"text-align: right;\">\n",
       "      <th></th>\n",
       "      <th>mean</th>\n",
       "      <th>sem</th>\n",
       "      <th>std</th>\n",
       "      <th>p</th>\n",
       "      <th>p_cor</th>\n",
       "      <th>d</th>\n",
       "    </tr>\n",
       "  </thead>\n",
       "  <tbody>\n",
       "    <tr>\n",
       "      <th>Face cluster</th>\n",
       "      <td>0.152310</td>\n",
       "      <td>0.178970</td>\n",
       "      <td>1.028107</td>\n",
       "      <td>0.201598</td>\n",
       "      <td>0.188553</td>\n",
       "      <td>0.148146</td>\n",
       "    </tr>\n",
       "    <tr>\n",
       "      <th>Scene cluster</th>\n",
       "      <td>0.401854</td>\n",
       "      <td>0.145703</td>\n",
       "      <td>0.837002</td>\n",
       "      <td>0.003970</td>\n",
       "      <td>0.007700</td>\n",
       "      <td>0.480112</td>\n",
       "    </tr>\n",
       "  </tbody>\n",
       "</table>\n",
       "</div>"
      ],
      "text/plain": [
       "                   mean       sem       std         p     p_cor         d\n",
       "Face cluster   0.152310  0.178970  1.028107  0.201598  0.188553  0.148146\n",
       "Scene cluster  0.401854  0.145703  0.837002  0.003970  0.007700  0.480112"
      ]
     },
     "execution_count": 8,
     "metadata": {},
     "output_type": "execute_result"
    },
    {
     "data": {
      "image/png": "[encoded data removed]",
      "text/plain": [
       "<Figure size 252x180 with 1 Axes>"
      ]
     },
     "metadata": {
      "needs_background": "light"
     },
     "output_type": "display_data"
    }
   ],
   "source": [
    "fig, ax = plt.subplots(figsize=figsize)\n",
    "sig = figures.plot_zstat_perm(\n",
    "    zstat_scene_hmx_sub_typ_use, 'wiki_use1', 'scene', ax=ax, **opt\n",
    ")\n",
    "fig.savefig(os.path.join(fig_dir, 'prsa_hip_scene_sub_typ_use.pdf'))\n",
    "sig"
   ]
  }
 ],
 "metadata": {
  "kernelspec": {
   "display_name": "wikisim2",
   "language": "python",
   "name": "wikisim2"
  },
  "language_info": {
   "codemirror_mode": {
    "name": "ipython",
    "version": 3
   },
   "file_extension": ".py",
   "mimetype": "text/x-python",
   "name": "python",
   "nbconvert_exporter": "python",
   "pygments_lexer": "ipython3",
   "version": "3.7.7"
  }
 },
 "nbformat": 4,
 "nbformat_minor": 4
}
