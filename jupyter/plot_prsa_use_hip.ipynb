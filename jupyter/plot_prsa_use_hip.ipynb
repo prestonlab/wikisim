{
 "cells": [
  {
   "cell_type": "markdown",
   "metadata": {},
   "source": [
    "# Analysis of hip ROIs"
   ]
  },
  {
   "cell_type": "code",
   "execution_count": 1,
   "metadata": {},
   "outputs": [],
   "source": [
    "import os\n",
    "import matplotlib.pyplot as plt\n",
    "\n",
    "from wikisim import rsa\n",
    "from wikisim import figures\n",
    "\n",
    "rsa_dir = '/Users/morton/Dropbox/work/bender/batch/rsa'\n",
    "fig_dir = '/Users/morton/Dropbox/work/bender/figs_wikisim3/rois'\n",
    "if not os.path.exists(fig_dir):\n",
    "    os.makedirs(fig_dir)\n",
    "\n",
    "# controls plot precision; use 1000 for testing, 100000 for final\n",
    "opt = {'n_perm': 100000, 'n_boot': 100000, \n",
    "       'max_offset': 4, 'sig_offset': 3.5}\n",
    "figsize = (3.5, 2.5)\n",
    "\n",
    "rois = rsa.define_network(\n",
    "    ['hmx_use_face_hip_dil2', 'hmx_use_scene_hip_dil2'],\n",
    "    ['Face cluster', 'Scene cluster'], [0, 0],\n",
    "    ['cluster1', 'cluster2'], ['cluster1', 'cluster2']\n",
    ")"
   ]
  },
  {
   "cell_type": "markdown",
   "metadata": {},
   "source": [
    "## Face semantics\n",
    "\n",
    "Controlling for just the visual model, adding gender, and adding occupation."
   ]
  },
  {
   "cell_type": "code",
   "execution_count": 2,
   "metadata": {},
   "outputs": [],
   "source": [
    "zstat_face_hmx_use = rsa.load_net_zstat(\n",
    "    rsa_dir, 'prsa_hmx_use', 'face', rois\n",
    ")\n",
    "zstat_face_hmx_sub_use = rsa.load_net_zstat(\n",
    "    rsa_dir, 'prsa_hmx_sub_use', 'face', rois\n",
    ")\n",
    "zstat_face_hmx_sub_occ_use = rsa.load_net_zstat(\n",
    "    rsa_dir, 'prsa_hmx_sub_occ_use', 'face', rois\n",
    ")"
   ]
  },
  {
   "cell_type": "code",
   "execution_count": 3,
   "metadata": {},
   "outputs": [
    {
     "data": {
      "text/html": [
       "<div>\n",
       "<style scoped>\n",
       "    .dataframe tbody tr th:only-of-type {\n",
       "        vertical-align: middle;\n",
       "    }\n",
       "\n",
       "    .dataframe tbody tr th {\n",
       "        vertical-align: top;\n",
       "    }\n",
       "\n",
       "    .dataframe thead th {\n",
       "        text-align: right;\n",
       "    }\n",
       "</style>\n",
       "<table border=\"1\" class=\"dataframe\">\n",
       "  <thead>\n",
       "    <tr style=\"text-align: right;\">\n",
       "      <th></th>\n",
       "      <th>mean</th>\n",
       "      <th>sem</th>\n",
       "      <th>std</th>\n",
       "      <th>p</th>\n",
       "      <th>p_cor</th>\n",
       "      <th>d</th>\n",
       "    </tr>\n",
       "  </thead>\n",
       "  <tbody>\n",
       "    <tr>\n",
       "      <th>Face cluster</th>\n",
       "      <td>0.517406</td>\n",
       "      <td>0.161801</td>\n",
       "      <td>0.929477</td>\n",
       "      <td>0.001350</td>\n",
       "      <td>0.000910</td>\n",
       "      <td>0.556664</td>\n",
       "    </tr>\n",
       "    <tr>\n",
       "      <th>Scene cluster</th>\n",
       "      <td>-0.050407</td>\n",
       "      <td>0.166232</td>\n",
       "      <td>0.954928</td>\n",
       "      <td>0.620024</td>\n",
       "      <td>0.613704</td>\n",
       "      <td>0.052786</td>\n",
       "    </tr>\n",
       "  </tbody>\n",
       "</table>\n",
       "</div>"
      ],
      "text/plain": [
       "                   mean       sem       std         p     p_cor         d\n",
       "Face cluster   0.517406  0.161801  0.929477  0.001350  0.000910  0.556664\n",
       "Scene cluster -0.050407  0.166232  0.954928  0.620024  0.613704  0.052786"
      ]
     },
     "execution_count": 3,
     "metadata": {},
     "output_type": "execute_result"
    },
    {
     "data": {
      "image/png": "[encoded data removed]",
      "text/plain": [
       "<Figure size 252x180 with 1 Axes>"
      ]
     },
     "metadata": {
      "needs_background": "light"
     },
     "output_type": "display_data"
    }
   ],
   "source": [
    "fig, ax = plt.subplots(figsize=figsize)\n",
    "sig = figures.plot_zstat_perm(\n",
    "    zstat_face_hmx_use, 'wiki_use1', 'face', ax=ax, **opt\n",
    ")\n",
    "fig.savefig(os.path.join(fig_dir, 'prsa_hip_face_use.pdf'))\n",
    "sig"
   ]
  },
  {
   "cell_type": "code",
   "execution_count": 4,
   "metadata": {},
   "outputs": [
    {
     "data": {
      "text/html": [
       "<div>\n",
       "<style scoped>\n",
       "    .dataframe tbody tr th:only-of-type {\n",
       "        vertical-align: middle;\n",
       "    }\n",
       "\n",
       "    .dataframe tbody tr th {\n",
       "        vertical-align: top;\n",
       "    }\n",
       "\n",
       "    .dataframe thead th {\n",
       "        text-align: right;\n",
       "    }\n",
       "</style>\n",
       "<table border=\"1\" class=\"dataframe\">\n",
       "  <thead>\n",
       "    <tr style=\"text-align: right;\">\n",
       "      <th></th>\n",
       "      <th>mean</th>\n",
       "      <th>sem</th>\n",
       "      <th>std</th>\n",
       "      <th>p</th>\n",
       "      <th>p_cor</th>\n",
       "      <th>d</th>\n",
       "    </tr>\n",
       "  </thead>\n",
       "  <tbody>\n",
       "    <tr>\n",
       "      <th>Face cluster</th>\n",
       "      <td>0.509107</td>\n",
       "      <td>0.161624</td>\n",
       "      <td>0.928457</td>\n",
       "      <td>0.001630</td>\n",
       "      <td>0.001180</td>\n",
       "      <td>0.548337</td>\n",
       "    </tr>\n",
       "    <tr>\n",
       "      <th>Scene cluster</th>\n",
       "      <td>-0.057071</td>\n",
       "      <td>0.167956</td>\n",
       "      <td>0.964835</td>\n",
       "      <td>0.633404</td>\n",
       "      <td>0.626364</td>\n",
       "      <td>0.059151</td>\n",
       "    </tr>\n",
       "  </tbody>\n",
       "</table>\n",
       "</div>"
      ],
      "text/plain": [
       "                   mean       sem       std         p     p_cor         d\n",
       "Face cluster   0.509107  0.161624  0.928457  0.001630  0.001180  0.548337\n",
       "Scene cluster -0.057071  0.167956  0.964835  0.633404  0.626364  0.059151"
      ]
     },
     "execution_count": 4,
     "metadata": {},
     "output_type": "execute_result"
    },
    {
     "data": {
      "image/png": "[encoded data removed]",
      "text/plain": [
       "<Figure size 252x180 with 1 Axes>"
      ]
     },
     "metadata": {
      "needs_background": "light"
     },
     "output_type": "display_data"
    }
   ],
   "source": [
    "fig, ax = plt.subplots(figsize=figsize)\n",
    "sig = figures.plot_zstat_perm(\n",
    "    zstat_face_hmx_sub_use, 'wiki_use1', 'face', ax=ax, **opt\n",
    ")\n",
    "fig.savefig(os.path.join(fig_dir, 'prsa_hip_face_sub_use.pdf'))\n",
    "sig"
   ]
  },
  {
   "cell_type": "code",
   "execution_count": 5,
   "metadata": {},
   "outputs": [
    {
     "data": {
      "text/html": [
       "<div>\n",
       "<style scoped>\n",
       "    .dataframe tbody tr th:only-of-type {\n",
       "        vertical-align: middle;\n",
       "    }\n",
       "\n",
       "    .dataframe tbody tr th {\n",
       "        vertical-align: top;\n",
       "    }\n",
       "\n",
       "    .dataframe thead th {\n",
       "        text-align: right;\n",
       "    }\n",
       "</style>\n",
       "<table border=\"1\" class=\"dataframe\">\n",
       "  <thead>\n",
       "    <tr style=\"text-align: right;\">\n",
       "      <th></th>\n",
       "      <th>mean</th>\n",
       "      <th>sem</th>\n",
       "      <th>std</th>\n",
       "      <th>p</th>\n",
       "      <th>p_cor</th>\n",
       "      <th>d</th>\n",
       "    </tr>\n",
       "  </thead>\n",
       "  <tbody>\n",
       "    <tr>\n",
       "      <th>Face cluster</th>\n",
       "      <td>0.515496</td>\n",
       "      <td>0.122580</td>\n",
       "      <td>0.704166</td>\n",
       "      <td>0.000140</td>\n",
       "      <td>0.001705</td>\n",
       "      <td>0.732066</td>\n",
       "    </tr>\n",
       "    <tr>\n",
       "      <th>Scene cluster</th>\n",
       "      <td>-0.013042</td>\n",
       "      <td>0.195262</td>\n",
       "      <td>1.121694</td>\n",
       "      <td>0.525125</td>\n",
       "      <td>0.529200</td>\n",
       "      <td>0.011627</td>\n",
       "    </tr>\n",
       "  </tbody>\n",
       "</table>\n",
       "</div>"
      ],
      "text/plain": [
       "                   mean       sem       std         p     p_cor         d\n",
       "Face cluster   0.515496  0.122580  0.704166  0.000140  0.001705  0.732066\n",
       "Scene cluster -0.013042  0.195262  1.121694  0.525125  0.529200  0.011627"
      ]
     },
     "execution_count": 5,
     "metadata": {},
     "output_type": "execute_result"
    },
    {
     "data": {
      "image/png": "[encoded data removed]",
      "text/plain": [
       "<Figure size 252x180 with 1 Axes>"
      ]
     },
     "metadata": {
      "needs_background": "light"
     },
     "output_type": "display_data"
    }
   ],
   "source": [
    "fig, ax = plt.subplots(figsize=figsize)\n",
    "sig = figures.plot_zstat_perm(\n",
    "    zstat_face_hmx_sub_occ_use, 'wiki_use1', 'face', ax=ax, **opt\n",
    ")\n",
    "fig.savefig(os.path.join(fig_dir, 'prsa_hip_face_sub_occ_use.pdf'))\n",
    "sig"
   ]
  },
  {
   "cell_type": "markdown",
   "metadata": {},
   "source": [
    "## Scene semantics\n",
    "\n",
    "Controlling for just the visual model, then adding visual category and subcategory."
   ]
  },
  {
   "cell_type": "code",
   "execution_count": 6,
   "metadata": {},
   "outputs": [],
   "source": [
    "zstat_scene_hmx_use = rsa.load_net_zstat(\n",
    "    rsa_dir, 'prsa_hmx_use', 'scene', rois\n",
    ")\n",
    "zstat_scene_hmx_sub_typ_use = rsa.load_net_zstat(\n",
    "    rsa_dir, 'prsa_hmx_sub_typ_use', 'scene', rois\n",
    ")"
   ]
  },
  {
   "cell_type": "code",
   "execution_count": 7,
   "metadata": {},
   "outputs": [
    {
     "data": {
      "text/html": [
       "<div>\n",
       "<style scoped>\n",
       "    .dataframe tbody tr th:only-of-type {\n",
       "        vertical-align: middle;\n",
       "    }\n",
       "\n",
       "    .dataframe tbody tr th {\n",
       "        vertical-align: top;\n",
       "    }\n",
       "\n",
       "    .dataframe thead th {\n",
       "        text-align: right;\n",
       "    }\n",
       "</style>\n",
       "<table border=\"1\" class=\"dataframe\">\n",
       "  <thead>\n",
       "    <tr style=\"text-align: right;\">\n",
       "      <th></th>\n",
       "      <th>mean</th>\n",
       "      <th>sem</th>\n",
       "      <th>std</th>\n",
       "      <th>p</th>\n",
       "      <th>p_cor</th>\n",
       "      <th>d</th>\n",
       "    </tr>\n",
       "  </thead>\n",
       "  <tbody>\n",
       "    <tr>\n",
       "      <th>Face cluster</th>\n",
       "      <td>0.163309</td>\n",
       "      <td>0.209386</td>\n",
       "      <td>1.202833</td>\n",
       "      <td>0.218518</td>\n",
       "      <td>0.210138</td>\n",
       "      <td>0.135770</td>\n",
       "    </tr>\n",
       "    <tr>\n",
       "      <th>Scene cluster</th>\n",
       "      <td>0.578959</td>\n",
       "      <td>0.164726</td>\n",
       "      <td>0.946276</td>\n",
       "      <td>0.000530</td>\n",
       "      <td>0.001160</td>\n",
       "      <td>0.611828</td>\n",
       "    </tr>\n",
       "  </tbody>\n",
       "</table>\n",
       "</div>"
      ],
      "text/plain": [
       "                   mean       sem       std         p     p_cor         d\n",
       "Face cluster   0.163309  0.209386  1.202833  0.218518  0.210138  0.135770\n",
       "Scene cluster  0.578959  0.164726  0.946276  0.000530  0.001160  0.611828"
      ]
     },
     "execution_count": 7,
     "metadata": {},
     "output_type": "execute_result"
    },
    {
     "data": {
      "image/png": "[encoded data removed]",
      "text/plain": [
       "<Figure size 252x180 with 1 Axes>"
      ]
     },
     "metadata": {
      "needs_background": "light"
     },
     "output_type": "display_data"
    }
   ],
   "source": [
    "fig, ax = plt.subplots(figsize=figsize)\n",
    "sig = figures.plot_zstat_perm(\n",
    "    zstat_scene_hmx_use, 'wiki_use1', 'scene', ax=ax, **opt\n",
    ")\n",
    "fig.savefig(os.path.join(fig_dir, 'prsa_hip_scene_use.pdf'))\n",
    "sig"
   ]
  },
  {
   "cell_type": "code",
   "execution_count": 8,
   "metadata": {},
   "outputs": [
    {
     "data": {
      "text/html": [
       "<div>\n",
       "<style scoped>\n",
       "    .dataframe tbody tr th:only-of-type {\n",
       "        vertical-align: middle;\n",
       "    }\n",
       "\n",
       "    .dataframe tbody tr th {\n",
       "        vertical-align: top;\n",
       "    }\n",
       "\n",
       "    .dataframe thead th {\n",
       "        text-align: right;\n",
       "    }\n",
       "</style>\n",
       "<table border=\"1\" class=\"dataframe\">\n",
       "  <thead>\n",
       "    <tr style=\"text-align: right;\">\n",
       "      <th></th>\n",
       "      <th>mean</th>\n",
       "      <th>sem</th>\n",
       "      <th>std</th>\n",
       "      <th>p</th>\n",
       "      <th>p_cor</th>\n",
       "      <th>d</th>\n",
       "    </tr>\n",
       "  </thead>\n",
       "  <tbody>\n",
       "    <tr>\n",
       "      <th>Face cluster</th>\n",
       "      <td>0.152310</td>\n",
       "      <td>0.178970</td>\n",
       "      <td>1.028107</td>\n",
       "      <td>0.201598</td>\n",
       "      <td>0.188553</td>\n",
       "      <td>0.148146</td>\n",
       "    </tr>\n",
       "    <tr>\n",
       "      <th>Scene cluster</th>\n",
       "      <td>0.401854</td>\n",
       "      <td>0.145703</td>\n",
       "      <td>0.837002</td>\n",
       "      <td>0.003970</td>\n",
       "      <td>0.007700</td>\n",
       "      <td>0.480112</td>\n",
       "    </tr>\n",
       "  </tbody>\n",
       "</table>\n",
       "</div>"
      ],
      "text/plain": [
       "                   mean       sem       std         p     p_cor         d\n",
       "Face cluster   0.152310  0.178970  1.028107  0.201598  0.188553  0.148146\n",
       "Scene cluster  0.401854  0.145703  0.837002  0.003970  0.007700  0.480112"
      ]
     },
     "execution_count": 8,
     "metadata": {},
     "output_type": "execute_result"
    },
    {
     "data": {
      "image/png": "[encoded data removed]",
      "text/plain": [
       "<Figure size 252x180 with 1 Axes>"
      ]
     },
     "metadata": {
      "needs_background": "light"
     },
     "output_type": "display_data"
    }
   ],
   "source": [
    "fig, ax = plt.subplots(figsize=figsize)\n",
    "sig = figures.plot_zstat_perm(\n",
    "    zstat_scene_hmx_sub_typ_use, 'wiki_use1', 'scene', ax=ax, **opt\n",
    ")\n",
    "fig.savefig(os.path.join(fig_dir, 'prsa_hip_scene_sub_typ_use.pdf'))\n",
    "sig"
   ]
  },
  {
   "cell_type": "markdown",
   "metadata": {},
   "source": [
    "## Scene geography"
   ]
  },
  {
   "cell_type": "code",
   "execution_count": 9,
   "metadata": {},
   "outputs": [],
   "source": [
    "zstat_scene_hmx_use_geo = rsa.load_net_zstat(\n",
    "    rsa_dir, 'prsa_hmx_use_geo', 'scene', rois\n",
    ")\n",
    "zstat_scene_hmx_reg_use_geo = rsa.load_net_zstat(\n",
    "    rsa_dir, 'prsa_hmx_use_reg_geo', 'scene', rois\n",
    ")"
   ]
  },
  {
   "cell_type": "code",
   "execution_count": 10,
   "metadata": {},
   "outputs": [
    {
     "data": {
      "text/html": [
       "<div>\n",
       "<style scoped>\n",
       "    .dataframe tbody tr th:only-of-type {\n",
       "        vertical-align: middle;\n",
       "    }\n",
       "\n",
       "    .dataframe tbody tr th {\n",
       "        vertical-align: top;\n",
       "    }\n",
       "\n",
       "    .dataframe thead th {\n",
       "        text-align: right;\n",
       "    }\n",
       "</style>\n",
       "<table border=\"1\" class=\"dataframe\">\n",
       "  <thead>\n",
       "    <tr style=\"text-align: right;\">\n",
       "      <th></th>\n",
       "      <th>mean</th>\n",
       "      <th>sem</th>\n",
       "      <th>std</th>\n",
       "      <th>p</th>\n",
       "      <th>p_cor</th>\n",
       "      <th>d</th>\n",
       "    </tr>\n",
       "  </thead>\n",
       "  <tbody>\n",
       "    <tr>\n",
       "      <th>Face cluster</th>\n",
       "      <td>0.205497</td>\n",
       "      <td>0.165539</td>\n",
       "      <td>0.950947</td>\n",
       "      <td>0.111989</td>\n",
       "      <td>0.097649</td>\n",
       "      <td>0.216097</td>\n",
       "    </tr>\n",
       "    <tr>\n",
       "      <th>Scene cluster</th>\n",
       "      <td>-0.165235</td>\n",
       "      <td>0.146851</td>\n",
       "      <td>0.843596</td>\n",
       "      <td>0.866501</td>\n",
       "      <td>0.851646</td>\n",
       "      <td>0.195870</td>\n",
       "    </tr>\n",
       "  </tbody>\n",
       "</table>\n",
       "</div>"
      ],
      "text/plain": [
       "                   mean       sem       std         p     p_cor         d\n",
       "Face cluster   0.205497  0.165539  0.950947  0.111989  0.097649  0.216097\n",
       "Scene cluster -0.165235  0.146851  0.843596  0.866501  0.851646  0.195870"
      ]
     },
     "execution_count": 10,
     "metadata": {},
     "output_type": "execute_result"
    },
    {
     "data": {
      "image/png": "[encoded data removed]",
      "text/plain": [
       "<Figure size 252x180 with 1 Axes>"
      ]
     },
     "metadata": {
      "needs_background": "light"
     },
     "output_type": "display_data"
    }
   ],
   "source": [
    "fig, ax = plt.subplots(figsize=figsize)\n",
    "sig = figures.plot_zstat_perm(\n",
    "    zstat_scene_hmx_use_geo, 'geo', 'geo', ax=ax, **opt\n",
    ")\n",
    "fig.savefig(os.path.join(fig_dir, 'prsa_hip_use_geo.pdf'))\n",
    "sig"
   ]
  },
  {
   "cell_type": "code",
   "execution_count": 11,
   "metadata": {},
   "outputs": [
    {
     "data": {
      "text/html": [
       "<div>\n",
       "<style scoped>\n",
       "    .dataframe tbody tr th:only-of-type {\n",
       "        vertical-align: middle;\n",
       "    }\n",
       "\n",
       "    .dataframe tbody tr th {\n",
       "        vertical-align: top;\n",
       "    }\n",
       "\n",
       "    .dataframe thead th {\n",
       "        text-align: right;\n",
       "    }\n",
       "</style>\n",
       "<table border=\"1\" class=\"dataframe\">\n",
       "  <thead>\n",
       "    <tr style=\"text-align: right;\">\n",
       "      <th></th>\n",
       "      <th>mean</th>\n",
       "      <th>sem</th>\n",
       "      <th>std</th>\n",
       "      <th>p</th>\n",
       "      <th>p_cor</th>\n",
       "      <th>d</th>\n",
       "    </tr>\n",
       "  </thead>\n",
       "  <tbody>\n",
       "    <tr>\n",
       "      <th>Face cluster</th>\n",
       "      <td>0.004161</td>\n",
       "      <td>0.230210</td>\n",
       "      <td>1.322457</td>\n",
       "      <td>0.492325</td>\n",
       "      <td>0.492030</td>\n",
       "      <td>0.003146</td>\n",
       "    </tr>\n",
       "    <tr>\n",
       "      <th>Scene cluster</th>\n",
       "      <td>-0.044122</td>\n",
       "      <td>0.179497</td>\n",
       "      <td>1.031132</td>\n",
       "      <td>0.596814</td>\n",
       "      <td>0.585519</td>\n",
       "      <td>0.042790</td>\n",
       "    </tr>\n",
       "  </tbody>\n",
       "</table>\n",
       "</div>"
      ],
      "text/plain": [
       "                   mean       sem       std         p     p_cor         d\n",
       "Face cluster   0.004161  0.230210  1.322457  0.492325  0.492030  0.003146\n",
       "Scene cluster -0.044122  0.179497  1.031132  0.596814  0.585519  0.042790"
      ]
     },
     "execution_count": 11,
     "metadata": {},
     "output_type": "execute_result"
    },
    {
     "data": {
      "image/png": "[encoded data removed]",
      "text/plain": [
       "<Figure size 252x180 with 1 Axes>"
      ]
     },
     "metadata": {
      "needs_background": "light"
     },
     "output_type": "display_data"
    }
   ],
   "source": [
    "fig, ax = plt.subplots(figsize=figsize)\n",
    "sig = figures.plot_zstat_perm(\n",
    "    zstat_scene_hmx_reg_use_geo, 'geo', 'geo', ax=ax, **opt\n",
    ")\n",
    "fig.savefig(os.path.join(fig_dir, 'prsa_hip_reg_use_geo.pdf'))\n",
    "sig"
   ]
  }
 ],
 "metadata": {
  "kernelspec": {
   "display_name": "wikisim2",
   "language": "python",
   "name": "wikisim2"
  },
  "language_info": {
   "codemirror_mode": {
    "name": "ipython",
    "version": 3
   },
   "file_extension": ".py",
   "mimetype": "text/x-python",
   "name": "python",
   "nbconvert_exporter": "python",
   "pygments_lexer": "ipython3",
   "version": "3.7.9"
  }
 },
 "nbformat": 4,
 "nbformat_minor": 4
}