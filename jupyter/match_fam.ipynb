{
 "cells": [
  {
   "cell_type": "code",
   "execution_count": 1,
   "metadata": {},
   "outputs": [],
   "source": [
    "import os\n",
    "import numpy as np\n",
    "from scipy import stats\n",
    "import pandas as pd\n",
    "import matplotlib.pyplot as plt\n",
    "import seaborn as sns\n",
    "import importlib\n",
    "from bender import rsa\n",
    "from bender import simtask\n",
    "\n",
    "model_dir = '/Users/morton/Dropbox/work/bender/batch/models3'\n",
    "fam_file = '/Users/morton/Dropbox/work/bender/mturk/mturk_fam.csv'"
   ]
  },
  {
   "cell_type": "markdown",
   "metadata": {},
   "source": [
    "## Load Mturk familiarity ratings"
   ]
  },
  {
   "cell_type": "code",
   "execution_count": 2,
   "metadata": {},
   "outputs": [],
   "source": [
    "fam = simtask.read_fam(fam_file)"
   ]
  },
  {
   "cell_type": "code",
   "execution_count": 3,
   "metadata": {},
   "outputs": [
    {
     "data": {
      "text/html": [
       "<div>\n",
       "<style scoped>\n",
       "    .dataframe tbody tr th:only-of-type {\n",
       "        vertical-align: middle;\n",
       "    }\n",
       "\n",
       "    .dataframe tbody tr th {\n",
       "        vertical-align: top;\n",
       "    }\n",
       "\n",
       "    .dataframe thead th {\n",
       "        text-align: right;\n",
       "    }\n",
       "</style>\n",
       "<table border=\"1\" class=\"dataframe\">\n",
       "  <thead>\n",
       "    <tr style=\"text-align: right;\">\n",
       "      <th></th>\n",
       "      <th>stim</th>\n",
       "      <th>category</th>\n",
       "      <th>subcategory</th>\n",
       "      <th>fam</th>\n",
       "    </tr>\n",
       "    <tr>\n",
       "      <th>stim_id</th>\n",
       "      <th></th>\n",
       "      <th></th>\n",
       "      <th></th>\n",
       "      <th></th>\n",
       "    </tr>\n",
       "  </thead>\n",
       "  <tbody>\n",
       "    <tr>\n",
       "      <th>0</th>\n",
       "      <td>Angelina Jolie</td>\n",
       "      <td>face</td>\n",
       "      <td>female</td>\n",
       "      <td>3.411765</td>\n",
       "    </tr>\n",
       "    <tr>\n",
       "      <th>1</th>\n",
       "      <td>Beyonce Knowles</td>\n",
       "      <td>face</td>\n",
       "      <td>female</td>\n",
       "      <td>3.254902</td>\n",
       "    </tr>\n",
       "    <tr>\n",
       "      <th>2</th>\n",
       "      <td>Britney Spears</td>\n",
       "      <td>face</td>\n",
       "      <td>female</td>\n",
       "      <td>3.470588</td>\n",
       "    </tr>\n",
       "    <tr>\n",
       "      <th>3</th>\n",
       "      <td>Cameron Diaz</td>\n",
       "      <td>face</td>\n",
       "      <td>female</td>\n",
       "      <td>3.117647</td>\n",
       "    </tr>\n",
       "    <tr>\n",
       "      <th>4</th>\n",
       "      <td>Courtney Cox</td>\n",
       "      <td>face</td>\n",
       "      <td>female</td>\n",
       "      <td>2.941176</td>\n",
       "    </tr>\n",
       "    <tr>\n",
       "      <th>...</th>\n",
       "      <td>...</td>\n",
       "      <td>...</td>\n",
       "      <td>...</td>\n",
       "      <td>...</td>\n",
       "    </tr>\n",
       "    <tr>\n",
       "      <th>115</th>\n",
       "      <td>Sierra Nevada</td>\n",
       "      <td>scene</td>\n",
       "      <td>natural</td>\n",
       "      <td>2.470588</td>\n",
       "    </tr>\n",
       "    <tr>\n",
       "      <th>116</th>\n",
       "      <td>Swiss Alps</td>\n",
       "      <td>scene</td>\n",
       "      <td>natural</td>\n",
       "      <td>2.372549</td>\n",
       "    </tr>\n",
       "    <tr>\n",
       "      <th>117</th>\n",
       "      <td>Victoria falls</td>\n",
       "      <td>scene</td>\n",
       "      <td>natural</td>\n",
       "      <td>1.960784</td>\n",
       "    </tr>\n",
       "    <tr>\n",
       "      <th>118</th>\n",
       "      <td>Yellowstone</td>\n",
       "      <td>scene</td>\n",
       "      <td>natural</td>\n",
       "      <td>3.294118</td>\n",
       "    </tr>\n",
       "    <tr>\n",
       "      <th>119</th>\n",
       "      <td>Yosemite</td>\n",
       "      <td>scene</td>\n",
       "      <td>natural</td>\n",
       "      <td>3.039216</td>\n",
       "    </tr>\n",
       "  </tbody>\n",
       "</table>\n",
       "<p>120 rows × 4 columns</p>\n",
       "</div>"
      ],
      "text/plain": [
       "                    stim category subcategory       fam\n",
       "stim_id                                                \n",
       "0         Angelina Jolie     face      female  3.411765\n",
       "1        Beyonce Knowles     face      female  3.254902\n",
       "2         Britney Spears     face      female  3.470588\n",
       "3           Cameron Diaz     face      female  3.117647\n",
       "4           Courtney Cox     face      female  2.941176\n",
       "...                  ...      ...         ...       ...\n",
       "115        Sierra Nevada    scene     natural  2.470588\n",
       "116           Swiss Alps    scene     natural  2.372549\n",
       "117       Victoria falls    scene     natural  1.960784\n",
       "118          Yellowstone    scene     natural  3.294118\n",
       "119             Yosemite    scene     natural  3.039216\n",
       "\n",
       "[120 rows x 4 columns]"
      ]
     },
     "execution_count": 3,
     "metadata": {},
     "output_type": "execute_result"
    }
   ],
   "source": [
    "items = fam.groupby('stim_id')[['stim', 'category', 'subcategory']].first()\n",
    "items['fam'] = fam.groupby('stim_id')['response'].mean()\n",
    "items"
   ]
  },
  {
   "cell_type": "markdown",
   "metadata": {},
   "source": [
    "## Compare subcategory distributions"
   ]
  },
  {
   "cell_type": "code",
   "execution_count": 4,
   "metadata": {},
   "outputs": [
    {
     "data": {
      "image/png": "[encoded data removed]",
      "text/plain": [
       "<Figure size 432x288 with 4 Axes>"
      ]
     },
     "metadata": {
      "needs_background": "light"
     },
     "output_type": "display_data"
    }
   ],
   "source": [
    "bins = np.arange(0, 4.01, .05)\n",
    "g = sns.FacetGrid(row='subcategory', data=items, aspect=6, height=1)\n",
    "g.map(sns.distplot, 'fam', bins=bins);\n",
    "g.set(xlim=(0, 4));"
   ]
  },
  {
   "cell_type": "code",
   "execution_count": 5,
   "metadata": {},
   "outputs": [
    {
     "data": {
      "text/plain": [
       "F_onewayResult(statistic=8.676181319206894, pvalue=3.053814391769455e-05)"
      ]
     },
     "execution_count": 5,
     "metadata": {},
     "output_type": "execute_result"
    }
   ],
   "source": [
    "dists = [x['fam'].to_numpy() for i, x in items.groupby('subcategory')]\n",
    "stats.f_oneway(*dists)"
   ]
  },
  {
   "cell_type": "markdown",
   "metadata": {},
   "source": [
    "## Subsample to match familiarity"
   ]
  },
  {
   "cell_type": "code",
   "execution_count": 6,
   "metadata": {},
   "outputs": [
    {
     "data": {
      "image/png": "[encoded data removed]",
      "text/plain": [
       "<Figure size 432x288 with 4 Axes>"
      ]
     },
     "metadata": {
      "needs_background": "light"
     },
     "output_type": "display_data"
    }
   ],
   "source": [
    "sample = simtask.match_fam_density(items, 'natural', 0)\n",
    "g = sns.FacetGrid(row='subcategory', data=sample, aspect=6, height=1)\n",
    "g.map(sns.distplot, 'fam', bins=bins);\n",
    "g.set(xlim=(0, 4));"
   ]
  },
  {
   "cell_type": "markdown",
   "metadata": {},
   "source": [
    "## Test new statistics"
   ]
  },
  {
   "cell_type": "code",
   "execution_count": 7,
   "metadata": {},
   "outputs": [
    {
     "data": {
      "text/html": [
       "<div>\n",
       "<style scoped>\n",
       "    .dataframe tbody tr th:only-of-type {\n",
       "        vertical-align: middle;\n",
       "    }\n",
       "\n",
       "    .dataframe tbody tr th {\n",
       "        vertical-align: top;\n",
       "    }\n",
       "\n",
       "    .dataframe thead tr th {\n",
       "        text-align: left;\n",
       "    }\n",
       "\n",
       "    .dataframe thead tr:last-of-type th {\n",
       "        text-align: right;\n",
       "    }\n",
       "</style>\n",
       "<table border=\"1\" class=\"dataframe\">\n",
       "  <thead>\n",
       "    <tr>\n",
       "      <th></th>\n",
       "      <th colspan=\"5\" halign=\"left\">fam</th>\n",
       "    </tr>\n",
       "    <tr>\n",
       "      <th></th>\n",
       "      <th>mean</th>\n",
       "      <th>std</th>\n",
       "      <th>min</th>\n",
       "      <th>max</th>\n",
       "      <th>count</th>\n",
       "    </tr>\n",
       "    <tr>\n",
       "      <th>subcategory</th>\n",
       "      <th></th>\n",
       "      <th></th>\n",
       "      <th></th>\n",
       "      <th></th>\n",
       "      <th></th>\n",
       "    </tr>\n",
       "  </thead>\n",
       "  <tbody>\n",
       "    <tr>\n",
       "      <th>female</th>\n",
       "      <td>2.973168</td>\n",
       "      <td>0.278466</td>\n",
       "      <td>2.490196</td>\n",
       "      <td>3.411765</td>\n",
       "      <td>19</td>\n",
       "    </tr>\n",
       "    <tr>\n",
       "      <th>male</th>\n",
       "      <td>3.119711</td>\n",
       "      <td>0.238441</td>\n",
       "      <td>2.509804</td>\n",
       "      <td>3.392157</td>\n",
       "      <td>19</td>\n",
       "    </tr>\n",
       "    <tr>\n",
       "      <th>manmade</th>\n",
       "      <td>3.027864</td>\n",
       "      <td>0.311424</td>\n",
       "      <td>2.490196</td>\n",
       "      <td>3.470588</td>\n",
       "      <td>19</td>\n",
       "    </tr>\n",
       "    <tr>\n",
       "      <th>natural</th>\n",
       "      <td>2.898865</td>\n",
       "      <td>0.257425</td>\n",
       "      <td>2.490196</td>\n",
       "      <td>3.352941</td>\n",
       "      <td>19</td>\n",
       "    </tr>\n",
       "  </tbody>\n",
       "</table>\n",
       "</div>"
      ],
      "text/plain": [
       "                  fam                                    \n",
       "                 mean       std       min       max count\n",
       "subcategory                                              \n",
       "female       2.973168  0.278466  2.490196  3.411765    19\n",
       "male         3.119711  0.238441  2.509804  3.392157    19\n",
       "manmade      3.027864  0.311424  2.490196  3.470588    19\n",
       "natural      2.898865  0.257425  2.490196  3.352941    19"
      ]
     },
     "execution_count": 7,
     "metadata": {},
     "output_type": "execute_result"
    }
   ],
   "source": [
    "sample.groupby('subcategory').agg(['mean', 'std', 'min', 'max', 'count'])"
   ]
  },
  {
   "cell_type": "code",
   "execution_count": 8,
   "metadata": {},
   "outputs": [
    {
     "data": {
      "text/plain": [
       "F_onewayResult(statistic=2.209425467949784, pvalue=0.09434479867178194)"
      ]
     },
     "execution_count": 8,
     "metadata": {},
     "output_type": "execute_result"
    }
   ],
   "source": [
    "dists = [x['fam'].to_numpy() for i, x in sample.groupby('subcategory')]\n",
    "stats.f_oneway(*dists)"
   ]
  },
  {
   "cell_type": "code",
   "execution_count": 9,
   "metadata": {},
   "outputs": [
    {
     "data": {
      "text/plain": [
       "Ttest_indResult(statistic=1.3024905154114366, pvalue=0.19678788869008285)"
      ]
     },
     "execution_count": 9,
     "metadata": {},
     "output_type": "execute_result"
    }
   ],
   "source": [
    "face = sample.query('category == \"face\"')['fam'].to_numpy()\n",
    "scene = sample.query('category == \"scene\"')['fam'].to_numpy()\n",
    "stats.ttest_ind(face, scene)"
   ]
  },
  {
   "cell_type": "code",
   "execution_count": 10,
   "metadata": {},
   "outputs": [],
   "source": [
    "sample.to_csv(os.path.join(model_dir, 'subsample.csv'))"
   ]
  }
 ],
 "metadata": {
  "kernelspec": {
   "display_name": "wikisim",
   "language": "python",
   "name": "wikisim"
  },
  "language_info": {
   "codemirror_mode": {
    "name": "ipython",
    "version": 3
   },
   "file_extension": ".py",
   "mimetype": "text/x-python",
   "name": "python",
   "nbconvert_exporter": "python",
   "pygments_lexer": "ipython3",
   "version": "3.7.7"
  }
 },
 "nbformat": 4,
 "nbformat_minor": 4
}
