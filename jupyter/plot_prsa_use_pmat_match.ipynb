{
 "cells": [
  {
   "cell_type": "markdown",
   "metadata": {},
   "source": [
    "# Analysis of PMAT ROIs"
   ]
  },
  {
   "cell_type": "code",
   "execution_count": 1,
   "metadata": {},
   "outputs": [],
   "source": [
    "from wikisim import rsa\n",
    "\n",
    "rsa_dir = '/Users/morton/Dropbox/work/bender/batch/rsa'\n",
    "rois = rsa.get_rois('pmat')"
   ]
  },
  {
   "cell_type": "markdown",
   "metadata": {},
   "source": [
    "## Load correlations for matched items"
   ]
  },
  {
   "cell_type": "code",
   "execution_count": 2,
   "metadata": {},
   "outputs": [],
   "source": [
    "zstat_face_hmx_use = rsa.load_net_zstat(rsa_dir, 'prsa_hmx_use', 'face', rois, suffix='_match')\n",
    "zstat_scene_hmx_use = rsa.load_net_zstat(rsa_dir, 'prsa_hmx_use', 'scene', rois, suffix='_match')"
   ]
  },
  {
   "cell_type": "markdown",
   "metadata": {},
   "source": [
    "## Comparing AT and PM"
   ]
  },
  {
   "cell_type": "code",
   "execution_count": 3,
   "metadata": {},
   "outputs": [],
   "source": [
    "z = zstat_face_hmx_use[['subj_id', 'roi', 'net', 'net_id']].copy()\n",
    "z['face'] = zstat_face_hmx_use['wiki_use1']\n",
    "z['scene'] = zstat_scene_hmx_use['wiki_use1']\n",
    "\n",
    "net_face = z.groupby(['subj_id', 'net'])['face'].mean().unstack()\n",
    "net_scene = z.groupby(['subj_id', 'net'])['scene'].mean().unstack()"
   ]
  },
  {
   "cell_type": "code",
   "execution_count": 4,
   "metadata": {},
   "outputs": [
    {
     "name": "stdout",
     "output_type": "stream",
     "text": [
      "mean=0.48702424812418105, sem=0.16182162261764277, p=0.005099949000509995, d=0.5239104523587961\n"
     ]
    }
   ],
   "source": [
    "x = (net_face['AT'] - net_face['PM']) - (net_scene['AT'] - net_scene['PM'])\n",
    "p, p_cor = rsa.sign_perm(x.to_numpy()[:, None], 100000, tail='both')\n",
    "df = x.agg(['mean', 'sem', 'std'])\n",
    "df['d'] = df['mean'] / df['std']\n",
    "print(f\"mean={df['mean']}, sem={df['sem']}, p={p[0]}, d={df['d']}\")"
   ]
  }
 ],
 "metadata": {
  "kernelspec": {
   "display_name": "wikisim2",
   "language": "python",
   "name": "wikisim2"
  },
  "language_info": {
   "codemirror_mode": {
    "name": "ipython",
    "version": 3
   },
   "file_extension": ".py",
   "mimetype": "text/x-python",
   "name": "python",
   "nbconvert_exporter": "python",
   "pygments_lexer": "ipython3",
   "version": "3.7.9"
  }
 },
 "nbformat": 4,
 "nbformat_minor": 4
}
