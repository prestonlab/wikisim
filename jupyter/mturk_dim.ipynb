{
 "cells": [
  {
   "cell_type": "code",
   "execution_count": 1,
   "metadata": {},
   "outputs": [
    {
     "name": "stderr",
     "output_type": "stream",
     "text": [
      "/Users/morton/anaconda3/envs/wikisim/lib/python3.7/site-packages/tensorflow/python/framework/dtypes.py:516: FutureWarning: Passing (type, 1) or '1type' as a synonym of type is deprecated; in a future version of numpy, it will be understood as (type, (1,)) / '(1,)type'.\n",
      "  _np_qint8 = np.dtype([(\"qint8\", np.int8, 1)])\n",
      "/Users/morton/anaconda3/envs/wikisim/lib/python3.7/site-packages/tensorflow/python/framework/dtypes.py:517: FutureWarning: Passing (type, 1) or '1type' as a synonym of type is deprecated; in a future version of numpy, it will be understood as (type, (1,)) / '(1,)type'.\n",
      "  _np_quint8 = np.dtype([(\"quint8\", np.uint8, 1)])\n",
      "/Users/morton/anaconda3/envs/wikisim/lib/python3.7/site-packages/tensorflow/python/framework/dtypes.py:518: FutureWarning: Passing (type, 1) or '1type' as a synonym of type is deprecated; in a future version of numpy, it will be understood as (type, (1,)) / '(1,)type'.\n",
      "  _np_qint16 = np.dtype([(\"qint16\", np.int16, 1)])\n",
      "/Users/morton/anaconda3/envs/wikisim/lib/python3.7/site-packages/tensorflow/python/framework/dtypes.py:519: FutureWarning: Passing (type, 1) or '1type' as a synonym of type is deprecated; in a future version of numpy, it will be understood as (type, (1,)) / '(1,)type'.\n",
      "  _np_quint16 = np.dtype([(\"quint16\", np.uint16, 1)])\n",
      "/Users/morton/anaconda3/envs/wikisim/lib/python3.7/site-packages/tensorflow/python/framework/dtypes.py:520: FutureWarning: Passing (type, 1) or '1type' as a synonym of type is deprecated; in a future version of numpy, it will be understood as (type, (1,)) / '(1,)type'.\n",
      "  _np_qint32 = np.dtype([(\"qint32\", np.int32, 1)])\n",
      "/Users/morton/anaconda3/envs/wikisim/lib/python3.7/site-packages/tensorflow/python/framework/dtypes.py:525: FutureWarning: Passing (type, 1) or '1type' as a synonym of type is deprecated; in a future version of numpy, it will be understood as (type, (1,)) / '(1,)type'.\n",
      "  np_resource = np.dtype([(\"resource\", np.ubyte, 1)])\n",
      "/Users/morton/anaconda3/envs/wikisim/lib/python3.7/site-packages/tensorboard/compat/tensorflow_stub/dtypes.py:541: FutureWarning: Passing (type, 1) or '1type' as a synonym of type is deprecated; in a future version of numpy, it will be understood as (type, (1,)) / '(1,)type'.\n",
      "  _np_qint8 = np.dtype([(\"qint8\", np.int8, 1)])\n",
      "/Users/morton/anaconda3/envs/wikisim/lib/python3.7/site-packages/tensorboard/compat/tensorflow_stub/dtypes.py:542: FutureWarning: Passing (type, 1) or '1type' as a synonym of type is deprecated; in a future version of numpy, it will be understood as (type, (1,)) / '(1,)type'.\n",
      "  _np_quint8 = np.dtype([(\"quint8\", np.uint8, 1)])\n",
      "/Users/morton/anaconda3/envs/wikisim/lib/python3.7/site-packages/tensorboard/compat/tensorflow_stub/dtypes.py:543: FutureWarning: Passing (type, 1) or '1type' as a synonym of type is deprecated; in a future version of numpy, it will be understood as (type, (1,)) / '(1,)type'.\n",
      "  _np_qint16 = np.dtype([(\"qint16\", np.int16, 1)])\n",
      "/Users/morton/anaconda3/envs/wikisim/lib/python3.7/site-packages/tensorboard/compat/tensorflow_stub/dtypes.py:544: FutureWarning: Passing (type, 1) or '1type' as a synonym of type is deprecated; in a future version of numpy, it will be understood as (type, (1,)) / '(1,)type'.\n",
      "  _np_quint16 = np.dtype([(\"quint16\", np.uint16, 1)])\n",
      "/Users/morton/anaconda3/envs/wikisim/lib/python3.7/site-packages/tensorboard/compat/tensorflow_stub/dtypes.py:545: FutureWarning: Passing (type, 1) or '1type' as a synonym of type is deprecated; in a future version of numpy, it will be understood as (type, (1,)) / '(1,)type'.\n",
      "  _np_qint32 = np.dtype([(\"qint32\", np.int32, 1)])\n",
      "/Users/morton/anaconda3/envs/wikisim/lib/python3.7/site-packages/tensorboard/compat/tensorflow_stub/dtypes.py:550: FutureWarning: Passing (type, 1) or '1type' as a synonym of type is deprecated; in a future version of numpy, it will be understood as (type, (1,)) / '(1,)type'.\n",
      "  np_resource = np.dtype([(\"resource\", np.ubyte, 1)])\n"
     ]
    }
   ],
   "source": [
    "import os\n",
    "import sys\n",
    "import numpy as np\n",
    "import pandas as pd\n",
    "import matplotlib.pyplot as plt\n",
    "import seaborn as sns\n",
    "import psiz.utils\n",
    "import psiz.dimensionality as dim\n",
    "module_path = os.path.abspath('..')\n",
    "if module_path not in sys.path:\n",
    "    sys.path.append(module_path)\n",
    "from wikisim import embed\n",
    "\n",
    "work_dir = '/Users/morton/work/bender/mturk'\n",
    "sim_file = os.path.join(work_dir, 'mturk_sim.csv')\n",
    "fig_dir = '/Users/morton/work/wikisim/figs2/mturk'\n",
    "if not os.path.exists(fig_dir):\n",
    "    os.mkdir(fig_dir)"
   ]
  },
  {
   "cell_type": "code",
   "execution_count": 2,
   "metadata": {},
   "outputs": [],
   "source": [
    "sim = pd.read_csv(sim_file, index_col=0)"
   ]
  },
  {
   "cell_type": "code",
   "execution_count": 3,
   "metadata": {},
   "outputs": [
    {
     "name": "stdout",
     "output_type": "stream",
     "text": [
      "WARNING:tensorflow:From /Users/morton/anaconda3/envs/wikisim/lib/python3.7/site-packages/psiz/models.py:1227: add_dispatch_support.<locals>.wrapper (from tensorflow.python.ops.array_ops) is deprecated and will be removed in a future version.\n",
      "Instructions for updating:\n",
      "Use tf.where in 2.0, which has the same broadcast rule as np.where\n",
      "    Progress: |--------------------------------------------------| 0.0%% Complete | ETA: 0:00:00\r"
     ]
    },
    {
     "name": "stderr",
     "output_type": "stream",
     "text": [
      "/Users/morton/anaconda3/envs/wikisim/lib/python3.7/site-packages/tensorflow/python/ops/gradients_util.py:93: UserWarning: Converting sparse IndexedSlices to a dense Tensor of unknown shape. This may consume a large amount of memory.\n",
      "  \"Converting sparse IndexedSlices to a dense Tensor of unknown shape. \"\n"
     ]
    },
    {
     "name": "stdout",
     "output_type": "stream",
     "text": [
      "WARNING:tensorflow:From /Users/morton/anaconda3/envs/wikisim/lib/python3.7/site-packages/tensorflow/python/training/rmsprop.py:119: calling Ones.__init__ (from tensorflow.python.ops.init_ops) with dtype is deprecated and will be removed in a future version.\n",
      "Instructions for updating:\n",
      "Call initializer instance with the dtype argument instead of passing it to the constructor\n",
      "    Progress: |██████████████████████████████████████████████████| 100.0%% Complete | ETA: 0:00:00\n",
      "    Elapsed time: 0:01:35\n",
      "    Progress: |--------------------------------------------------| 0.0%% Complete | ETA: 0:00:00\r"
     ]
    },
    {
     "name": "stderr",
     "output_type": "stream",
     "text": [
      "/Users/morton/anaconda3/envs/wikisim/lib/python3.7/site-packages/tensorflow/python/ops/gradients_util.py:93: UserWarning: Converting sparse IndexedSlices to a dense Tensor of unknown shape. This may consume a large amount of memory.\n",
      "  \"Converting sparse IndexedSlices to a dense Tensor of unknown shape. \"\n"
     ]
    },
    {
     "name": "stdout",
     "output_type": "stream",
     "text": [
      "    Progress: |██████████████████████████████████████████████████| 100.0%% Complete | ETA: 0:00:00\n",
      "    Elapsed time: 0:01:17\n",
      "    Progress: |--------------------------------------------------| 0.0%% Complete | ETA: 0:00:00\r"
     ]
    },
    {
     "name": "stderr",
     "output_type": "stream",
     "text": [
      "/Users/morton/anaconda3/envs/wikisim/lib/python3.7/site-packages/tensorflow/python/ops/gradients_util.py:93: UserWarning: Converting sparse IndexedSlices to a dense Tensor of unknown shape. This may consume a large amount of memory.\n",
      "  \"Converting sparse IndexedSlices to a dense Tensor of unknown shape. \"\n"
     ]
    },
    {
     "name": "stdout",
     "output_type": "stream",
     "text": [
      "    Progress: |██████████████████████████████████████████████████| 100.0%% Complete | ETA: 0:00:00\n",
      "    Elapsed time: 0:01:04\n",
      "    Progress: |--------------------------------------------------| 0.0%% Complete | ETA: 0:00:00\r"
     ]
    },
    {
     "name": "stderr",
     "output_type": "stream",
     "text": [
      "/Users/morton/anaconda3/envs/wikisim/lib/python3.7/site-packages/tensorflow/python/ops/gradients_util.py:93: UserWarning: Converting sparse IndexedSlices to a dense Tensor of unknown shape. This may consume a large amount of memory.\n",
      "  \"Converting sparse IndexedSlices to a dense Tensor of unknown shape. \"\n"
     ]
    },
    {
     "name": "stdout",
     "output_type": "stream",
     "text": [
      "    Progress: |██████████████████████████████████████████████████| 100.0%% Complete | ETA: 0:00:00\n",
      "    Elapsed time: 0:01:06\n",
      "    Progress: |--------------------------------------------------| 0.0%% Complete | ETA: 0:00:00\r"
     ]
    },
    {
     "name": "stderr",
     "output_type": "stream",
     "text": [
      "/Users/morton/anaconda3/envs/wikisim/lib/python3.7/site-packages/tensorflow/python/ops/gradients_util.py:93: UserWarning: Converting sparse IndexedSlices to a dense Tensor of unknown shape. This may consume a large amount of memory.\n",
      "  \"Converting sparse IndexedSlices to a dense Tensor of unknown shape. \"\n"
     ]
    },
    {
     "name": "stdout",
     "output_type": "stream",
     "text": [
      "    Progress: |██████████████████████████████████████████████████| 100.0%% Complete | ETA: 0:00:00\n",
      "    Elapsed time: 0:01:06\n",
      "    Progress: |--------------------------------------------------| 0.0%% Complete | ETA: 0:00:00\r"
     ]
    },
    {
     "name": "stderr",
     "output_type": "stream",
     "text": [
      "/Users/morton/anaconda3/envs/wikisim/lib/python3.7/site-packages/tensorflow/python/ops/gradients_util.py:93: UserWarning: Converting sparse IndexedSlices to a dense Tensor of unknown shape. This may consume a large amount of memory.\n",
      "  \"Converting sparse IndexedSlices to a dense Tensor of unknown shape. \"\n"
     ]
    },
    {
     "name": "stdout",
     "output_type": "stream",
     "text": [
      "    Progress: |██████████████████████████████████████████████████| 100.0%% Complete | ETA: 0:00:00\n",
      "    Elapsed time: 0:01:41\n",
      "    Progress: |--------------------------------------------------| 0.0%% Complete | ETA: 0:00:00\r"
     ]
    },
    {
     "name": "stderr",
     "output_type": "stream",
     "text": [
      "/Users/morton/anaconda3/envs/wikisim/lib/python3.7/site-packages/tensorflow/python/ops/gradients_util.py:93: UserWarning: Converting sparse IndexedSlices to a dense Tensor of unknown shape. This may consume a large amount of memory.\n",
      "  \"Converting sparse IndexedSlices to a dense Tensor of unknown shape. \"\n"
     ]
    },
    {
     "name": "stdout",
     "output_type": "stream",
     "text": [
      "    Progress: |██████████████████████████████████████████████████| 100.0%% Complete | ETA: 0:00:00\n",
      "    Elapsed time: 0:01:24\n",
      "    Progress: |--------------------------------------------------| 0.0%% Complete | ETA: 0:00:00\r"
     ]
    },
    {
     "name": "stderr",
     "output_type": "stream",
     "text": [
      "/Users/morton/anaconda3/envs/wikisim/lib/python3.7/site-packages/tensorflow/python/ops/gradients_util.py:93: UserWarning: Converting sparse IndexedSlices to a dense Tensor of unknown shape. This may consume a large amount of memory.\n",
      "  \"Converting sparse IndexedSlices to a dense Tensor of unknown shape. \"\n"
     ]
    },
    {
     "name": "stdout",
     "output_type": "stream",
     "text": [
      "    Progress: |██████████████████████████████████████████████████| 100.0%% Complete | ETA: 0:00:00\n",
      "    Elapsed time: 0:01:11\n",
      "    Progress: |--------------------------------------------------| 0.0%% Complete | ETA: 0:00:00\r"
     ]
    },
    {
     "name": "stderr",
     "output_type": "stream",
     "text": [
      "/Users/morton/anaconda3/envs/wikisim/lib/python3.7/site-packages/tensorflow/python/ops/gradients_util.py:93: UserWarning: Converting sparse IndexedSlices to a dense Tensor of unknown shape. This may consume a large amount of memory.\n",
      "  \"Converting sparse IndexedSlices to a dense Tensor of unknown shape. \"\n"
     ]
    },
    {
     "name": "stdout",
     "output_type": "stream",
     "text": [
      "    Progress: |██████████████████████████████████████████████████| 100.0%% Complete | ETA: 0:00:00\n",
      "    Elapsed time: 0:01:06\n",
      "    Progress: |--------------------------------------------------| 0.0%% Complete | ETA: 0:00:00\r"
     ]
    },
    {
     "name": "stderr",
     "output_type": "stream",
     "text": [
      "/Users/morton/anaconda3/envs/wikisim/lib/python3.7/site-packages/tensorflow/python/ops/gradients_util.py:93: UserWarning: Converting sparse IndexedSlices to a dense Tensor of unknown shape. This may consume a large amount of memory.\n",
      "  \"Converting sparse IndexedSlices to a dense Tensor of unknown shape. \"\n"
     ]
    },
    {
     "name": "stdout",
     "output_type": "stream",
     "text": [
      "    Progress: |██████████████████████████████████████████████████| 100.0%% Complete | ETA: 0:00:00\n",
      "    Elapsed time: 0:01:12\n",
      "    Progress: |--------------------------------------------------| 0.0%% Complete | ETA: 0:00:00\r"
     ]
    },
    {
     "name": "stderr",
     "output_type": "stream",
     "text": [
      "/Users/morton/anaconda3/envs/wikisim/lib/python3.7/site-packages/tensorflow/python/ops/gradients_util.py:93: UserWarning: Converting sparse IndexedSlices to a dense Tensor of unknown shape. This may consume a large amount of memory.\n",
      "  \"Converting sparse IndexedSlices to a dense Tensor of unknown shape. \"\n"
     ]
    },
    {
     "name": "stdout",
     "output_type": "stream",
     "text": [
      "    Progress: |██████████████████████████████████████████████████| 100.0%% Complete | ETA: 0:00:00\n",
      "    Elapsed time: 0:01:23\n",
      "    Progress: |--------------------------------------------------| 0.0%% Complete | ETA: 0:00:00\r"
     ]
    },
    {
     "name": "stderr",
     "output_type": "stream",
     "text": [
      "/Users/morton/anaconda3/envs/wikisim/lib/python3.7/site-packages/tensorflow/python/ops/gradients_util.py:93: UserWarning: Converting sparse IndexedSlices to a dense Tensor of unknown shape. This may consume a large amount of memory.\n",
      "  \"Converting sparse IndexedSlices to a dense Tensor of unknown shape. \"\n"
     ]
    },
    {
     "name": "stdout",
     "output_type": "stream",
     "text": [
      "    Progress: |██████████████████████████████████████████████████| 100.0%% Complete | ETA: 0:00:00\n",
      "    Elapsed time: 0:01:19\n",
      "    Progress: |--------------------------------------------------| 0.0%% Complete | ETA: 0:00:00\r"
     ]
    },
    {
     "name": "stderr",
     "output_type": "stream",
     "text": [
      "/Users/morton/anaconda3/envs/wikisim/lib/python3.7/site-packages/tensorflow/python/ops/gradients_util.py:93: UserWarning: Converting sparse IndexedSlices to a dense Tensor of unknown shape. This may consume a large amount of memory.\n",
      "  \"Converting sparse IndexedSlices to a dense Tensor of unknown shape. \"\n"
     ]
    },
    {
     "name": "stdout",
     "output_type": "stream",
     "text": [
      "    Progress: |██████████████████████████████████████████████████| 100.0%% Complete | ETA: 0:00:00\n",
      "    Elapsed time: 0:01:00\n",
      "    Progress: |--------------------------------------------------| 0.0%% Complete | ETA: 0:00:00\r"
     ]
    },
    {
     "name": "stderr",
     "output_type": "stream",
     "text": [
      "/Users/morton/anaconda3/envs/wikisim/lib/python3.7/site-packages/tensorflow/python/ops/gradients_util.py:93: UserWarning: Converting sparse IndexedSlices to a dense Tensor of unknown shape. This may consume a large amount of memory.\n",
      "  \"Converting sparse IndexedSlices to a dense Tensor of unknown shape. \"\n"
     ]
    },
    {
     "name": "stdout",
     "output_type": "stream",
     "text": [
      "    Progress: |██████████████████████████████████████████████████| 100.0%% Complete | ETA: 0:00:00\n",
      "    Elapsed time: 0:01:01\n",
      "    Progress: |--------------------------------------------------| 0.0%% Complete | ETA: 0:00:00\r"
     ]
    },
    {
     "name": "stderr",
     "output_type": "stream",
     "text": [
      "/Users/morton/anaconda3/envs/wikisim/lib/python3.7/site-packages/tensorflow/python/ops/gradients_util.py:93: UserWarning: Converting sparse IndexedSlices to a dense Tensor of unknown shape. This may consume a large amount of memory.\n",
      "  \"Converting sparse IndexedSlices to a dense Tensor of unknown shape. \"\n"
     ]
    },
    {
     "name": "stdout",
     "output_type": "stream",
     "text": [
      "    Progress: |██████████████████████████████████████████████████| 100.0%% Complete | ETA: 0:00:00\n",
      "    Elapsed time: 0:01:20\n",
      "    Progress: |--------------------------------------------------| 0.0%% Complete | ETA: 0:00:00\r"
     ]
    },
    {
     "name": "stderr",
     "output_type": "stream",
     "text": [
      "/Users/morton/anaconda3/envs/wikisim/lib/python3.7/site-packages/tensorflow/python/ops/gradients_util.py:93: UserWarning: Converting sparse IndexedSlices to a dense Tensor of unknown shape. This may consume a large amount of memory.\n",
      "  \"Converting sparse IndexedSlices to a dense Tensor of unknown shape. \"\n"
     ]
    },
    {
     "name": "stdout",
     "output_type": "stream",
     "text": [
      "    Progress: |██████████████████████████████████████████████████| 100.0%% Complete | ETA: 0:00:00\n",
      "    Elapsed time: 0:01:22\n",
      "    Progress: |--------------------------------------------------| 0.0%% Complete | ETA: 0:00:00\r"
     ]
    },
    {
     "name": "stderr",
     "output_type": "stream",
     "text": [
      "/Users/morton/anaconda3/envs/wikisim/lib/python3.7/site-packages/tensorflow/python/ops/gradients_util.py:93: UserWarning: Converting sparse IndexedSlices to a dense Tensor of unknown shape. This may consume a large amount of memory.\n",
      "  \"Converting sparse IndexedSlices to a dense Tensor of unknown shape. \"\n"
     ]
    },
    {
     "name": "stdout",
     "output_type": "stream",
     "text": [
      "    Progress: |██████████████████████████████████████████████████| 100.0%% Complete | ETA: 0:00:00\n",
      "    Elapsed time: 0:01:01\n",
      "    Progress: |--------------------------------------------------| 0.0%% Complete | ETA: 0:00:00\r"
     ]
    },
    {
     "name": "stderr",
     "output_type": "stream",
     "text": [
      "/Users/morton/anaconda3/envs/wikisim/lib/python3.7/site-packages/tensorflow/python/ops/gradients_util.py:93: UserWarning: Converting sparse IndexedSlices to a dense Tensor of unknown shape. This may consume a large amount of memory.\n",
      "  \"Converting sparse IndexedSlices to a dense Tensor of unknown shape. \"\n"
     ]
    },
    {
     "name": "stdout",
     "output_type": "stream",
     "text": [
      "    Progress: |██████████████████████████████████████████████████| 100.0%% Complete | ETA: 0:00:00\n",
      "    Elapsed time: 0:01:03\n",
      "    Progress: |--------------------------------------------------| 0.0%% Complete | ETA: 0:00:00\r"
     ]
    },
    {
     "name": "stderr",
     "output_type": "stream",
     "text": [
      "/Users/morton/anaconda3/envs/wikisim/lib/python3.7/site-packages/tensorflow/python/ops/gradients_util.py:93: UserWarning: Converting sparse IndexedSlices to a dense Tensor of unknown shape. This may consume a large amount of memory.\n",
      "  \"Converting sparse IndexedSlices to a dense Tensor of unknown shape. \"\n"
     ]
    },
    {
     "name": "stdout",
     "output_type": "stream",
     "text": [
      "    Progress: |██████████████████████████████████████████████████| 100.0%% Complete | ETA: 0:00:00\n",
      "    Elapsed time: 0:00:55\n",
      "    Progress: |--------------------------------------------------| 0.0%% Complete | ETA: 0:00:00\r"
     ]
    },
    {
     "name": "stderr",
     "output_type": "stream",
     "text": [
      "/Users/morton/anaconda3/envs/wikisim/lib/python3.7/site-packages/tensorflow/python/ops/gradients_util.py:93: UserWarning: Converting sparse IndexedSlices to a dense Tensor of unknown shape. This may consume a large amount of memory.\n",
      "  \"Converting sparse IndexedSlices to a dense Tensor of unknown shape. \"\n"
     ]
    },
    {
     "name": "stdout",
     "output_type": "stream",
     "text": [
      "    Progress: |██████████████████████████████████████████████████| 100.0%% Complete | ETA: 0:00:00\n",
      "    Elapsed time: 0:01:09\n",
      "    Progress: |--------------------------------------------------| 0.0%% Complete | ETA: 0:00:00\r"
     ]
    },
    {
     "name": "stderr",
     "output_type": "stream",
     "text": [
      "/Users/morton/anaconda3/envs/wikisim/lib/python3.7/site-packages/tensorflow/python/ops/gradients_util.py:93: UserWarning: Converting sparse IndexedSlices to a dense Tensor of unknown shape. This may consume a large amount of memory.\n",
      "  \"Converting sparse IndexedSlices to a dense Tensor of unknown shape. \"\n"
     ]
    },
    {
     "name": "stdout",
     "output_type": "stream",
     "text": [
      "    Progress: |██████████████████████████████████████████████████| 100.0%% Complete | ETA: 0:00:00\n",
      "    Elapsed time: 0:01:34\n",
      "    Progress: |--------------------------------------------------| 0.0%% Complete | ETA: 0:00:00\r"
     ]
    },
    {
     "name": "stderr",
     "output_type": "stream",
     "text": [
      "/Users/morton/anaconda3/envs/wikisim/lib/python3.7/site-packages/tensorflow/python/ops/gradients_util.py:93: UserWarning: Converting sparse IndexedSlices to a dense Tensor of unknown shape. This may consume a large amount of memory.\n",
      "  \"Converting sparse IndexedSlices to a dense Tensor of unknown shape. \"\n"
     ]
    },
    {
     "name": "stdout",
     "output_type": "stream",
     "text": [
      "    Progress: |██████████████████████████████████████████████████| 100.0%% Complete | ETA: 0:00:00\n",
      "    Elapsed time: 0:01:24\n",
      "    Progress: |--------------------------------------------------| 0.0%% Complete | ETA: 0:00:00\r"
     ]
    },
    {
     "name": "stderr",
     "output_type": "stream",
     "text": [
      "/Users/morton/anaconda3/envs/wikisim/lib/python3.7/site-packages/tensorflow/python/ops/gradients_util.py:93: UserWarning: Converting sparse IndexedSlices to a dense Tensor of unknown shape. This may consume a large amount of memory.\n",
      "  \"Converting sparse IndexedSlices to a dense Tensor of unknown shape. \"\n"
     ]
    },
    {
     "name": "stdout",
     "output_type": "stream",
     "text": [
      "    Progress: |██████████████████████████████████████████████████| 100.0%% Complete | ETA: 0:00:00\n",
      "    Elapsed time: 0:01:02\n",
      "    Progress: |--------------------------------------------------| 0.0%% Complete | ETA: 0:00:00\r"
     ]
    },
    {
     "name": "stderr",
     "output_type": "stream",
     "text": [
      "/Users/morton/anaconda3/envs/wikisim/lib/python3.7/site-packages/tensorflow/python/ops/gradients_util.py:93: UserWarning: Converting sparse IndexedSlices to a dense Tensor of unknown shape. This may consume a large amount of memory.\n",
      "  \"Converting sparse IndexedSlices to a dense Tensor of unknown shape. \"\n"
     ]
    },
    {
     "name": "stdout",
     "output_type": "stream",
     "text": [
      "    Progress: |██████████████████████████████████████████████████| 100.0%% Complete | ETA: 0:00:00\n",
      "    Elapsed time: 0:01:08\n",
      "    Progress: |--------------------------------------------------| 0.0%% Complete | ETA: 0:00:00\r"
     ]
    },
    {
     "name": "stderr",
     "output_type": "stream",
     "text": [
      "/Users/morton/anaconda3/envs/wikisim/lib/python3.7/site-packages/tensorflow/python/ops/gradients_util.py:93: UserWarning: Converting sparse IndexedSlices to a dense Tensor of unknown shape. This may consume a large amount of memory.\n",
      "  \"Converting sparse IndexedSlices to a dense Tensor of unknown shape. \"\n"
     ]
    },
    {
     "name": "stdout",
     "output_type": "stream",
     "text": [
      "    Progress: |██████████████████████████████████████████████████| 100.0%% Complete | ETA: 0:00:00\n",
      "    Elapsed time: 0:01:04\n",
      "    Progress: |--------------------------------------------------| 0.0%% Complete | ETA: 0:00:00\r"
     ]
    },
    {
     "name": "stderr",
     "output_type": "stream",
     "text": [
      "/Users/morton/anaconda3/envs/wikisim/lib/python3.7/site-packages/tensorflow/python/ops/gradients_util.py:93: UserWarning: Converting sparse IndexedSlices to a dense Tensor of unknown shape. This may consume a large amount of memory.\n",
      "  \"Converting sparse IndexedSlices to a dense Tensor of unknown shape. \"\n"
     ]
    },
    {
     "name": "stdout",
     "output_type": "stream",
     "text": [
      "    Progress: |██████████████████████████████████████████████████| 100.0%% Complete | ETA: 0:00:00\n",
      "    Elapsed time: 0:01:43\n",
      "    Progress: |--------------------------------------------------| 0.0%% Complete | ETA: 0:00:00\r"
     ]
    },
    {
     "name": "stderr",
     "output_type": "stream",
     "text": [
      "/Users/morton/anaconda3/envs/wikisim/lib/python3.7/site-packages/tensorflow/python/ops/gradients_util.py:93: UserWarning: Converting sparse IndexedSlices to a dense Tensor of unknown shape. This may consume a large amount of memory.\n",
      "  \"Converting sparse IndexedSlices to a dense Tensor of unknown shape. \"\n"
     ]
    },
    {
     "name": "stdout",
     "output_type": "stream",
     "text": [
      "    Progress: |██████████████████████████████████████████████████| 100.0%% Complete | ETA: 0:00:00\n",
      "    Elapsed time: 0:00:59\n",
      "    Progress: |--------------------------------------------------| 0.0%% Complete | ETA: 0:00:00\r"
     ]
    },
    {
     "name": "stderr",
     "output_type": "stream",
     "text": [
      "/Users/morton/anaconda3/envs/wikisim/lib/python3.7/site-packages/tensorflow/python/ops/gradients_util.py:93: UserWarning: Converting sparse IndexedSlices to a dense Tensor of unknown shape. This may consume a large amount of memory.\n",
      "  \"Converting sparse IndexedSlices to a dense Tensor of unknown shape. \"\n"
     ]
    },
    {
     "name": "stdout",
     "output_type": "stream",
     "text": [
      "    Progress: |██████████████████████████████████████████████████| 100.0%% Complete | ETA: 0:00:00\n",
      "    Elapsed time: 0:00:57\n",
      "    Progress: |--------------------------------------------------| 0.0%% Complete | ETA: 0:00:00\r"
     ]
    },
    {
     "name": "stderr",
     "output_type": "stream",
     "text": [
      "/Users/morton/anaconda3/envs/wikisim/lib/python3.7/site-packages/tensorflow/python/ops/gradients_util.py:93: UserWarning: Converting sparse IndexedSlices to a dense Tensor of unknown shape. This may consume a large amount of memory.\n",
      "  \"Converting sparse IndexedSlices to a dense Tensor of unknown shape. \"\n"
     ]
    },
    {
     "name": "stdout",
     "output_type": "stream",
     "text": [
      "    Progress: |██████████████████████████████████████████████████| 100.0%% Complete | ETA: 0:00:00\n",
      "    Elapsed time: 0:00:50\n",
      "    Progress: |--------------------------------------------------| 0.0%% Complete | ETA: 0:00:00\r"
     ]
    },
    {
     "name": "stderr",
     "output_type": "stream",
     "text": [
      "/Users/morton/anaconda3/envs/wikisim/lib/python3.7/site-packages/tensorflow/python/ops/gradients_util.py:93: UserWarning: Converting sparse IndexedSlices to a dense Tensor of unknown shape. This may consume a large amount of memory.\n",
      "  \"Converting sparse IndexedSlices to a dense Tensor of unknown shape. \"\n"
     ]
    },
    {
     "name": "stdout",
     "output_type": "stream",
     "text": [
      "    Progress: |██████████████████████████████████████████████████| 100.0%% Complete | ETA: 0:00:00\n",
      "    Elapsed time: 0:01:00\n",
      "    Progress: |--------------------------------------------------| 0.0%% Complete | ETA: 0:00:00\r"
     ]
    },
    {
     "name": "stderr",
     "output_type": "stream",
     "text": [
      "/Users/morton/anaconda3/envs/wikisim/lib/python3.7/site-packages/tensorflow/python/ops/gradients_util.py:93: UserWarning: Converting sparse IndexedSlices to a dense Tensor of unknown shape. This may consume a large amount of memory.\n",
      "  \"Converting sparse IndexedSlices to a dense Tensor of unknown shape. \"\n"
     ]
    },
    {
     "name": "stdout",
     "output_type": "stream",
     "text": [
      "    Progress: |██████████████████████████████████████████████████| 100.0%% Complete | ETA: 0:00:00\n",
      "    Elapsed time: 0:01:15\n",
      "    Progress: |--------------------------------------------------| 0.0%% Complete | ETA: 0:00:00\r"
     ]
    },
    {
     "name": "stderr",
     "output_type": "stream",
     "text": [
      "/Users/morton/anaconda3/envs/wikisim/lib/python3.7/site-packages/tensorflow/python/ops/gradients_util.py:93: UserWarning: Converting sparse IndexedSlices to a dense Tensor of unknown shape. This may consume a large amount of memory.\n",
      "  \"Converting sparse IndexedSlices to a dense Tensor of unknown shape. \"\n"
     ]
    },
    {
     "name": "stdout",
     "output_type": "stream",
     "text": [
      "    Progress: |██████████████████████████████████████████████████| 100.0%% Complete | ETA: 0:00:00\n",
      "    Elapsed time: 0:00:49\n",
      "    Progress: |--------------------------------------------------| 0.0%% Complete | ETA: 0:00:00\r"
     ]
    },
    {
     "name": "stderr",
     "output_type": "stream",
     "text": [
      "/Users/morton/anaconda3/envs/wikisim/lib/python3.7/site-packages/tensorflow/python/ops/gradients_util.py:93: UserWarning: Converting sparse IndexedSlices to a dense Tensor of unknown shape. This may consume a large amount of memory.\n",
      "  \"Converting sparse IndexedSlices to a dense Tensor of unknown shape. \"\n"
     ]
    },
    {
     "name": "stdout",
     "output_type": "stream",
     "text": [
      "    Progress: |██████████████████████████████████████████████████| 100.0%% Complete | ETA: 0:00:00\n",
      "    Elapsed time: 0:00:48\n",
      "    Progress: |--------------------------------------------------| 0.0%% Complete | ETA: 0:00:00\r"
     ]
    },
    {
     "name": "stderr",
     "output_type": "stream",
     "text": [
      "/Users/morton/anaconda3/envs/wikisim/lib/python3.7/site-packages/tensorflow/python/ops/gradients_util.py:93: UserWarning: Converting sparse IndexedSlices to a dense Tensor of unknown shape. This may consume a large amount of memory.\n",
      "  \"Converting sparse IndexedSlices to a dense Tensor of unknown shape. \"\n"
     ]
    },
    {
     "name": "stdout",
     "output_type": "stream",
     "text": [
      "    Progress: |██████████████████████████████████████████████████| 100.0%% Complete | ETA: 0:00:00\n",
      "    Elapsed time: 0:01:05\n",
      "    Progress: |--------------------------------------------------| 0.0%% Complete | ETA: 0:00:00\r"
     ]
    },
    {
     "name": "stderr",
     "output_type": "stream",
     "text": [
      "/Users/morton/anaconda3/envs/wikisim/lib/python3.7/site-packages/tensorflow/python/ops/gradients_util.py:93: UserWarning: Converting sparse IndexedSlices to a dense Tensor of unknown shape. This may consume a large amount of memory.\n",
      "  \"Converting sparse IndexedSlices to a dense Tensor of unknown shape. \"\n"
     ]
    },
    {
     "name": "stdout",
     "output_type": "stream",
     "text": [
      "    Progress: |██████████████████████████████████████████████████| 100.0%% Complete | ETA: 0:00:00\n",
      "    Elapsed time: 0:00:54\n",
      "    Progress: |--------------------------------------------------| 0.0%% Complete | ETA: 0:00:00\r"
     ]
    },
    {
     "name": "stderr",
     "output_type": "stream",
     "text": [
      "/Users/morton/anaconda3/envs/wikisim/lib/python3.7/site-packages/tensorflow/python/ops/gradients_util.py:93: UserWarning: Converting sparse IndexedSlices to a dense Tensor of unknown shape. This may consume a large amount of memory.\n",
      "  \"Converting sparse IndexedSlices to a dense Tensor of unknown shape. \"\n"
     ]
    },
    {
     "name": "stdout",
     "output_type": "stream",
     "text": [
      "    Progress: |██████████████████████████████████████████████████| 100.0%% Complete | ETA: 0:00:00\n",
      "    Elapsed time: 0:01:10\n",
      "    Progress: |--------------------------------------------------| 0.0%% Complete | ETA: 0:00:00\r"
     ]
    },
    {
     "name": "stderr",
     "output_type": "stream",
     "text": [
      "/Users/morton/anaconda3/envs/wikisim/lib/python3.7/site-packages/tensorflow/python/ops/gradients_util.py:93: UserWarning: Converting sparse IndexedSlices to a dense Tensor of unknown shape. This may consume a large amount of memory.\n",
      "  \"Converting sparse IndexedSlices to a dense Tensor of unknown shape. \"\n"
     ]
    },
    {
     "name": "stdout",
     "output_type": "stream",
     "text": [
      "    Progress: |██████████████████████████████████████████████████| 100.0%% Complete | ETA: 0:00:00\n",
      "    Elapsed time: 0:00:49\n",
      "    Progress: |--------------------------------------------------| 0.0%% Complete | ETA: 0:00:00\r"
     ]
    },
    {
     "name": "stderr",
     "output_type": "stream",
     "text": [
      "/Users/morton/anaconda3/envs/wikisim/lib/python3.7/site-packages/tensorflow/python/ops/gradients_util.py:93: UserWarning: Converting sparse IndexedSlices to a dense Tensor of unknown shape. This may consume a large amount of memory.\n",
      "  \"Converting sparse IndexedSlices to a dense Tensor of unknown shape. \"\n"
     ]
    },
    {
     "name": "stdout",
     "output_type": "stream",
     "text": [
      "    Progress: |██████████████████████████████████████████████████| 100.0%% Complete | ETA: 0:00:00\n",
      "    Elapsed time: 0:01:02\n",
      "    Progress: |--------------------------------------------------| 0.0%% Complete | ETA: 0:00:00\r"
     ]
    },
    {
     "name": "stderr",
     "output_type": "stream",
     "text": [
      "/Users/morton/anaconda3/envs/wikisim/lib/python3.7/site-packages/tensorflow/python/ops/gradients_util.py:93: UserWarning: Converting sparse IndexedSlices to a dense Tensor of unknown shape. This may consume a large amount of memory.\n",
      "  \"Converting sparse IndexedSlices to a dense Tensor of unknown shape. \"\n"
     ]
    },
    {
     "name": "stdout",
     "output_type": "stream",
     "text": [
      "    Progress: |██████████████████████████████████████████████████| 100.0%% Complete | ETA: 0:00:00\n",
      "    Elapsed time: 0:00:49\n",
      "    Progress: |--------------------------------------------------| 0.0%% Complete | ETA: 0:00:00\r"
     ]
    },
    {
     "name": "stderr",
     "output_type": "stream",
     "text": [
      "/Users/morton/anaconda3/envs/wikisim/lib/python3.7/site-packages/tensorflow/python/ops/gradients_util.py:93: UserWarning: Converting sparse IndexedSlices to a dense Tensor of unknown shape. This may consume a large amount of memory.\n",
      "  \"Converting sparse IndexedSlices to a dense Tensor of unknown shape. \"\n"
     ]
    },
    {
     "name": "stdout",
     "output_type": "stream",
     "text": [
      "    Progress: |██████████████████████████████████████████████████| 100.0%% Complete | ETA: 0:00:00\n",
      "    Elapsed time: 0:00:59\n",
      "    Progress: |--------------------------------------------------| 0.0%% Complete | ETA: 0:00:00\r"
     ]
    },
    {
     "name": "stderr",
     "output_type": "stream",
     "text": [
      "/Users/morton/anaconda3/envs/wikisim/lib/python3.7/site-packages/tensorflow/python/ops/gradients_util.py:93: UserWarning: Converting sparse IndexedSlices to a dense Tensor of unknown shape. This may consume a large amount of memory.\n",
      "  \"Converting sparse IndexedSlices to a dense Tensor of unknown shape. \"\n"
     ]
    },
    {
     "name": "stdout",
     "output_type": "stream",
     "text": [
      "    Progress: |██████████████████████████████████████████████████| 100.0%% Complete | ETA: 0:00:00\n",
      "    Elapsed time: 0:01:06\n",
      "    Progress: |--------------------------------------------------| 0.0%% Complete | ETA: 0:00:00\r"
     ]
    },
    {
     "name": "stderr",
     "output_type": "stream",
     "text": [
      "/Users/morton/anaconda3/envs/wikisim/lib/python3.7/site-packages/tensorflow/python/ops/gradients_util.py:93: UserWarning: Converting sparse IndexedSlices to a dense Tensor of unknown shape. This may consume a large amount of memory.\n",
      "  \"Converting sparse IndexedSlices to a dense Tensor of unknown shape. \"\n"
     ]
    },
    {
     "name": "stdout",
     "output_type": "stream",
     "text": [
      "    Progress: |██████████████████████████████████████████████████| 100.0%% Complete | ETA: 0:00:00\n",
      "    Elapsed time: 0:00:49\n",
      "    Progress: |--------------------------------------------------| 0.0%% Complete | ETA: 0:00:00\r"
     ]
    },
    {
     "name": "stderr",
     "output_type": "stream",
     "text": [
      "/Users/morton/anaconda3/envs/wikisim/lib/python3.7/site-packages/tensorflow/python/ops/gradients_util.py:93: UserWarning: Converting sparse IndexedSlices to a dense Tensor of unknown shape. This may consume a large amount of memory.\n",
      "  \"Converting sparse IndexedSlices to a dense Tensor of unknown shape. \"\n"
     ]
    },
    {
     "name": "stdout",
     "output_type": "stream",
     "text": [
      "    Progress: |██████████████████████████████████████████████████| 100.0%% Complete | ETA: 0:00:00\n",
      "    Elapsed time: 0:00:43\n",
      "    Progress: |--------------------------------------------------| 0.0%% Complete | ETA: 0:00:00\r"
     ]
    },
    {
     "name": "stderr",
     "output_type": "stream",
     "text": [
      "/Users/morton/anaconda3/envs/wikisim/lib/python3.7/site-packages/tensorflow/python/ops/gradients_util.py:93: UserWarning: Converting sparse IndexedSlices to a dense Tensor of unknown shape. This may consume a large amount of memory.\n",
      "  \"Converting sparse IndexedSlices to a dense Tensor of unknown shape. \"\n"
     ]
    },
    {
     "name": "stdout",
     "output_type": "stream",
     "text": [
      "    Progress: |██████████████████████████████████████████████████| 100.0%% Complete | ETA: 0:00:00\n",
      "    Elapsed time: 0:00:53\n",
      "    Progress: |--------------------------------------------------| 0.0%% Complete | ETA: 0:00:00\r"
     ]
    },
    {
     "name": "stderr",
     "output_type": "stream",
     "text": [
      "/Users/morton/anaconda3/envs/wikisim/lib/python3.7/site-packages/tensorflow/python/ops/gradients_util.py:93: UserWarning: Converting sparse IndexedSlices to a dense Tensor of unknown shape. This may consume a large amount of memory.\n",
      "  \"Converting sparse IndexedSlices to a dense Tensor of unknown shape. \"\n"
     ]
    },
    {
     "name": "stdout",
     "output_type": "stream",
     "text": [
      "    Progress: |██████████████████████████████████████████████████| 100.0%% Complete | ETA: 0:00:00\n",
      "    Elapsed time: 0:00:59\n",
      "    Progress: |--------------------------------------------------| 0.0%% Complete | ETA: 0:00:00\r"
     ]
    },
    {
     "name": "stderr",
     "output_type": "stream",
     "text": [
      "/Users/morton/anaconda3/envs/wikisim/lib/python3.7/site-packages/tensorflow/python/ops/gradients_util.py:93: UserWarning: Converting sparse IndexedSlices to a dense Tensor of unknown shape. This may consume a large amount of memory.\n",
      "  \"Converting sparse IndexedSlices to a dense Tensor of unknown shape. \"\n"
     ]
    },
    {
     "name": "stdout",
     "output_type": "stream",
     "text": [
      "    Progress: |██████████████████████████████████████████████████| 100.0%% Complete | ETA: 0:00:00\n",
      "    Elapsed time: 0:00:34\n",
      "    Progress: |--------------------------------------------------| 0.0%% Complete | ETA: 0:00:00\r"
     ]
    },
    {
     "name": "stderr",
     "output_type": "stream",
     "text": [
      "/Users/morton/anaconda3/envs/wikisim/lib/python3.7/site-packages/tensorflow/python/ops/gradients_util.py:93: UserWarning: Converting sparse IndexedSlices to a dense Tensor of unknown shape. This may consume a large amount of memory.\n",
      "  \"Converting sparse IndexedSlices to a dense Tensor of unknown shape. \"\n"
     ]
    },
    {
     "name": "stdout",
     "output_type": "stream",
     "text": [
      "    Progress: |██████████████████████████████████████████████████| 100.0%% Complete | ETA: 0:00:00\n",
      "    Elapsed time: 0:00:43\n",
      "    Progress: |--------------------------------------------------| 0.0%% Complete | ETA: 0:00:00\r"
     ]
    },
    {
     "name": "stderr",
     "output_type": "stream",
     "text": [
      "/Users/morton/anaconda3/envs/wikisim/lib/python3.7/site-packages/tensorflow/python/ops/gradients_util.py:93: UserWarning: Converting sparse IndexedSlices to a dense Tensor of unknown shape. This may consume a large amount of memory.\n",
      "  \"Converting sparse IndexedSlices to a dense Tensor of unknown shape. \"\n"
     ]
    },
    {
     "name": "stdout",
     "output_type": "stream",
     "text": [
      "    Progress: |██████████████████████████████████████████████████| 100.0%% Complete | ETA: 0:00:00\n",
      "    Elapsed time: 0:00:56\n",
      "    Progress: |--------------------------------------------------| 0.0%% Complete | ETA: 0:00:00\r"
     ]
    },
    {
     "name": "stderr",
     "output_type": "stream",
     "text": [
      "/Users/morton/anaconda3/envs/wikisim/lib/python3.7/site-packages/tensorflow/python/ops/gradients_util.py:93: UserWarning: Converting sparse IndexedSlices to a dense Tensor of unknown shape. This may consume a large amount of memory.\n",
      "  \"Converting sparse IndexedSlices to a dense Tensor of unknown shape. \"\n"
     ]
    },
    {
     "name": "stdout",
     "output_type": "stream",
     "text": [
      "    Progress: |██████████████████████████████████████████████████| 100.0%% Complete | ETA: 0:00:00\n",
      "    Elapsed time: 0:01:03\n",
      "    Progress: |--------------------------------------------------| 0.0%% Complete | ETA: 0:00:00\r"
     ]
    },
    {
     "name": "stderr",
     "output_type": "stream",
     "text": [
      "/Users/morton/anaconda3/envs/wikisim/lib/python3.7/site-packages/tensorflow/python/ops/gradients_util.py:93: UserWarning: Converting sparse IndexedSlices to a dense Tensor of unknown shape. This may consume a large amount of memory.\n",
      "  \"Converting sparse IndexedSlices to a dense Tensor of unknown shape. \"\n"
     ]
    },
    {
     "name": "stdout",
     "output_type": "stream",
     "text": [
      "    Progress: |██████████████████████████████████████████████████| 100.0%% Complete | ETA: 0:00:00\n",
      "    Elapsed time: 0:00:57\n",
      "    Progress: |--------------------------------------------------| 0.0%% Complete | ETA: 0:00:00\r"
     ]
    },
    {
     "name": "stderr",
     "output_type": "stream",
     "text": [
      "/Users/morton/anaconda3/envs/wikisim/lib/python3.7/site-packages/tensorflow/python/ops/gradients_util.py:93: UserWarning: Converting sparse IndexedSlices to a dense Tensor of unknown shape. This may consume a large amount of memory.\n",
      "  \"Converting sparse IndexedSlices to a dense Tensor of unknown shape. \"\n"
     ]
    },
    {
     "name": "stdout",
     "output_type": "stream",
     "text": [
      "    Progress: |██████████████████████████████████████████████████| 100.0%% Complete | ETA: 0:00:00\n",
      "    Elapsed time: 0:01:41\n",
      "    Progress: |--------------------------------------------------| 0.0%% Complete | ETA: 0:00:00\r"
     ]
    },
    {
     "name": "stderr",
     "output_type": "stream",
     "text": [
      "/Users/morton/anaconda3/envs/wikisim/lib/python3.7/site-packages/tensorflow/python/ops/gradients_util.py:93: UserWarning: Converting sparse IndexedSlices to a dense Tensor of unknown shape. This may consume a large amount of memory.\n",
      "  \"Converting sparse IndexedSlices to a dense Tensor of unknown shape. \"\n"
     ]
    },
    {
     "name": "stdout",
     "output_type": "stream",
     "text": [
      "    Progress: |██████████████████████████████████████████████████| 100.0%% Complete | ETA: 0:00:00\n",
      "    Elapsed time: 0:01:25\n",
      "    Progress: |--------------------------------------------------| 0.0%% Complete | ETA: 0:00:00\r"
     ]
    },
    {
     "name": "stderr",
     "output_type": "stream",
     "text": [
      "/Users/morton/anaconda3/envs/wikisim/lib/python3.7/site-packages/tensorflow/python/ops/gradients_util.py:93: UserWarning: Converting sparse IndexedSlices to a dense Tensor of unknown shape. This may consume a large amount of memory.\n",
      "  \"Converting sparse IndexedSlices to a dense Tensor of unknown shape. \"\n"
     ]
    },
    {
     "name": "stdout",
     "output_type": "stream",
     "text": [
      "    Progress: |██████████████████████████████████████████████████| 100.0%% Complete | ETA: 0:00:00\n",
      "    Elapsed time: 0:01:24\n",
      "    Progress: |--------------------------------------------------| 0.0%% Complete | ETA: 0:00:00\r"
     ]
    },
    {
     "name": "stderr",
     "output_type": "stream",
     "text": [
      "/Users/morton/anaconda3/envs/wikisim/lib/python3.7/site-packages/tensorflow/python/ops/gradients_util.py:93: UserWarning: Converting sparse IndexedSlices to a dense Tensor of unknown shape. This may consume a large amount of memory.\n",
      "  \"Converting sparse IndexedSlices to a dense Tensor of unknown shape. \"\n"
     ]
    },
    {
     "name": "stdout",
     "output_type": "stream",
     "text": [
      "    Progress: |██████████████████████████████████████████████████| 100.0%% Complete | ETA: 0:00:00\n",
      "    Elapsed time: 0:01:40\n",
      "    Progress: |--------------------------------------------------| 0.0%% Complete | ETA: 0:00:00\r"
     ]
    },
    {
     "name": "stderr",
     "output_type": "stream",
     "text": [
      "/Users/morton/anaconda3/envs/wikisim/lib/python3.7/site-packages/tensorflow/python/ops/gradients_util.py:93: UserWarning: Converting sparse IndexedSlices to a dense Tensor of unknown shape. This may consume a large amount of memory.\n",
      "  \"Converting sparse IndexedSlices to a dense Tensor of unknown shape. \"\n"
     ]
    },
    {
     "name": "stdout",
     "output_type": "stream",
     "text": [
      "    Progress: |██████████████████████████████████████████████████| 100.0%% Complete | ETA: 0:00:00\n",
      "    Elapsed time: 0:01:21\n",
      "    Progress: |--------------------------------------------------| 0.0%% Complete | ETA: 0:00:00\r"
     ]
    },
    {
     "name": "stderr",
     "output_type": "stream",
     "text": [
      "/Users/morton/anaconda3/envs/wikisim/lib/python3.7/site-packages/tensorflow/python/ops/gradients_util.py:93: UserWarning: Converting sparse IndexedSlices to a dense Tensor of unknown shape. This may consume a large amount of memory.\n",
      "  \"Converting sparse IndexedSlices to a dense Tensor of unknown shape. \"\n"
     ]
    },
    {
     "name": "stdout",
     "output_type": "stream",
     "text": [
      "    Progress: |██████████████████████████████████████████████████| 100.0%% Complete | ETA: 0:00:00\n",
      "    Elapsed time: 0:01:43\n",
      "    Progress: |--------------------------------------------------| 0.0%% Complete | ETA: 0:00:00\r"
     ]
    },
    {
     "name": "stderr",
     "output_type": "stream",
     "text": [
      "/Users/morton/anaconda3/envs/wikisim/lib/python3.7/site-packages/tensorflow/python/ops/gradients_util.py:93: UserWarning: Converting sparse IndexedSlices to a dense Tensor of unknown shape. This may consume a large amount of memory.\n",
      "  \"Converting sparse IndexedSlices to a dense Tensor of unknown shape. \"\n"
     ]
    },
    {
     "name": "stdout",
     "output_type": "stream",
     "text": [
      "    Progress: |██████████████████████████████████████████████████| 100.0%% Complete | ETA: 0:00:00\n",
      "    Elapsed time: 0:01:35\n",
      "    Progress: |--------------------------------------------------| 0.0%% Complete | ETA: 0:00:00\r"
     ]
    },
    {
     "name": "stderr",
     "output_type": "stream",
     "text": [
      "/Users/morton/anaconda3/envs/wikisim/lib/python3.7/site-packages/tensorflow/python/ops/gradients_util.py:93: UserWarning: Converting sparse IndexedSlices to a dense Tensor of unknown shape. This may consume a large amount of memory.\n",
      "  \"Converting sparse IndexedSlices to a dense Tensor of unknown shape. \"\n"
     ]
    },
    {
     "name": "stdout",
     "output_type": "stream",
     "text": [
      "    Progress: |██████████████████████████████████████████████████| 100.0%% Complete | ETA: 0:00:00\n",
      "    Elapsed time: 0:01:47\n",
      "    Progress: |--------------------------------------------------| 0.0%% Complete | ETA: 0:00:00\r"
     ]
    },
    {
     "name": "stderr",
     "output_type": "stream",
     "text": [
      "/Users/morton/anaconda3/envs/wikisim/lib/python3.7/site-packages/tensorflow/python/ops/gradients_util.py:93: UserWarning: Converting sparse IndexedSlices to a dense Tensor of unknown shape. This may consume a large amount of memory.\n",
      "  \"Converting sparse IndexedSlices to a dense Tensor of unknown shape. \"\n"
     ]
    },
    {
     "name": "stdout",
     "output_type": "stream",
     "text": [
      "    Progress: |██████████████████████████████████████████████████| 100.0%% Complete | ETA: 0:00:00\n",
      "    Elapsed time: 0:01:36\n",
      "    Progress: |--------------------------------------------------| 0.0%% Complete | ETA: 0:00:00\r"
     ]
    },
    {
     "name": "stderr",
     "output_type": "stream",
     "text": [
      "/Users/morton/anaconda3/envs/wikisim/lib/python3.7/site-packages/tensorflow/python/ops/gradients_util.py:93: UserWarning: Converting sparse IndexedSlices to a dense Tensor of unknown shape. This may consume a large amount of memory.\n",
      "  \"Converting sparse IndexedSlices to a dense Tensor of unknown shape. \"\n"
     ]
    },
    {
     "name": "stdout",
     "output_type": "stream",
     "text": [
      "    Progress: |██████████████████████████████████████████████████| 100.0%% Complete | ETA: 0:00:00\n",
      "    Elapsed time: 0:01:45\n",
      "    Progress: |--------------------------------------------------| 0.0%% Complete | ETA: 0:00:00\r"
     ]
    },
    {
     "name": "stderr",
     "output_type": "stream",
     "text": [
      "/Users/morton/anaconda3/envs/wikisim/lib/python3.7/site-packages/tensorflow/python/ops/gradients_util.py:93: UserWarning: Converting sparse IndexedSlices to a dense Tensor of unknown shape. This may consume a large amount of memory.\n",
      "  \"Converting sparse IndexedSlices to a dense Tensor of unknown shape. \"\n"
     ]
    },
    {
     "name": "stdout",
     "output_type": "stream",
     "text": [
      "    Progress: |██████████████████████████████████████████████████| 100.0%% Complete | ETA: 0:00:00\n",
      "    Elapsed time: 0:01:12\n",
      "    Progress: |--------------------------------------------------| 0.0%% Complete | ETA: 0:00:00\r"
     ]
    },
    {
     "name": "stderr",
     "output_type": "stream",
     "text": [
      "/Users/morton/anaconda3/envs/wikisim/lib/python3.7/site-packages/tensorflow/python/ops/gradients_util.py:93: UserWarning: Converting sparse IndexedSlices to a dense Tensor of unknown shape. This may consume a large amount of memory.\n",
      "  \"Converting sparse IndexedSlices to a dense Tensor of unknown shape. \"\n"
     ]
    },
    {
     "name": "stdout",
     "output_type": "stream",
     "text": [
      "    Progress: |██████████████████████████████████████████████████| 100.0%% Complete | ETA: 0:00:00\n",
      "    Elapsed time: 0:01:10\n",
      "    Progress: |--------------------------------------------------| 0.0%% Complete | ETA: 0:00:00\r"
     ]
    },
    {
     "name": "stderr",
     "output_type": "stream",
     "text": [
      "/Users/morton/anaconda3/envs/wikisim/lib/python3.7/site-packages/tensorflow/python/ops/gradients_util.py:93: UserWarning: Converting sparse IndexedSlices to a dense Tensor of unknown shape. This may consume a large amount of memory.\n",
      "  \"Converting sparse IndexedSlices to a dense Tensor of unknown shape. \"\n"
     ]
    },
    {
     "name": "stdout",
     "output_type": "stream",
     "text": [
      "    Progress: |██████████████████████████████████████████████████| 100.0%% Complete | ETA: 0:00:00\n",
      "    Elapsed time: 0:01:58\n",
      "    Progress: |--------------------------------------------------| 0.0%% Complete | ETA: 0:00:00\r"
     ]
    },
    {
     "name": "stderr",
     "output_type": "stream",
     "text": [
      "/Users/morton/anaconda3/envs/wikisim/lib/python3.7/site-packages/tensorflow/python/ops/gradients_util.py:93: UserWarning: Converting sparse IndexedSlices to a dense Tensor of unknown shape. This may consume a large amount of memory.\n",
      "  \"Converting sparse IndexedSlices to a dense Tensor of unknown shape. \"\n"
     ]
    },
    {
     "name": "stdout",
     "output_type": "stream",
     "text": [
      "    Progress: |██████████████████████████████████████████████████| 100.0%% Complete | ETA: 0:00:00\n",
      "    Elapsed time: 0:01:30\n",
      "    Progress: |--------------------------------------------------| 0.0%% Complete | ETA: 0:00:00\r"
     ]
    },
    {
     "name": "stderr",
     "output_type": "stream",
     "text": [
      "/Users/morton/anaconda3/envs/wikisim/lib/python3.7/site-packages/tensorflow/python/ops/gradients_util.py:93: UserWarning: Converting sparse IndexedSlices to a dense Tensor of unknown shape. This may consume a large amount of memory.\n",
      "  \"Converting sparse IndexedSlices to a dense Tensor of unknown shape. \"\n"
     ]
    },
    {
     "name": "stdout",
     "output_type": "stream",
     "text": [
      "    Progress: |██████████████████████████████████████████████████| 100.0%% Complete | ETA: 0:00:00\n",
      "    Elapsed time: 0:01:27\n",
      "    Progress: |--------------------------------------------------| 0.0%% Complete | ETA: 0:00:00\r"
     ]
    },
    {
     "name": "stderr",
     "output_type": "stream",
     "text": [
      "/Users/morton/anaconda3/envs/wikisim/lib/python3.7/site-packages/tensorflow/python/ops/gradients_util.py:93: UserWarning: Converting sparse IndexedSlices to a dense Tensor of unknown shape. This may consume a large amount of memory.\n",
      "  \"Converting sparse IndexedSlices to a dense Tensor of unknown shape. \"\n"
     ]
    },
    {
     "name": "stdout",
     "output_type": "stream",
     "text": [
      "    Progress: |██████████████████████████████████████████████████| 100.0%% Complete | ETA: 0:00:00\n",
      "    Elapsed time: 0:01:19\n",
      "    Progress: |--------------------------------------------------| 0.0%% Complete | ETA: 0:00:00\r"
     ]
    },
    {
     "name": "stderr",
     "output_type": "stream",
     "text": [
      "/Users/morton/anaconda3/envs/wikisim/lib/python3.7/site-packages/tensorflow/python/ops/gradients_util.py:93: UserWarning: Converting sparse IndexedSlices to a dense Tensor of unknown shape. This may consume a large amount of memory.\n",
      "  \"Converting sparse IndexedSlices to a dense Tensor of unknown shape. \"\n"
     ]
    },
    {
     "name": "stdout",
     "output_type": "stream",
     "text": [
      "    Progress: |██████████████████████████████████████████████████| 100.0%% Complete | ETA: 0:00:00\n",
      "    Elapsed time: 0:01:47\n",
      "    Progress: |--------------------------------------------------| 0.0%% Complete | ETA: 0:00:00\r"
     ]
    },
    {
     "name": "stderr",
     "output_type": "stream",
     "text": [
      "/Users/morton/anaconda3/envs/wikisim/lib/python3.7/site-packages/tensorflow/python/ops/gradients_util.py:93: UserWarning: Converting sparse IndexedSlices to a dense Tensor of unknown shape. This may consume a large amount of memory.\n",
      "  \"Converting sparse IndexedSlices to a dense Tensor of unknown shape. \"\n"
     ]
    },
    {
     "name": "stdout",
     "output_type": "stream",
     "text": [
      "    Progress: |██████████████████████████████████████████████████| 100.0%% Complete | ETA: 0:00:00\n",
      "    Elapsed time: 0:01:34\n",
      "    Progress: |--------------------------------------------------| 0.0%% Complete | ETA: 0:00:00\r"
     ]
    },
    {
     "name": "stderr",
     "output_type": "stream",
     "text": [
      "/Users/morton/anaconda3/envs/wikisim/lib/python3.7/site-packages/tensorflow/python/ops/gradients_util.py:93: UserWarning: Converting sparse IndexedSlices to a dense Tensor of unknown shape. This may consume a large amount of memory.\n",
      "  \"Converting sparse IndexedSlices to a dense Tensor of unknown shape. \"\n"
     ]
    },
    {
     "name": "stdout",
     "output_type": "stream",
     "text": [
      "    Progress: |██████████████████████████████████████████████████| 100.0%% Complete | ETA: 0:00:00\n",
      "    Elapsed time: 0:01:48\n",
      "    Progress: |--------------------------------------------------| 0.0%% Complete | ETA: 0:00:00\r"
     ]
    },
    {
     "name": "stderr",
     "output_type": "stream",
     "text": [
      "/Users/morton/anaconda3/envs/wikisim/lib/python3.7/site-packages/tensorflow/python/ops/gradients_util.py:93: UserWarning: Converting sparse IndexedSlices to a dense Tensor of unknown shape. This may consume a large amount of memory.\n",
      "  \"Converting sparse IndexedSlices to a dense Tensor of unknown shape. \"\n"
     ]
    },
    {
     "name": "stdout",
     "output_type": "stream",
     "text": [
      "    Progress: |██████████████████████████████████████████████████| 100.0%% Complete | ETA: 0:00:00\n",
      "    Elapsed time: 0:01:50\n",
      "    Progress: |--------------------------------------------------| 0.0%% Complete | ETA: 0:00:00\r"
     ]
    },
    {
     "name": "stderr",
     "output_type": "stream",
     "text": [
      "/Users/morton/anaconda3/envs/wikisim/lib/python3.7/site-packages/tensorflow/python/ops/gradients_util.py:93: UserWarning: Converting sparse IndexedSlices to a dense Tensor of unknown shape. This may consume a large amount of memory.\n",
      "  \"Converting sparse IndexedSlices to a dense Tensor of unknown shape. \"\n"
     ]
    },
    {
     "name": "stdout",
     "output_type": "stream",
     "text": [
      "    Progress: |██████████████████████████████████████████████████| 100.0%% Complete | ETA: 0:00:00\n",
      "    Elapsed time: 0:01:00\n",
      "    Progress: |--------------------------------------------------| 0.0%% Complete | ETA: 0:00:00\r"
     ]
    },
    {
     "name": "stderr",
     "output_type": "stream",
     "text": [
      "/Users/morton/anaconda3/envs/wikisim/lib/python3.7/site-packages/tensorflow/python/ops/gradients_util.py:93: UserWarning: Converting sparse IndexedSlices to a dense Tensor of unknown shape. This may consume a large amount of memory.\n",
      "  \"Converting sparse IndexedSlices to a dense Tensor of unknown shape. \"\n"
     ]
    },
    {
     "name": "stdout",
     "output_type": "stream",
     "text": [
      "    Progress: |██████████████████████████████████████████████████| 100.0%% Complete | ETA: 0:00:00\n",
      "    Elapsed time: 0:01:26\n",
      "    Progress: |--------------------------------------------------| 0.0%% Complete | ETA: 0:00:00\r"
     ]
    },
    {
     "name": "stderr",
     "output_type": "stream",
     "text": [
      "/Users/morton/anaconda3/envs/wikisim/lib/python3.7/site-packages/tensorflow/python/ops/gradients_util.py:93: UserWarning: Converting sparse IndexedSlices to a dense Tensor of unknown shape. This may consume a large amount of memory.\n",
      "  \"Converting sparse IndexedSlices to a dense Tensor of unknown shape. \"\n"
     ]
    },
    {
     "name": "stdout",
     "output_type": "stream",
     "text": [
      "    Progress: |██████████████████████████████████████████████████| 100.0%% Complete | ETA: 0:00:00\n",
      "    Elapsed time: 0:01:10\n",
      "    Progress: |--------------------------------------------------| 0.0%% Complete | ETA: 0:00:00\r"
     ]
    },
    {
     "name": "stderr",
     "output_type": "stream",
     "text": [
      "/Users/morton/anaconda3/envs/wikisim/lib/python3.7/site-packages/tensorflow/python/ops/gradients_util.py:93: UserWarning: Converting sparse IndexedSlices to a dense Tensor of unknown shape. This may consume a large amount of memory.\n",
      "  \"Converting sparse IndexedSlices to a dense Tensor of unknown shape. \"\n"
     ]
    },
    {
     "name": "stdout",
     "output_type": "stream",
     "text": [
      "    Progress: |██████████████████████████████████████████████████| 100.0%% Complete | ETA: 0:00:00\n",
      "    Elapsed time: 0:01:41\n",
      "    Progress: |--------------------------------------------------| 0.0%% Complete | ETA: 0:00:00\r"
     ]
    },
    {
     "name": "stderr",
     "output_type": "stream",
     "text": [
      "/Users/morton/anaconda3/envs/wikisim/lib/python3.7/site-packages/tensorflow/python/ops/gradients_util.py:93: UserWarning: Converting sparse IndexedSlices to a dense Tensor of unknown shape. This may consume a large amount of memory.\n",
      "  \"Converting sparse IndexedSlices to a dense Tensor of unknown shape. \"\n"
     ]
    },
    {
     "name": "stdout",
     "output_type": "stream",
     "text": [
      "    Progress: |██████████████████████████████████████████████████| 100.0%% Complete | ETA: 0:00:00\n",
      "    Elapsed time: 0:01:09\n",
      "    Progress: |--------------------------------------------------| 0.0%% Complete | ETA: 0:00:00\r"
     ]
    },
    {
     "name": "stderr",
     "output_type": "stream",
     "text": [
      "/Users/morton/anaconda3/envs/wikisim/lib/python3.7/site-packages/tensorflow/python/ops/gradients_util.py:93: UserWarning: Converting sparse IndexedSlices to a dense Tensor of unknown shape. This may consume a large amount of memory.\n",
      "  \"Converting sparse IndexedSlices to a dense Tensor of unknown shape. \"\n"
     ]
    },
    {
     "name": "stdout",
     "output_type": "stream",
     "text": [
      "    Progress: |██████████████████████████████████████████████████| 100.0%% Complete | ETA: 0:00:00\n",
      "    Elapsed time: 0:01:08\n",
      "    Progress: |--------------------------------------------------| 0.0%% Complete | ETA: 0:00:00\r"
     ]
    },
    {
     "name": "stderr",
     "output_type": "stream",
     "text": [
      "/Users/morton/anaconda3/envs/wikisim/lib/python3.7/site-packages/tensorflow/python/ops/gradients_util.py:93: UserWarning: Converting sparse IndexedSlices to a dense Tensor of unknown shape. This may consume a large amount of memory.\n",
      "  \"Converting sparse IndexedSlices to a dense Tensor of unknown shape. \"\n"
     ]
    },
    {
     "name": "stdout",
     "output_type": "stream",
     "text": [
      "    Progress: |██████████████████████████████████████████████████| 100.0%% Complete | ETA: 0:00:00\n",
      "    Elapsed time: 0:01:14\n",
      "    Progress: |--------------------------------------------------| 0.0%% Complete | ETA: 0:00:00\r"
     ]
    },
    {
     "name": "stderr",
     "output_type": "stream",
     "text": [
      "/Users/morton/anaconda3/envs/wikisim/lib/python3.7/site-packages/tensorflow/python/ops/gradients_util.py:93: UserWarning: Converting sparse IndexedSlices to a dense Tensor of unknown shape. This may consume a large amount of memory.\n",
      "  \"Converting sparse IndexedSlices to a dense Tensor of unknown shape. \"\n"
     ]
    },
    {
     "name": "stdout",
     "output_type": "stream",
     "text": [
      "    Progress: |██████████████████████████████████████████████████| 100.0%% Complete | ETA: 0:00:00\n",
      "    Elapsed time: 0:01:31\n",
      "    Progress: |--------------------------------------------------| 0.0%% Complete | ETA: 0:00:00\r"
     ]
    },
    {
     "name": "stderr",
     "output_type": "stream",
     "text": [
      "/Users/morton/anaconda3/envs/wikisim/lib/python3.7/site-packages/tensorflow/python/ops/gradients_util.py:93: UserWarning: Converting sparse IndexedSlices to a dense Tensor of unknown shape. This may consume a large amount of memory.\n",
      "  \"Converting sparse IndexedSlices to a dense Tensor of unknown shape. \"\n"
     ]
    },
    {
     "name": "stdout",
     "output_type": "stream",
     "text": [
      "    Progress: |██████████████████████████████████████████████████| 100.0%% Complete | ETA: 0:00:00\n",
      "    Elapsed time: 0:01:21\n",
      "    Progress: |--------------------------------------------------| 0.0%% Complete | ETA: 0:00:00\r"
     ]
    },
    {
     "name": "stderr",
     "output_type": "stream",
     "text": [
      "/Users/morton/anaconda3/envs/wikisim/lib/python3.7/site-packages/tensorflow/python/ops/gradients_util.py:93: UserWarning: Converting sparse IndexedSlices to a dense Tensor of unknown shape. This may consume a large amount of memory.\n",
      "  \"Converting sparse IndexedSlices to a dense Tensor of unknown shape. \"\n"
     ]
    },
    {
     "name": "stdout",
     "output_type": "stream",
     "text": [
      "    Progress: |██████████████████████████████████████████████████| 100.0%% Complete | ETA: 0:00:00\n",
      "    Elapsed time: 0:01:36\n",
      "    Progress: |--------------------------------------------------| 0.0%% Complete | ETA: 0:00:00\r"
     ]
    },
    {
     "name": "stderr",
     "output_type": "stream",
     "text": [
      "/Users/morton/anaconda3/envs/wikisim/lib/python3.7/site-packages/tensorflow/python/ops/gradients_util.py:93: UserWarning: Converting sparse IndexedSlices to a dense Tensor of unknown shape. This may consume a large amount of memory.\n",
      "  \"Converting sparse IndexedSlices to a dense Tensor of unknown shape. \"\n"
     ]
    },
    {
     "name": "stdout",
     "output_type": "stream",
     "text": [
      "    Progress: |██████████████████████████████████████████████████| 100.0%% Complete | ETA: 0:00:00\n",
      "    Elapsed time: 0:01:50\n",
      "    Progress: |--------------------------------------------------| 0.0%% Complete | ETA: 0:00:00\r"
     ]
    },
    {
     "name": "stderr",
     "output_type": "stream",
     "text": [
      "/Users/morton/anaconda3/envs/wikisim/lib/python3.7/site-packages/tensorflow/python/ops/gradients_util.py:93: UserWarning: Converting sparse IndexedSlices to a dense Tensor of unknown shape. This may consume a large amount of memory.\n",
      "  \"Converting sparse IndexedSlices to a dense Tensor of unknown shape. \"\n"
     ]
    },
    {
     "name": "stdout",
     "output_type": "stream",
     "text": [
      "    Progress: |██████████████████████████████████████████████████| 100.0%% Complete | ETA: 0:00:00\n",
      "    Elapsed time: 0:01:08\n",
      "    Progress: |--------------------------------------------------| 0.0%% Complete | ETA: 0:00:00\r"
     ]
    },
    {
     "name": "stderr",
     "output_type": "stream",
     "text": [
      "/Users/morton/anaconda3/envs/wikisim/lib/python3.7/site-packages/tensorflow/python/ops/gradients_util.py:93: UserWarning: Converting sparse IndexedSlices to a dense Tensor of unknown shape. This may consume a large amount of memory.\n",
      "  \"Converting sparse IndexedSlices to a dense Tensor of unknown shape. \"\n"
     ]
    },
    {
     "name": "stdout",
     "output_type": "stream",
     "text": [
      "    Progress: |██████████████████████████████████████████████████| 100.0%% Complete | ETA: 0:00:00\n",
      "    Elapsed time: 0:01:22\n",
      "    Progress: |--------------------------------------------------| 0.0%% Complete | ETA: 0:00:00\r"
     ]
    },
    {
     "name": "stderr",
     "output_type": "stream",
     "text": [
      "/Users/morton/anaconda3/envs/wikisim/lib/python3.7/site-packages/tensorflow/python/ops/gradients_util.py:93: UserWarning: Converting sparse IndexedSlices to a dense Tensor of unknown shape. This may consume a large amount of memory.\n",
      "  \"Converting sparse IndexedSlices to a dense Tensor of unknown shape. \"\n"
     ]
    },
    {
     "name": "stdout",
     "output_type": "stream",
     "text": [
      "    Progress: |██████████████████████████████████████████████████| 100.0%% Complete | ETA: 0:00:00\n",
      "    Elapsed time: 0:01:10\n",
      "    Progress: |--------------------------------------------------| 0.0%% Complete | ETA: 0:00:00\r"
     ]
    },
    {
     "name": "stderr",
     "output_type": "stream",
     "text": [
      "/Users/morton/anaconda3/envs/wikisim/lib/python3.7/site-packages/tensorflow/python/ops/gradients_util.py:93: UserWarning: Converting sparse IndexedSlices to a dense Tensor of unknown shape. This may consume a large amount of memory.\n",
      "  \"Converting sparse IndexedSlices to a dense Tensor of unknown shape. \"\n"
     ]
    },
    {
     "name": "stdout",
     "output_type": "stream",
     "text": [
      "    Progress: |██████████████████████████████████████████████████| 100.0%% Complete | ETA: 0:00:00\n",
      "    Elapsed time: 0:01:29\n",
      "    Progress: |--------------------------------------------------| 0.0%% Complete | ETA: 0:00:00\r"
     ]
    },
    {
     "name": "stderr",
     "output_type": "stream",
     "text": [
      "/Users/morton/anaconda3/envs/wikisim/lib/python3.7/site-packages/tensorflow/python/ops/gradients_util.py:93: UserWarning: Converting sparse IndexedSlices to a dense Tensor of unknown shape. This may consume a large amount of memory.\n",
      "  \"Converting sparse IndexedSlices to a dense Tensor of unknown shape. \"\n"
     ]
    },
    {
     "name": "stdout",
     "output_type": "stream",
     "text": [
      "    Progress: |██████████████████████████████████████████████████| 100.0%% Complete | ETA: 0:00:00\n",
      "    Elapsed time: 0:01:17\n",
      "    Progress: |--------------------------------------------------| 0.0%% Complete | ETA: 0:00:00\r"
     ]
    },
    {
     "name": "stderr",
     "output_type": "stream",
     "text": [
      "/Users/morton/anaconda3/envs/wikisim/lib/python3.7/site-packages/tensorflow/python/ops/gradients_util.py:93: UserWarning: Converting sparse IndexedSlices to a dense Tensor of unknown shape. This may consume a large amount of memory.\n",
      "  \"Converting sparse IndexedSlices to a dense Tensor of unknown shape. \"\n"
     ]
    },
    {
     "name": "stdout",
     "output_type": "stream",
     "text": [
      "    Progress: |██████████████████████████████████████████████████| 100.0%% Complete | ETA: 0:00:00\n",
      "    Elapsed time: 0:01:54\n",
      "    Progress: |--------------------------------------------------| 0.0%% Complete | ETA: 0:00:00\r"
     ]
    },
    {
     "name": "stderr",
     "output_type": "stream",
     "text": [
      "/Users/morton/anaconda3/envs/wikisim/lib/python3.7/site-packages/tensorflow/python/ops/gradients_util.py:93: UserWarning: Converting sparse IndexedSlices to a dense Tensor of unknown shape. This may consume a large amount of memory.\n",
      "  \"Converting sparse IndexedSlices to a dense Tensor of unknown shape. \"\n"
     ]
    },
    {
     "name": "stdout",
     "output_type": "stream",
     "text": [
      "    Progress: |██████████████████████████████████████████████████| 100.0%% Complete | ETA: 0:00:00\n",
      "    Elapsed time: 0:01:39\n",
      "    Progress: |--------------------------------------------------| 0.0%% Complete | ETA: 0:00:00\r"
     ]
    },
    {
     "name": "stderr",
     "output_type": "stream",
     "text": [
      "/Users/morton/anaconda3/envs/wikisim/lib/python3.7/site-packages/tensorflow/python/ops/gradients_util.py:93: UserWarning: Converting sparse IndexedSlices to a dense Tensor of unknown shape. This may consume a large amount of memory.\n",
      "  \"Converting sparse IndexedSlices to a dense Tensor of unknown shape. \"\n"
     ]
    },
    {
     "name": "stdout",
     "output_type": "stream",
     "text": [
      "    Progress: |██████████████████████████████████████████████████| 100.0%% Complete | ETA: 0:00:00\n",
      "    Elapsed time: 0:02:23\n",
      "    Progress: |--------------------------------------------------| 0.0%% Complete | ETA: 0:00:00\r"
     ]
    },
    {
     "name": "stderr",
     "output_type": "stream",
     "text": [
      "/Users/morton/anaconda3/envs/wikisim/lib/python3.7/site-packages/tensorflow/python/ops/gradients_util.py:93: UserWarning: Converting sparse IndexedSlices to a dense Tensor of unknown shape. This may consume a large amount of memory.\n",
      "  \"Converting sparse IndexedSlices to a dense Tensor of unknown shape. \"\n"
     ]
    },
    {
     "name": "stdout",
     "output_type": "stream",
     "text": [
      "    Progress: |██████████████████████████████████████████████████| 100.0%% Complete | ETA: 0:00:00\n",
      "    Elapsed time: 0:01:12\n",
      "    Progress: |--------------------------------------------------| 0.0%% Complete | ETA: 0:00:00\r"
     ]
    },
    {
     "name": "stderr",
     "output_type": "stream",
     "text": [
      "/Users/morton/anaconda3/envs/wikisim/lib/python3.7/site-packages/tensorflow/python/ops/gradients_util.py:93: UserWarning: Converting sparse IndexedSlices to a dense Tensor of unknown shape. This may consume a large amount of memory.\n",
      "  \"Converting sparse IndexedSlices to a dense Tensor of unknown shape. \"\n"
     ]
    },
    {
     "name": "stdout",
     "output_type": "stream",
     "text": [
      "    Progress: |██████████████████████████████████████████████████| 100.0%% Complete | ETA: 0:00:00\n",
      "    Elapsed time: 0:01:04\n",
      "    Progress: |--------------------------------------------------| 0.0%% Complete | ETA: 0:00:00\r"
     ]
    },
    {
     "name": "stderr",
     "output_type": "stream",
     "text": [
      "/Users/morton/anaconda3/envs/wikisim/lib/python3.7/site-packages/tensorflow/python/ops/gradients_util.py:93: UserWarning: Converting sparse IndexedSlices to a dense Tensor of unknown shape. This may consume a large amount of memory.\n",
      "  \"Converting sparse IndexedSlices to a dense Tensor of unknown shape. \"\n"
     ]
    },
    {
     "name": "stdout",
     "output_type": "stream",
     "text": [
      "    Progress: |██████████████████████████████████████████████████| 100.0%% Complete | ETA: 0:00:00\n",
      "    Elapsed time: 0:00:43\n",
      "    Progress: |--------------------------------------------------| 0.0%% Complete | ETA: 0:00:00\r"
     ]
    },
    {
     "name": "stderr",
     "output_type": "stream",
     "text": [
      "/Users/morton/anaconda3/envs/wikisim/lib/python3.7/site-packages/tensorflow/python/ops/gradients_util.py:93: UserWarning: Converting sparse IndexedSlices to a dense Tensor of unknown shape. This may consume a large amount of memory.\n",
      "  \"Converting sparse IndexedSlices to a dense Tensor of unknown shape. \"\n"
     ]
    },
    {
     "name": "stdout",
     "output_type": "stream",
     "text": [
      "    Progress: |██████████████████████████████████████████████████| 100.0%% Complete | ETA: 0:00:00\n",
      "    Elapsed time: 0:01:50\n",
      "    Progress: |--------------------------------------------------| 0.0%% Complete | ETA: 0:00:00\r"
     ]
    },
    {
     "name": "stderr",
     "output_type": "stream",
     "text": [
      "/Users/morton/anaconda3/envs/wikisim/lib/python3.7/site-packages/tensorflow/python/ops/gradients_util.py:93: UserWarning: Converting sparse IndexedSlices to a dense Tensor of unknown shape. This may consume a large amount of memory.\n",
      "  \"Converting sparse IndexedSlices to a dense Tensor of unknown shape. \"\n"
     ]
    },
    {
     "name": "stdout",
     "output_type": "stream",
     "text": [
      "    Progress: |██████████████████████████████████████████████████| 100.0%% Complete | ETA: 0:00:00\n",
      "    Elapsed time: 0:01:11\n",
      "    Progress: |--------------------------------------------------| 0.0%% Complete | ETA: 0:00:00\r"
     ]
    },
    {
     "name": "stderr",
     "output_type": "stream",
     "text": [
      "/Users/morton/anaconda3/envs/wikisim/lib/python3.7/site-packages/tensorflow/python/ops/gradients_util.py:93: UserWarning: Converting sparse IndexedSlices to a dense Tensor of unknown shape. This may consume a large amount of memory.\n",
      "  \"Converting sparse IndexedSlices to a dense Tensor of unknown shape. \"\n"
     ]
    },
    {
     "name": "stdout",
     "output_type": "stream",
     "text": [
      "    Progress: |██████████████████████████████████████████████████| 100.0%% Complete | ETA: 0:00:00\n",
      "    Elapsed time: 0:01:07\n",
      "    Progress: |--------------------------------------------------| 0.0%% Complete | ETA: 0:00:00\r"
     ]
    },
    {
     "name": "stderr",
     "output_type": "stream",
     "text": [
      "/Users/morton/anaconda3/envs/wikisim/lib/python3.7/site-packages/tensorflow/python/ops/gradients_util.py:93: UserWarning: Converting sparse IndexedSlices to a dense Tensor of unknown shape. This may consume a large amount of memory.\n",
      "  \"Converting sparse IndexedSlices to a dense Tensor of unknown shape. \"\n"
     ]
    },
    {
     "name": "stdout",
     "output_type": "stream",
     "text": [
      "    Progress: |██████████████████████████████████████████████████| 100.0%% Complete | ETA: 0:00:00\n",
      "    Elapsed time: 0:00:45\n",
      "    Progress: |--------------------------------------------------| 0.0%% Complete | ETA: 0:00:00\r"
     ]
    },
    {
     "name": "stderr",
     "output_type": "stream",
     "text": [
      "/Users/morton/anaconda3/envs/wikisim/lib/python3.7/site-packages/tensorflow/python/ops/gradients_util.py:93: UserWarning: Converting sparse IndexedSlices to a dense Tensor of unknown shape. This may consume a large amount of memory.\n",
      "  \"Converting sparse IndexedSlices to a dense Tensor of unknown shape. \"\n"
     ]
    },
    {
     "name": "stdout",
     "output_type": "stream",
     "text": [
      "    Progress: |██████████████████████████████████████████████████| 100.0%% Complete | ETA: 0:00:00\n",
      "    Elapsed time: 0:01:13\n",
      "    Progress: |--------------------------------------------------| 0.0%% Complete | ETA: 0:00:00\r"
     ]
    },
    {
     "name": "stderr",
     "output_type": "stream",
     "text": [
      "/Users/morton/anaconda3/envs/wikisim/lib/python3.7/site-packages/tensorflow/python/ops/gradients_util.py:93: UserWarning: Converting sparse IndexedSlices to a dense Tensor of unknown shape. This may consume a large amount of memory.\n",
      "  \"Converting sparse IndexedSlices to a dense Tensor of unknown shape. \"\n"
     ]
    },
    {
     "name": "stdout",
     "output_type": "stream",
     "text": [
      "    Progress: |██████████████████████████████████████████████████| 100.0%% Complete | ETA: 0:00:00\n",
      "    Elapsed time: 0:01:39\n",
      "    Progress: |--------------------------------------------------| 0.0%% Complete | ETA: 0:00:00\r"
     ]
    },
    {
     "name": "stderr",
     "output_type": "stream",
     "text": [
      "/Users/morton/anaconda3/envs/wikisim/lib/python3.7/site-packages/tensorflow/python/ops/gradients_util.py:93: UserWarning: Converting sparse IndexedSlices to a dense Tensor of unknown shape. This may consume a large amount of memory.\n",
      "  \"Converting sparse IndexedSlices to a dense Tensor of unknown shape. \"\n"
     ]
    },
    {
     "name": "stdout",
     "output_type": "stream",
     "text": [
      "    Progress: |██████████████████████████████████████████████████| 100.0%% Complete | ETA: 0:00:00\n",
      "    Elapsed time: 0:01:22\n",
      "    Progress: |--------------------------------------------------| 0.0%% Complete | ETA: 0:00:00\r"
     ]
    },
    {
     "name": "stderr",
     "output_type": "stream",
     "text": [
      "/Users/morton/anaconda3/envs/wikisim/lib/python3.7/site-packages/tensorflow/python/ops/gradients_util.py:93: UserWarning: Converting sparse IndexedSlices to a dense Tensor of unknown shape. This may consume a large amount of memory.\n",
      "  \"Converting sparse IndexedSlices to a dense Tensor of unknown shape. \"\n"
     ]
    },
    {
     "name": "stdout",
     "output_type": "stream",
     "text": [
      "    Progress: |██████████████████████████████████████████████████| 100.0%% Complete | ETA: 0:00:00\n",
      "    Elapsed time: 0:01:07\n",
      "    Progress: |--------------------------------------------------| 0.0%% Complete | ETA: 0:00:00\r"
     ]
    },
    {
     "name": "stderr",
     "output_type": "stream",
     "text": [
      "/Users/morton/anaconda3/envs/wikisim/lib/python3.7/site-packages/tensorflow/python/ops/gradients_util.py:93: UserWarning: Converting sparse IndexedSlices to a dense Tensor of unknown shape. This may consume a large amount of memory.\n",
      "  \"Converting sparse IndexedSlices to a dense Tensor of unknown shape. \"\n"
     ]
    },
    {
     "name": "stdout",
     "output_type": "stream",
     "text": [
      "    Progress: |██████████████████████████████████████████████████| 100.0%% Complete | ETA: 0:00:00\n",
      "    Elapsed time: 0:01:36\n",
      "    Progress: |--------------------------------------------------| 0.0%% Complete | ETA: 0:00:00\r"
     ]
    },
    {
     "name": "stderr",
     "output_type": "stream",
     "text": [
      "/Users/morton/anaconda3/envs/wikisim/lib/python3.7/site-packages/tensorflow/python/ops/gradients_util.py:93: UserWarning: Converting sparse IndexedSlices to a dense Tensor of unknown shape. This may consume a large amount of memory.\n",
      "  \"Converting sparse IndexedSlices to a dense Tensor of unknown shape. \"\n"
     ]
    },
    {
     "name": "stdout",
     "output_type": "stream",
     "text": [
      "    Progress: |██████████████████████████████████████████████████| 100.0%% Complete | ETA: 0:00:00\n",
      "    Elapsed time: 0:01:22\n",
      "    Progress: |--------------------------------------------------| 0.0%% Complete | ETA: 0:00:00\r"
     ]
    },
    {
     "name": "stderr",
     "output_type": "stream",
     "text": [
      "/Users/morton/anaconda3/envs/wikisim/lib/python3.7/site-packages/tensorflow/python/ops/gradients_util.py:93: UserWarning: Converting sparse IndexedSlices to a dense Tensor of unknown shape. This may consume a large amount of memory.\n",
      "  \"Converting sparse IndexedSlices to a dense Tensor of unknown shape. \"\n"
     ]
    },
    {
     "name": "stdout",
     "output_type": "stream",
     "text": [
      "    Progress: |██████████████████████████████████████████████████| 100.0%% Complete | ETA: 0:00:00\n",
      "    Elapsed time: 0:01:31\n",
      "    Progress: |--------------------------------------------------| 0.0%% Complete | ETA: 0:00:00\r"
     ]
    },
    {
     "name": "stderr",
     "output_type": "stream",
     "text": [
      "/Users/morton/anaconda3/envs/wikisim/lib/python3.7/site-packages/tensorflow/python/ops/gradients_util.py:93: UserWarning: Converting sparse IndexedSlices to a dense Tensor of unknown shape. This may consume a large amount of memory.\n",
      "  \"Converting sparse IndexedSlices to a dense Tensor of unknown shape. \"\n"
     ]
    },
    {
     "name": "stdout",
     "output_type": "stream",
     "text": [
      "    Progress: |██████████████████████████████████████████████████| 100.0%% Complete | ETA: 0:00:00\n",
      "    Elapsed time: 0:01:22\n",
      "    Progress: |--------------------------------------------------| 0.0%% Complete | ETA: 0:00:00\r"
     ]
    },
    {
     "name": "stderr",
     "output_type": "stream",
     "text": [
      "/Users/morton/anaconda3/envs/wikisim/lib/python3.7/site-packages/tensorflow/python/ops/gradients_util.py:93: UserWarning: Converting sparse IndexedSlices to a dense Tensor of unknown shape. This may consume a large amount of memory.\n",
      "  \"Converting sparse IndexedSlices to a dense Tensor of unknown shape. \"\n"
     ]
    },
    {
     "name": "stdout",
     "output_type": "stream",
     "text": [
      "    Progress: |██████████████████████████████████████████████████| 100.0%% Complete | ETA: 0:00:00\n",
      "    Elapsed time: 0:01:37\n",
      "    Progress: |--------------------------------------------------| 0.0%% Complete | ETA: 0:00:00\r"
     ]
    },
    {
     "name": "stderr",
     "output_type": "stream",
     "text": [
      "/Users/morton/anaconda3/envs/wikisim/lib/python3.7/site-packages/tensorflow/python/ops/gradients_util.py:93: UserWarning: Converting sparse IndexedSlices to a dense Tensor of unknown shape. This may consume a large amount of memory.\n",
      "  \"Converting sparse IndexedSlices to a dense Tensor of unknown shape. \"\n"
     ]
    },
    {
     "name": "stdout",
     "output_type": "stream",
     "text": [
      "    Progress: |██████████████████████████████████████████████████| 100.0%% Complete | ETA: 0:00:00\n",
      "    Elapsed time: 0:01:40\n",
      "    Progress: |--------------------------------------------------| 0.0%% Complete | ETA: 0:00:00\r"
     ]
    },
    {
     "name": "stderr",
     "output_type": "stream",
     "text": [
      "/Users/morton/anaconda3/envs/wikisim/lib/python3.7/site-packages/tensorflow/python/ops/gradients_util.py:93: UserWarning: Converting sparse IndexedSlices to a dense Tensor of unknown shape. This may consume a large amount of memory.\n",
      "  \"Converting sparse IndexedSlices to a dense Tensor of unknown shape. \"\n"
     ]
    },
    {
     "name": "stdout",
     "output_type": "stream",
     "text": [
      "    Progress: |██████████████████████████████████████████████████| 100.0%% Complete | ETA: 0:00:00\n",
      "    Elapsed time: 0:01:18\n",
      "    Progress: |--------------------------------------------------| 0.0%% Complete | ETA: 0:00:00\r"
     ]
    },
    {
     "name": "stderr",
     "output_type": "stream",
     "text": [
      "/Users/morton/anaconda3/envs/wikisim/lib/python3.7/site-packages/tensorflow/python/ops/gradients_util.py:93: UserWarning: Converting sparse IndexedSlices to a dense Tensor of unknown shape. This may consume a large amount of memory.\n",
      "  \"Converting sparse IndexedSlices to a dense Tensor of unknown shape. \"\n"
     ]
    },
    {
     "name": "stdout",
     "output_type": "stream",
     "text": [
      "    Progress: |██████████████████████████████████████████████████| 100.0%% Complete | ETA: 0:00:00\n",
      "    Elapsed time: 0:01:12\n",
      "    Progress: |--------------------------------------------------| 0.0%% Complete | ETA: 0:00:00\r"
     ]
    },
    {
     "name": "stderr",
     "output_type": "stream",
     "text": [
      "/Users/morton/anaconda3/envs/wikisim/lib/python3.7/site-packages/tensorflow/python/ops/gradients_util.py:93: UserWarning: Converting sparse IndexedSlices to a dense Tensor of unknown shape. This may consume a large amount of memory.\n",
      "  \"Converting sparse IndexedSlices to a dense Tensor of unknown shape. \"\n"
     ]
    },
    {
     "name": "stdout",
     "output_type": "stream",
     "text": [
      "    Progress: |██████████████████████████████████████████████████| 100.0%% Complete | ETA: 0:00:00\n",
      "    Elapsed time: 0:01:42\n",
      "    Progress: |--------------------------------------------------| 0.0%% Complete | ETA: 0:00:00\r"
     ]
    },
    {
     "name": "stderr",
     "output_type": "stream",
     "text": [
      "/Users/morton/anaconda3/envs/wikisim/lib/python3.7/site-packages/tensorflow/python/ops/gradients_util.py:93: UserWarning: Converting sparse IndexedSlices to a dense Tensor of unknown shape. This may consume a large amount of memory.\n",
      "  \"Converting sparse IndexedSlices to a dense Tensor of unknown shape. \"\n"
     ]
    },
    {
     "name": "stdout",
     "output_type": "stream",
     "text": [
      "    Progress: |██████████████████████████████████████████████████| 100.0%% Complete | ETA: 0:00:00\n",
      "    Elapsed time: 0:01:13\n",
      "    Progress: |--------------------------------------------------| 0.0%% Complete | ETA: 0:00:00\r"
     ]
    },
    {
     "name": "stderr",
     "output_type": "stream",
     "text": [
      "/Users/morton/anaconda3/envs/wikisim/lib/python3.7/site-packages/tensorflow/python/ops/gradients_util.py:93: UserWarning: Converting sparse IndexedSlices to a dense Tensor of unknown shape. This may consume a large amount of memory.\n",
      "  \"Converting sparse IndexedSlices to a dense Tensor of unknown shape. \"\n"
     ]
    },
    {
     "name": "stdout",
     "output_type": "stream",
     "text": [
      "    Progress: |██████████████████████████████████████████████████| 100.0%% Complete | ETA: 0:00:00\n",
      "    Elapsed time: 0:01:05\n",
      "    Progress: |--------------------------------------------------| 0.0%% Complete | ETA: 0:00:00\r"
     ]
    },
    {
     "name": "stderr",
     "output_type": "stream",
     "text": [
      "/Users/morton/anaconda3/envs/wikisim/lib/python3.7/site-packages/tensorflow/python/ops/gradients_util.py:93: UserWarning: Converting sparse IndexedSlices to a dense Tensor of unknown shape. This may consume a large amount of memory.\n",
      "  \"Converting sparse IndexedSlices to a dense Tensor of unknown shape. \"\n"
     ]
    },
    {
     "name": "stdout",
     "output_type": "stream",
     "text": [
      "    Progress: |██████████████████████████████████████████████████| 100.0%% Complete | ETA: 0:00:00\n",
      "    Elapsed time: 0:01:14\n",
      "    Progress: |--------------------------------------------------| 0.0%% Complete | ETA: 0:00:00\r"
     ]
    },
    {
     "name": "stderr",
     "output_type": "stream",
     "text": [
      "/Users/morton/anaconda3/envs/wikisim/lib/python3.7/site-packages/tensorflow/python/ops/gradients_util.py:93: UserWarning: Converting sparse IndexedSlices to a dense Tensor of unknown shape. This may consume a large amount of memory.\n",
      "  \"Converting sparse IndexedSlices to a dense Tensor of unknown shape. \"\n"
     ]
    },
    {
     "name": "stdout",
     "output_type": "stream",
     "text": [
      "    Progress: |██████████████████████████████████████████████████| 100.0%% Complete | ETA: 0:00:00\n",
      "    Elapsed time: 0:01:22\n",
      "    Progress: |--------------------------------------------------| 0.0%% Complete | ETA: 0:00:00\r"
     ]
    },
    {
     "name": "stderr",
     "output_type": "stream",
     "text": [
      "/Users/morton/anaconda3/envs/wikisim/lib/python3.7/site-packages/tensorflow/python/ops/gradients_util.py:93: UserWarning: Converting sparse IndexedSlices to a dense Tensor of unknown shape. This may consume a large amount of memory.\n",
      "  \"Converting sparse IndexedSlices to a dense Tensor of unknown shape. \"\n"
     ]
    },
    {
     "name": "stdout",
     "output_type": "stream",
     "text": [
      "    Progress: |██████████████████████████████████████████████████| 100.0%% Complete | ETA: 0:00:00\n",
      "    Elapsed time: 0:01:16\n",
      "    Progress: |--------------------------------------------------| 0.0%% Complete | ETA: 0:00:00\r"
     ]
    },
    {
     "name": "stderr",
     "output_type": "stream",
     "text": [
      "/Users/morton/anaconda3/envs/wikisim/lib/python3.7/site-packages/tensorflow/python/ops/gradients_util.py:93: UserWarning: Converting sparse IndexedSlices to a dense Tensor of unknown shape. This may consume a large amount of memory.\n",
      "  \"Converting sparse IndexedSlices to a dense Tensor of unknown shape. \"\n"
     ]
    },
    {
     "name": "stdout",
     "output_type": "stream",
     "text": [
      "    Progress: |██████████████████████████████████████████████████| 100.0%% Complete | ETA: 0:00:00\n",
      "    Elapsed time: 0:01:37\n",
      "    Progress: |--------------------------------------------------| 0.0%% Complete | ETA: 0:00:00\r"
     ]
    },
    {
     "name": "stderr",
     "output_type": "stream",
     "text": [
      "/Users/morton/anaconda3/envs/wikisim/lib/python3.7/site-packages/tensorflow/python/ops/gradients_util.py:93: UserWarning: Converting sparse IndexedSlices to a dense Tensor of unknown shape. This may consume a large amount of memory.\n",
      "  \"Converting sparse IndexedSlices to a dense Tensor of unknown shape. \"\n"
     ]
    },
    {
     "name": "stdout",
     "output_type": "stream",
     "text": [
      "    Progress: |██████████████████████████████████████████████████| 100.0%% Complete | ETA: 0:00:00\n",
      "    Elapsed time: 0:01:24\n",
      "    Progress: |--------------------------------------------------| 0.0%% Complete | ETA: 0:00:00\r"
     ]
    },
    {
     "name": "stderr",
     "output_type": "stream",
     "text": [
      "/Users/morton/anaconda3/envs/wikisim/lib/python3.7/site-packages/tensorflow/python/ops/gradients_util.py:93: UserWarning: Converting sparse IndexedSlices to a dense Tensor of unknown shape. This may consume a large amount of memory.\n",
      "  \"Converting sparse IndexedSlices to a dense Tensor of unknown shape. \"\n"
     ]
    },
    {
     "name": "stdout",
     "output_type": "stream",
     "text": [
      "    Progress: |██████████████████████████████████████████████████| 100.0%% Complete | ETA: 0:00:00\n",
      "    Elapsed time: 0:01:25\n",
      "    Progress: |--------------------------------------------------| 0.0%% Complete | ETA: 0:00:00\r"
     ]
    },
    {
     "name": "stderr",
     "output_type": "stream",
     "text": [
      "/Users/morton/anaconda3/envs/wikisim/lib/python3.7/site-packages/tensorflow/python/ops/gradients_util.py:93: UserWarning: Converting sparse IndexedSlices to a dense Tensor of unknown shape. This may consume a large amount of memory.\n",
      "  \"Converting sparse IndexedSlices to a dense Tensor of unknown shape. \"\n"
     ]
    },
    {
     "name": "stdout",
     "output_type": "stream",
     "text": [
      "    Progress: |██████████████████████████████████████████████████| 100.0%% Complete | ETA: 0:00:00\n",
      "    Elapsed time: 0:01:16\n",
      "    Progress: |--------------------------------------------------| 0.0%% Complete | ETA: 0:00:00\r"
     ]
    },
    {
     "name": "stderr",
     "output_type": "stream",
     "text": [
      "/Users/morton/anaconda3/envs/wikisim/lib/python3.7/site-packages/tensorflow/python/ops/gradients_util.py:93: UserWarning: Converting sparse IndexedSlices to a dense Tensor of unknown shape. This may consume a large amount of memory.\n",
      "  \"Converting sparse IndexedSlices to a dense Tensor of unknown shape. \"\n"
     ]
    },
    {
     "name": "stdout",
     "output_type": "stream",
     "text": [
      "    Progress: |██████████████████████████████████████████████████| 100.0%% Complete | ETA: 0:00:00\n",
      "    Elapsed time: 0:01:02\n",
      "    Progress: |--------------------------------------------------| 0.0%% Complete | ETA: 0:00:00\r"
     ]
    },
    {
     "name": "stderr",
     "output_type": "stream",
     "text": [
      "/Users/morton/anaconda3/envs/wikisim/lib/python3.7/site-packages/tensorflow/python/ops/gradients_util.py:93: UserWarning: Converting sparse IndexedSlices to a dense Tensor of unknown shape. This may consume a large amount of memory.\n",
      "  \"Converting sparse IndexedSlices to a dense Tensor of unknown shape. \"\n"
     ]
    },
    {
     "name": "stdout",
     "output_type": "stream",
     "text": [
      "    Progress: |██████████████████████████████████████████████████| 100.0%% Complete | ETA: 0:00:00\n",
      "    Elapsed time: 0:01:10\n",
      "    Progress: |--------------------------------------------------| 0.0%% Complete | ETA: 0:00:00\r"
     ]
    },
    {
     "name": "stderr",
     "output_type": "stream",
     "text": [
      "/Users/morton/anaconda3/envs/wikisim/lib/python3.7/site-packages/tensorflow/python/ops/gradients_util.py:93: UserWarning: Converting sparse IndexedSlices to a dense Tensor of unknown shape. This may consume a large amount of memory.\n",
      "  \"Converting sparse IndexedSlices to a dense Tensor of unknown shape. \"\n"
     ]
    },
    {
     "name": "stdout",
     "output_type": "stream",
     "text": [
      "    Progress: |██████████████████████████████████████████████████| 100.0%% Complete | ETA: 0:00:00\n",
      "    Elapsed time: 0:01:08\n",
      "    Progress: |--------------------------------------------------| 0.0%% Complete | ETA: 0:00:00\r"
     ]
    },
    {
     "name": "stderr",
     "output_type": "stream",
     "text": [
      "/Users/morton/anaconda3/envs/wikisim/lib/python3.7/site-packages/tensorflow/python/ops/gradients_util.py:93: UserWarning: Converting sparse IndexedSlices to a dense Tensor of unknown shape. This may consume a large amount of memory.\n",
      "  \"Converting sparse IndexedSlices to a dense Tensor of unknown shape. \"\n"
     ]
    },
    {
     "name": "stdout",
     "output_type": "stream",
     "text": [
      "    Progress: |██████████████████████████████████████████████████| 100.0%% Complete | ETA: 0:00:00\n",
      "    Elapsed time: 0:01:04\n",
      "    Progress: |--------------------------------------------------| 0.0%% Complete | ETA: 0:00:00\r"
     ]
    },
    {
     "name": "stderr",
     "output_type": "stream",
     "text": [
      "/Users/morton/anaconda3/envs/wikisim/lib/python3.7/site-packages/tensorflow/python/ops/gradients_util.py:93: UserWarning: Converting sparse IndexedSlices to a dense Tensor of unknown shape. This may consume a large amount of memory.\n",
      "  \"Converting sparse IndexedSlices to a dense Tensor of unknown shape. \"\n"
     ]
    },
    {
     "name": "stdout",
     "output_type": "stream",
     "text": [
      "    Progress: |██████████████████████████████████████████████████| 100.0%% Complete | ETA: 0:00:00\n",
      "    Elapsed time: 0:01:27\n",
      "    Progress: |--------------------------------------------------| 0.0%% Complete | ETA: 0:00:00\r"
     ]
    },
    {
     "name": "stderr",
     "output_type": "stream",
     "text": [
      "/Users/morton/anaconda3/envs/wikisim/lib/python3.7/site-packages/tensorflow/python/ops/gradients_util.py:93: UserWarning: Converting sparse IndexedSlices to a dense Tensor of unknown shape. This may consume a large amount of memory.\n",
      "  \"Converting sparse IndexedSlices to a dense Tensor of unknown shape. \"\n"
     ]
    },
    {
     "name": "stdout",
     "output_type": "stream",
     "text": [
      "    Progress: |██████████████████████████████████████████████████| 100.0%% Complete | ETA: 0:00:00\n",
      "    Elapsed time: 0:01:35\n",
      "    Progress: |--------------------------------------------------| 0.0%% Complete | ETA: 0:00:00\r"
     ]
    },
    {
     "name": "stderr",
     "output_type": "stream",
     "text": [
      "/Users/morton/anaconda3/envs/wikisim/lib/python3.7/site-packages/tensorflow/python/ops/gradients_util.py:93: UserWarning: Converting sparse IndexedSlices to a dense Tensor of unknown shape. This may consume a large amount of memory.\n",
      "  \"Converting sparse IndexedSlices to a dense Tensor of unknown shape. \"\n"
     ]
    },
    {
     "name": "stdout",
     "output_type": "stream",
     "text": [
      "    Progress: |██████████████████████████████████████████████████| 100.0%% Complete | ETA: 0:00:00\n",
      "    Elapsed time: 0:00:58\n",
      "    Progress: |--------------------------------------------------| 0.0%% Complete | ETA: 0:00:00\r"
     ]
    },
    {
     "name": "stderr",
     "output_type": "stream",
     "text": [
      "/Users/morton/anaconda3/envs/wikisim/lib/python3.7/site-packages/tensorflow/python/ops/gradients_util.py:93: UserWarning: Converting sparse IndexedSlices to a dense Tensor of unknown shape. This may consume a large amount of memory.\n",
      "  \"Converting sparse IndexedSlices to a dense Tensor of unknown shape. \"\n"
     ]
    },
    {
     "name": "stdout",
     "output_type": "stream",
     "text": [
      "    Progress: |██████████████████████████████████████████████████| 100.0%% Complete | ETA: 0:00:00\n",
      "    Elapsed time: 0:00:54\n",
      "    Progress: |--------------------------------------------------| 0.0%% Complete | ETA: 0:00:00\r"
     ]
    },
    {
     "name": "stderr",
     "output_type": "stream",
     "text": [
      "/Users/morton/anaconda3/envs/wikisim/lib/python3.7/site-packages/tensorflow/python/ops/gradients_util.py:93: UserWarning: Converting sparse IndexedSlices to a dense Tensor of unknown shape. This may consume a large amount of memory.\n",
      "  \"Converting sparse IndexedSlices to a dense Tensor of unknown shape. \"\n"
     ]
    },
    {
     "name": "stdout",
     "output_type": "stream",
     "text": [
      "    Progress: |██████████████████████████████████████████████████| 100.0%% Complete | ETA: 0:00:00\n",
      "    Elapsed time: 0:01:27\n",
      "    Progress: |--------------------------------------------------| 0.0%% Complete | ETA: 0:00:00\r"
     ]
    },
    {
     "name": "stderr",
     "output_type": "stream",
     "text": [
      "/Users/morton/anaconda3/envs/wikisim/lib/python3.7/site-packages/tensorflow/python/ops/gradients_util.py:93: UserWarning: Converting sparse IndexedSlices to a dense Tensor of unknown shape. This may consume a large amount of memory.\n",
      "  \"Converting sparse IndexedSlices to a dense Tensor of unknown shape. \"\n"
     ]
    },
    {
     "name": "stdout",
     "output_type": "stream",
     "text": [
      "    Progress: |██████████████████████████████████████████████████| 100.0%% Complete | ETA: 0:00:00\n",
      "    Elapsed time: 0:01:22\n",
      "    Progress: |--------------------------------------------------| 0.0%% Complete | ETA: 0:00:00\r"
     ]
    },
    {
     "name": "stderr",
     "output_type": "stream",
     "text": [
      "/Users/morton/anaconda3/envs/wikisim/lib/python3.7/site-packages/tensorflow/python/ops/gradients_util.py:93: UserWarning: Converting sparse IndexedSlices to a dense Tensor of unknown shape. This may consume a large amount of memory.\n",
      "  \"Converting sparse IndexedSlices to a dense Tensor of unknown shape. \"\n"
     ]
    },
    {
     "name": "stdout",
     "output_type": "stream",
     "text": [
      "    Progress: |██████████████████████████████████████████████████| 100.0%% Complete | ETA: 0:00:00\n",
      "    Elapsed time: 0:00:50\n",
      "    Progress: |--------------------------------------------------| 0.0%% Complete | ETA: 0:00:00\r"
     ]
    },
    {
     "name": "stderr",
     "output_type": "stream",
     "text": [
      "/Users/morton/anaconda3/envs/wikisim/lib/python3.7/site-packages/tensorflow/python/ops/gradients_util.py:93: UserWarning: Converting sparse IndexedSlices to a dense Tensor of unknown shape. This may consume a large amount of memory.\n",
      "  \"Converting sparse IndexedSlices to a dense Tensor of unknown shape. \"\n"
     ]
    },
    {
     "name": "stdout",
     "output_type": "stream",
     "text": [
      "    Progress: |██████████████████████████████████████████████████| 100.0%% Complete | ETA: 0:00:00\n",
      "    Elapsed time: 0:01:14\n",
      "    Progress: |--------------------------------------------------| 0.0%% Complete | ETA: 0:00:00\r"
     ]
    },
    {
     "name": "stderr",
     "output_type": "stream",
     "text": [
      "/Users/morton/anaconda3/envs/wikisim/lib/python3.7/site-packages/tensorflow/python/ops/gradients_util.py:93: UserWarning: Converting sparse IndexedSlices to a dense Tensor of unknown shape. This may consume a large amount of memory.\n",
      "  \"Converting sparse IndexedSlices to a dense Tensor of unknown shape. \"\n"
     ]
    },
    {
     "name": "stdout",
     "output_type": "stream",
     "text": [
      "    Progress: |██████████████████████████████████████████████████| 100.0%% Complete | ETA: 0:00:00\n",
      "    Elapsed time: 0:02:02\n",
      "    Progress: |--------------------------------------------------| 0.0%% Complete | ETA: 0:00:00\r"
     ]
    },
    {
     "name": "stderr",
     "output_type": "stream",
     "text": [
      "/Users/morton/anaconda3/envs/wikisim/lib/python3.7/site-packages/tensorflow/python/ops/gradients_util.py:93: UserWarning: Converting sparse IndexedSlices to a dense Tensor of unknown shape. This may consume a large amount of memory.\n",
      "  \"Converting sparse IndexedSlices to a dense Tensor of unknown shape. \"\n"
     ]
    },
    {
     "name": "stdout",
     "output_type": "stream",
     "text": [
      "    Progress: |██████████████████████████████████████████████████| 100.0%% Complete | ETA: 0:00:00\n",
      "    Elapsed time: 0:01:14\n",
      "    Progress: |--------------------------------------------------| 0.0%% Complete | ETA: 0:00:00\r"
     ]
    },
    {
     "name": "stderr",
     "output_type": "stream",
     "text": [
      "/Users/morton/anaconda3/envs/wikisim/lib/python3.7/site-packages/tensorflow/python/ops/gradients_util.py:93: UserWarning: Converting sparse IndexedSlices to a dense Tensor of unknown shape. This may consume a large amount of memory.\n",
      "  \"Converting sparse IndexedSlices to a dense Tensor of unknown shape. \"\n"
     ]
    },
    {
     "name": "stdout",
     "output_type": "stream",
     "text": [
      "    Progress: |██████████████████████████████████████████████████| 100.0%% Complete | ETA: 0:00:00\n",
      "    Elapsed time: 0:01:13\n",
      "    Progress: |--------------------------------------------------| 0.0%% Complete | ETA: 0:00:00\r"
     ]
    },
    {
     "name": "stderr",
     "output_type": "stream",
     "text": [
      "/Users/morton/anaconda3/envs/wikisim/lib/python3.7/site-packages/tensorflow/python/ops/gradients_util.py:93: UserWarning: Converting sparse IndexedSlices to a dense Tensor of unknown shape. This may consume a large amount of memory.\n",
      "  \"Converting sparse IndexedSlices to a dense Tensor of unknown shape. \"\n"
     ]
    },
    {
     "name": "stdout",
     "output_type": "stream",
     "text": [
      "    Progress: |██████████████████████████████████████████████████| 100.0%% Complete | ETA: 0:00:00\n",
      "    Elapsed time: 0:01:06\n",
      "    Progress: |--------------------------------------------------| 0.0%% Complete | ETA: 0:00:00\r"
     ]
    },
    {
     "name": "stderr",
     "output_type": "stream",
     "text": [
      "/Users/morton/anaconda3/envs/wikisim/lib/python3.7/site-packages/tensorflow/python/ops/gradients_util.py:93: UserWarning: Converting sparse IndexedSlices to a dense Tensor of unknown shape. This may consume a large amount of memory.\n",
      "  \"Converting sparse IndexedSlices to a dense Tensor of unknown shape. \"\n"
     ]
    },
    {
     "name": "stdout",
     "output_type": "stream",
     "text": [
      "    Progress: |██████████████████████████████████████████████████| 100.0%% Complete | ETA: 0:00:00\n",
      "    Elapsed time: 0:01:09\n",
      "    Progress: |--------------------------------------------------| 0.0%% Complete | ETA: 0:00:00\r"
     ]
    },
    {
     "name": "stderr",
     "output_type": "stream",
     "text": [
      "/Users/morton/anaconda3/envs/wikisim/lib/python3.7/site-packages/tensorflow/python/ops/gradients_util.py:93: UserWarning: Converting sparse IndexedSlices to a dense Tensor of unknown shape. This may consume a large amount of memory.\n",
      "  \"Converting sparse IndexedSlices to a dense Tensor of unknown shape. \"\n"
     ]
    },
    {
     "name": "stdout",
     "output_type": "stream",
     "text": [
      "    Progress: |██████████████████████████████████████████████████| 100.0%% Complete | ETA: 0:00:00\n",
      "    Elapsed time: 0:00:46\n",
      "    Progress: |--------------------------------------------------| 0.0%% Complete | ETA: 0:00:00\r"
     ]
    },
    {
     "name": "stderr",
     "output_type": "stream",
     "text": [
      "/Users/morton/anaconda3/envs/wikisim/lib/python3.7/site-packages/tensorflow/python/ops/gradients_util.py:93: UserWarning: Converting sparse IndexedSlices to a dense Tensor of unknown shape. This may consume a large amount of memory.\n",
      "  \"Converting sparse IndexedSlices to a dense Tensor of unknown shape. \"\n"
     ]
    },
    {
     "name": "stdout",
     "output_type": "stream",
     "text": [
      "    Progress: |██████████████████████████████████████████████████| 100.0%% Complete | ETA: 0:00:00\n",
      "    Elapsed time: 0:00:50\n",
      "    Progress: |--------------------------------------------------| 0.0%% Complete | ETA: 0:00:00\r"
     ]
    },
    {
     "name": "stderr",
     "output_type": "stream",
     "text": [
      "/Users/morton/anaconda3/envs/wikisim/lib/python3.7/site-packages/tensorflow/python/ops/gradients_util.py:93: UserWarning: Converting sparse IndexedSlices to a dense Tensor of unknown shape. This may consume a large amount of memory.\n",
      "  \"Converting sparse IndexedSlices to a dense Tensor of unknown shape. \"\n"
     ]
    },
    {
     "name": "stdout",
     "output_type": "stream",
     "text": [
      "    Progress: |██████████████████████████████████████████████████| 100.0%% Complete | ETA: 0:00:00\n",
      "    Elapsed time: 0:01:23\n",
      "    Progress: |--------------------------------------------------| 0.0%% Complete | ETA: 0:00:00\r"
     ]
    },
    {
     "name": "stderr",
     "output_type": "stream",
     "text": [
      "/Users/morton/anaconda3/envs/wikisim/lib/python3.7/site-packages/tensorflow/python/ops/gradients_util.py:93: UserWarning: Converting sparse IndexedSlices to a dense Tensor of unknown shape. This may consume a large amount of memory.\n",
      "  \"Converting sparse IndexedSlices to a dense Tensor of unknown shape. \"\n"
     ]
    },
    {
     "name": "stdout",
     "output_type": "stream",
     "text": [
      "    Progress: |██████████████████████████████████████████████████| 100.0%% Complete | ETA: 0:00:00\n",
      "    Elapsed time: 0:00:52\n",
      "    Progress: |--------------------------------------------------| 0.0%% Complete | ETA: 0:00:00\r"
     ]
    },
    {
     "name": "stderr",
     "output_type": "stream",
     "text": [
      "/Users/morton/anaconda3/envs/wikisim/lib/python3.7/site-packages/tensorflow/python/ops/gradients_util.py:93: UserWarning: Converting sparse IndexedSlices to a dense Tensor of unknown shape. This may consume a large amount of memory.\n",
      "  \"Converting sparse IndexedSlices to a dense Tensor of unknown shape. \"\n"
     ]
    },
    {
     "name": "stdout",
     "output_type": "stream",
     "text": [
      "    Progress: |██████████████████████████████████████████████████| 100.0%% Complete | ETA: 0:00:00\n",
      "    Elapsed time: 0:01:11\n",
      "    Progress: |--------------------------------------------------| 0.0%% Complete | ETA: 0:00:00\r"
     ]
    },
    {
     "name": "stderr",
     "output_type": "stream",
     "text": [
      "/Users/morton/anaconda3/envs/wikisim/lib/python3.7/site-packages/tensorflow/python/ops/gradients_util.py:93: UserWarning: Converting sparse IndexedSlices to a dense Tensor of unknown shape. This may consume a large amount of memory.\n",
      "  \"Converting sparse IndexedSlices to a dense Tensor of unknown shape. \"\n"
     ]
    },
    {
     "name": "stdout",
     "output_type": "stream",
     "text": [
      "    Progress: |██████████████████████████████████████████████████| 100.0%% Complete | ETA: 0:00:00\n",
      "    Elapsed time: 0:01:04\n",
      "    Progress: |--------------------------------------------------| 0.0%% Complete | ETA: 0:00:00\r"
     ]
    },
    {
     "name": "stderr",
     "output_type": "stream",
     "text": [
      "/Users/morton/anaconda3/envs/wikisim/lib/python3.7/site-packages/tensorflow/python/ops/gradients_util.py:93: UserWarning: Converting sparse IndexedSlices to a dense Tensor of unknown shape. This may consume a large amount of memory.\n",
      "  \"Converting sparse IndexedSlices to a dense Tensor of unknown shape. \"\n"
     ]
    },
    {
     "name": "stdout",
     "output_type": "stream",
     "text": [
      "    Progress: |██████████████████████████████████████████████████| 100.0%% Complete | ETA: 0:00:00\n",
      "    Elapsed time: 0:00:51\n",
      "    Progress: |--------------------------------------------------| 0.0%% Complete | ETA: 0:00:00\r"
     ]
    },
    {
     "name": "stderr",
     "output_type": "stream",
     "text": [
      "/Users/morton/anaconda3/envs/wikisim/lib/python3.7/site-packages/tensorflow/python/ops/gradients_util.py:93: UserWarning: Converting sparse IndexedSlices to a dense Tensor of unknown shape. This may consume a large amount of memory.\n",
      "  \"Converting sparse IndexedSlices to a dense Tensor of unknown shape. \"\n"
     ]
    },
    {
     "name": "stdout",
     "output_type": "stream",
     "text": [
      "    Progress: |██████████████████████████████████████████████████| 100.0%% Complete | ETA: 0:00:00\n",
      "    Elapsed time: 0:01:19\n",
      "    Progress: |--------------------------------------------------| 0.0%% Complete | ETA: 0:00:00\r"
     ]
    },
    {
     "name": "stderr",
     "output_type": "stream",
     "text": [
      "/Users/morton/anaconda3/envs/wikisim/lib/python3.7/site-packages/tensorflow/python/ops/gradients_util.py:93: UserWarning: Converting sparse IndexedSlices to a dense Tensor of unknown shape. This may consume a large amount of memory.\n",
      "  \"Converting sparse IndexedSlices to a dense Tensor of unknown shape. \"\n"
     ]
    },
    {
     "name": "stdout",
     "output_type": "stream",
     "text": [
      "    Progress: |██████████████████████████████████████████████████| 100.0%% Complete | ETA: 0:00:00\n",
      "    Elapsed time: 0:01:05\n",
      "    Progress: |--------------------------------------------------| 0.0%% Complete | ETA: 0:00:00\r"
     ]
    },
    {
     "name": "stderr",
     "output_type": "stream",
     "text": [
      "/Users/morton/anaconda3/envs/wikisim/lib/python3.7/site-packages/tensorflow/python/ops/gradients_util.py:93: UserWarning: Converting sparse IndexedSlices to a dense Tensor of unknown shape. This may consume a large amount of memory.\n",
      "  \"Converting sparse IndexedSlices to a dense Tensor of unknown shape. \"\n"
     ]
    },
    {
     "name": "stdout",
     "output_type": "stream",
     "text": [
      "    Progress: |██████████████████████████████████████████████████| 100.0%% Complete | ETA: 0:00:00\n",
      "    Elapsed time: 0:00:44\n",
      "    Progress: |--------------------------------------------------| 0.0%% Complete | ETA: 0:00:00\r"
     ]
    },
    {
     "name": "stderr",
     "output_type": "stream",
     "text": [
      "/Users/morton/anaconda3/envs/wikisim/lib/python3.7/site-packages/tensorflow/python/ops/gradients_util.py:93: UserWarning: Converting sparse IndexedSlices to a dense Tensor of unknown shape. This may consume a large amount of memory.\n",
      "  \"Converting sparse IndexedSlices to a dense Tensor of unknown shape. \"\n"
     ]
    },
    {
     "name": "stdout",
     "output_type": "stream",
     "text": [
      "    Progress: |██████████████████████████████████████████████████| 100.0%% Complete | ETA: 0:00:00\n",
      "    Elapsed time: 0:00:50\n",
      "    Progress: |--------------------------------------------------| 0.0%% Complete | ETA: 0:00:00\r"
     ]
    },
    {
     "name": "stderr",
     "output_type": "stream",
     "text": [
      "/Users/morton/anaconda3/envs/wikisim/lib/python3.7/site-packages/tensorflow/python/ops/gradients_util.py:93: UserWarning: Converting sparse IndexedSlices to a dense Tensor of unknown shape. This may consume a large amount of memory.\n",
      "  \"Converting sparse IndexedSlices to a dense Tensor of unknown shape. \"\n"
     ]
    },
    {
     "name": "stdout",
     "output_type": "stream",
     "text": [
      "    Progress: |██████████████████████████████████████████████████| 100.0%% Complete | ETA: 0:00:00\n",
      "    Elapsed time: 0:01:10\n",
      "    Progress: |--------------------------------------------------| 0.0%% Complete | ETA: 0:00:00\r"
     ]
    },
    {
     "name": "stderr",
     "output_type": "stream",
     "text": [
      "/Users/morton/anaconda3/envs/wikisim/lib/python3.7/site-packages/tensorflow/python/ops/gradients_util.py:93: UserWarning: Converting sparse IndexedSlices to a dense Tensor of unknown shape. This may consume a large amount of memory.\n",
      "  \"Converting sparse IndexedSlices to a dense Tensor of unknown shape. \"\n"
     ]
    },
    {
     "name": "stdout",
     "output_type": "stream",
     "text": [
      "    Progress: |██████████████████████████████████████████████████| 100.0%% Complete | ETA: 0:00:00\n",
      "    Elapsed time: 0:00:53\n",
      "    Progress: |--------------------------------------------------| 0.0%% Complete | ETA: 0:00:00\r"
     ]
    },
    {
     "name": "stderr",
     "output_type": "stream",
     "text": [
      "/Users/morton/anaconda3/envs/wikisim/lib/python3.7/site-packages/tensorflow/python/ops/gradients_util.py:93: UserWarning: Converting sparse IndexedSlices to a dense Tensor of unknown shape. This may consume a large amount of memory.\n",
      "  \"Converting sparse IndexedSlices to a dense Tensor of unknown shape. \"\n"
     ]
    },
    {
     "name": "stdout",
     "output_type": "stream",
     "text": [
      "    Progress: |██████████████████████████████████████████████████| 100.0%% Complete | ETA: 0:00:00\n",
      "    Elapsed time: 0:01:04\n",
      "    Progress: |--------------------------------------------------| 0.0%% Complete | ETA: 0:00:00\r"
     ]
    },
    {
     "name": "stderr",
     "output_type": "stream",
     "text": [
      "/Users/morton/anaconda3/envs/wikisim/lib/python3.7/site-packages/tensorflow/python/ops/gradients_util.py:93: UserWarning: Converting sparse IndexedSlices to a dense Tensor of unknown shape. This may consume a large amount of memory.\n",
      "  \"Converting sparse IndexedSlices to a dense Tensor of unknown shape. \"\n"
     ]
    },
    {
     "name": "stdout",
     "output_type": "stream",
     "text": [
      "    Progress: |██████████████████████████████████████████████████| 100.0%% Complete | ETA: 0:00:00\n",
      "    Elapsed time: 0:01:13\n",
      "    Progress: |--------------------------------------------------| 0.0%% Complete | ETA: 0:00:00\r"
     ]
    },
    {
     "name": "stderr",
     "output_type": "stream",
     "text": [
      "/Users/morton/anaconda3/envs/wikisim/lib/python3.7/site-packages/tensorflow/python/ops/gradients_util.py:93: UserWarning: Converting sparse IndexedSlices to a dense Tensor of unknown shape. This may consume a large amount of memory.\n",
      "  \"Converting sparse IndexedSlices to a dense Tensor of unknown shape. \"\n"
     ]
    },
    {
     "name": "stdout",
     "output_type": "stream",
     "text": [
      "    Progress: |██████████████████████████████████████████████████| 100.0%% Complete | ETA: 0:00:00\n",
      "    Elapsed time: 0:02:02\n",
      "    Progress: |--------------------------------------------------| 0.0%% Complete | ETA: 0:00:00\r"
     ]
    },
    {
     "name": "stderr",
     "output_type": "stream",
     "text": [
      "/Users/morton/anaconda3/envs/wikisim/lib/python3.7/site-packages/tensorflow/python/ops/gradients_util.py:93: UserWarning: Converting sparse IndexedSlices to a dense Tensor of unknown shape. This may consume a large amount of memory.\n",
      "  \"Converting sparse IndexedSlices to a dense Tensor of unknown shape. \"\n"
     ]
    },
    {
     "name": "stdout",
     "output_type": "stream",
     "text": [
      "    Progress: |██████████████████████████████████████████████████| 100.0%% Complete | ETA: 0:00:00\n",
      "    Elapsed time: 0:01:19\n",
      "    Progress: |--------------------------------------------------| 0.0%% Complete | ETA: 0:00:00\r"
     ]
    },
    {
     "name": "stderr",
     "output_type": "stream",
     "text": [
      "/Users/morton/anaconda3/envs/wikisim/lib/python3.7/site-packages/tensorflow/python/ops/gradients_util.py:93: UserWarning: Converting sparse IndexedSlices to a dense Tensor of unknown shape. This may consume a large amount of memory.\n",
      "  \"Converting sparse IndexedSlices to a dense Tensor of unknown shape. \"\n"
     ]
    },
    {
     "name": "stdout",
     "output_type": "stream",
     "text": [
      "    Progress: |██████████████████████████████████████████████████| 100.0%% Complete | ETA: 0:00:00\n",
      "    Elapsed time: 0:01:26\n",
      "    Progress: |--------------------------------------------------| 0.0%% Complete | ETA: 0:00:00\r"
     ]
    },
    {
     "name": "stderr",
     "output_type": "stream",
     "text": [
      "/Users/morton/anaconda3/envs/wikisim/lib/python3.7/site-packages/tensorflow/python/ops/gradients_util.py:93: UserWarning: Converting sparse IndexedSlices to a dense Tensor of unknown shape. This may consume a large amount of memory.\n",
      "  \"Converting sparse IndexedSlices to a dense Tensor of unknown shape. \"\n"
     ]
    },
    {
     "name": "stdout",
     "output_type": "stream",
     "text": [
      "    Progress: |██████████████████████████████████████████████████| 100.0%% Complete | ETA: 0:00:00\n",
      "    Elapsed time: 0:02:22\n",
      "    Progress: |--------------------------------------------------| 0.0%% Complete | ETA: 0:00:00\r"
     ]
    },
    {
     "name": "stderr",
     "output_type": "stream",
     "text": [
      "/Users/morton/anaconda3/envs/wikisim/lib/python3.7/site-packages/tensorflow/python/ops/gradients_util.py:93: UserWarning: Converting sparse IndexedSlices to a dense Tensor of unknown shape. This may consume a large amount of memory.\n",
      "  \"Converting sparse IndexedSlices to a dense Tensor of unknown shape. \"\n"
     ]
    },
    {
     "name": "stdout",
     "output_type": "stream",
     "text": [
      "    Progress: |██████████████████████████████████████████████████| 100.0%% Complete | ETA: 0:00:00\n",
      "    Elapsed time: 0:01:05\n",
      "    Progress: |--------------------------------------------------| 0.0%% Complete | ETA: 0:00:00\r"
     ]
    },
    {
     "name": "stderr",
     "output_type": "stream",
     "text": [
      "/Users/morton/anaconda3/envs/wikisim/lib/python3.7/site-packages/tensorflow/python/ops/gradients_util.py:93: UserWarning: Converting sparse IndexedSlices to a dense Tensor of unknown shape. This may consume a large amount of memory.\n",
      "  \"Converting sparse IndexedSlices to a dense Tensor of unknown shape. \"\n"
     ]
    },
    {
     "name": "stdout",
     "output_type": "stream",
     "text": [
      "    Progress: |██████████████████████████████████████████████████| 100.0%% Complete | ETA: 0:00:00\n",
      "    Elapsed time: 0:01:46\n",
      "    Progress: |--------------------------------------------------| 0.0%% Complete | ETA: 0:00:00\r"
     ]
    },
    {
     "name": "stderr",
     "output_type": "stream",
     "text": [
      "/Users/morton/anaconda3/envs/wikisim/lib/python3.7/site-packages/tensorflow/python/ops/gradients_util.py:93: UserWarning: Converting sparse IndexedSlices to a dense Tensor of unknown shape. This may consume a large amount of memory.\n",
      "  \"Converting sparse IndexedSlices to a dense Tensor of unknown shape. \"\n"
     ]
    },
    {
     "name": "stdout",
     "output_type": "stream",
     "text": [
      "    Progress: |██████████████████████████████████████████████████| 100.0%% Complete | ETA: 0:00:00\n",
      "    Elapsed time: 0:01:03\n",
      "    Progress: |--------------------------------------------------| 0.0%% Complete | ETA: 0:00:00\r"
     ]
    },
    {
     "name": "stderr",
     "output_type": "stream",
     "text": [
      "/Users/morton/anaconda3/envs/wikisim/lib/python3.7/site-packages/tensorflow/python/ops/gradients_util.py:93: UserWarning: Converting sparse IndexedSlices to a dense Tensor of unknown shape. This may consume a large amount of memory.\n",
      "  \"Converting sparse IndexedSlices to a dense Tensor of unknown shape. \"\n"
     ]
    },
    {
     "name": "stdout",
     "output_type": "stream",
     "text": [
      "    Progress: |██████████████████████████████████████████████████| 100.0%% Complete | ETA: 0:00:00\n",
      "    Elapsed time: 0:01:35\n",
      "    Progress: |--------------------------------------------------| 0.0%% Complete | ETA: 0:00:00\r"
     ]
    },
    {
     "name": "stderr",
     "output_type": "stream",
     "text": [
      "/Users/morton/anaconda3/envs/wikisim/lib/python3.7/site-packages/tensorflow/python/ops/gradients_util.py:93: UserWarning: Converting sparse IndexedSlices to a dense Tensor of unknown shape. This may consume a large amount of memory.\n",
      "  \"Converting sparse IndexedSlices to a dense Tensor of unknown shape. \"\n"
     ]
    },
    {
     "name": "stdout",
     "output_type": "stream",
     "text": [
      "    Progress: |██████████████████████████████████████████████████| 100.0%% Complete | ETA: 0:00:00\n",
      "    Elapsed time: 0:01:32\n",
      "    Progress: |--------------------------------------------------| 0.0%% Complete | ETA: 0:00:00\r"
     ]
    },
    {
     "name": "stderr",
     "output_type": "stream",
     "text": [
      "/Users/morton/anaconda3/envs/wikisim/lib/python3.7/site-packages/tensorflow/python/ops/gradients_util.py:93: UserWarning: Converting sparse IndexedSlices to a dense Tensor of unknown shape. This may consume a large amount of memory.\n",
      "  \"Converting sparse IndexedSlices to a dense Tensor of unknown shape. \"\n"
     ]
    },
    {
     "name": "stdout",
     "output_type": "stream",
     "text": [
      "    Progress: |██████████████████████████████████████████████████| 100.0%% Complete | ETA: 0:00:00\n",
      "    Elapsed time: 0:01:31\n",
      "    Progress: |--------------------------------------------------| 0.0%% Complete | ETA: 0:00:00\r"
     ]
    },
    {
     "name": "stderr",
     "output_type": "stream",
     "text": [
      "/Users/morton/anaconda3/envs/wikisim/lib/python3.7/site-packages/tensorflow/python/ops/gradients_util.py:93: UserWarning: Converting sparse IndexedSlices to a dense Tensor of unknown shape. This may consume a large amount of memory.\n",
      "  \"Converting sparse IndexedSlices to a dense Tensor of unknown shape. \"\n"
     ]
    },
    {
     "name": "stdout",
     "output_type": "stream",
     "text": [
      "    Progress: |██████████████████████████████████████████████████| 100.0%% Complete | ETA: 0:00:00\n",
      "    Elapsed time: 0:02:01\n",
      "    Progress: |--------------------------------------------------| 0.0%% Complete | ETA: 0:00:00\r"
     ]
    },
    {
     "name": "stderr",
     "output_type": "stream",
     "text": [
      "/Users/morton/anaconda3/envs/wikisim/lib/python3.7/site-packages/tensorflow/python/ops/gradients_util.py:93: UserWarning: Converting sparse IndexedSlices to a dense Tensor of unknown shape. This may consume a large amount of memory.\n",
      "  \"Converting sparse IndexedSlices to a dense Tensor of unknown shape. \"\n"
     ]
    },
    {
     "name": "stdout",
     "output_type": "stream",
     "text": [
      "    Progress: |██████████████████████████████████████████████████| 100.0%% Complete | ETA: 0:00:00\n",
      "    Elapsed time: 0:01:16\n",
      "    Progress: |--------------------------------------------------| 0.0%% Complete | ETA: 0:00:00\r"
     ]
    },
    {
     "name": "stderr",
     "output_type": "stream",
     "text": [
      "/Users/morton/anaconda3/envs/wikisim/lib/python3.7/site-packages/tensorflow/python/ops/gradients_util.py:93: UserWarning: Converting sparse IndexedSlices to a dense Tensor of unknown shape. This may consume a large amount of memory.\n",
      "  \"Converting sparse IndexedSlices to a dense Tensor of unknown shape. \"\n"
     ]
    },
    {
     "name": "stdout",
     "output_type": "stream",
     "text": [
      "    Progress: |██████████████████████████████████████████████████| 100.0%% Complete | ETA: 0:00:00\n",
      "    Elapsed time: 0:01:42\n",
      "    Progress: |--------------------------------------------------| 0.0%% Complete | ETA: 0:00:00\r"
     ]
    },
    {
     "name": "stderr",
     "output_type": "stream",
     "text": [
      "/Users/morton/anaconda3/envs/wikisim/lib/python3.7/site-packages/tensorflow/python/ops/gradients_util.py:93: UserWarning: Converting sparse IndexedSlices to a dense Tensor of unknown shape. This may consume a large amount of memory.\n",
      "  \"Converting sparse IndexedSlices to a dense Tensor of unknown shape. \"\n"
     ]
    },
    {
     "name": "stdout",
     "output_type": "stream",
     "text": [
      "    Progress: |██████████████████████████████████████████████████| 100.0%% Complete | ETA: 0:00:00\n",
      "    Elapsed time: 0:01:55\n",
      "    Progress: |--------------------------------------------------| 0.0%% Complete | ETA: 0:00:00\r"
     ]
    },
    {
     "name": "stderr",
     "output_type": "stream",
     "text": [
      "/Users/morton/anaconda3/envs/wikisim/lib/python3.7/site-packages/tensorflow/python/ops/gradients_util.py:93: UserWarning: Converting sparse IndexedSlices to a dense Tensor of unknown shape. This may consume a large amount of memory.\n",
      "  \"Converting sparse IndexedSlices to a dense Tensor of unknown shape. \"\n"
     ]
    },
    {
     "name": "stdout",
     "output_type": "stream",
     "text": [
      "    Progress: |██████████████████████████████████████████████████| 100.0%% Complete | ETA: 0:00:00\n",
      "    Elapsed time: 0:01:18\n",
      "    Progress: |--------------------------------------------------| 0.0%% Complete | ETA: 0:00:00\r"
     ]
    },
    {
     "name": "stderr",
     "output_type": "stream",
     "text": [
      "/Users/morton/anaconda3/envs/wikisim/lib/python3.7/site-packages/tensorflow/python/ops/gradients_util.py:93: UserWarning: Converting sparse IndexedSlices to a dense Tensor of unknown shape. This may consume a large amount of memory.\n",
      "  \"Converting sparse IndexedSlices to a dense Tensor of unknown shape. \"\n"
     ]
    },
    {
     "name": "stdout",
     "output_type": "stream",
     "text": [
      "    Progress: |██████████████████████████████████████████████████| 100.0%% Complete | ETA: 0:00:00\n",
      "    Elapsed time: 0:02:07\n",
      "    Progress: |--------------------------------------------------| 0.0%% Complete | ETA: 0:00:00\r"
     ]
    },
    {
     "name": "stderr",
     "output_type": "stream",
     "text": [
      "/Users/morton/anaconda3/envs/wikisim/lib/python3.7/site-packages/tensorflow/python/ops/gradients_util.py:93: UserWarning: Converting sparse IndexedSlices to a dense Tensor of unknown shape. This may consume a large amount of memory.\n",
      "  \"Converting sparse IndexedSlices to a dense Tensor of unknown shape. \"\n"
     ]
    },
    {
     "name": "stdout",
     "output_type": "stream",
     "text": [
      "    Progress: |██████████████████████████████████████████████████| 100.0%% Complete | ETA: 0:00:00\n",
      "    Elapsed time: 0:01:12\n",
      "    Progress: |--------------------------------------------------| 0.0%% Complete | ETA: 0:00:00\r"
     ]
    },
    {
     "name": "stderr",
     "output_type": "stream",
     "text": [
      "/Users/morton/anaconda3/envs/wikisim/lib/python3.7/site-packages/tensorflow/python/ops/gradients_util.py:93: UserWarning: Converting sparse IndexedSlices to a dense Tensor of unknown shape. This may consume a large amount of memory.\n",
      "  \"Converting sparse IndexedSlices to a dense Tensor of unknown shape. \"\n"
     ]
    },
    {
     "name": "stdout",
     "output_type": "stream",
     "text": [
      "    Progress: |██████████████████████████████████████████████████| 100.0%% Complete | ETA: 0:00:00\n",
      "    Elapsed time: 0:01:15\n",
      "    Progress: |--------------------------------------------------| 0.0%% Complete | ETA: 0:00:00\r"
     ]
    },
    {
     "name": "stderr",
     "output_type": "stream",
     "text": [
      "/Users/morton/anaconda3/envs/wikisim/lib/python3.7/site-packages/tensorflow/python/ops/gradients_util.py:93: UserWarning: Converting sparse IndexedSlices to a dense Tensor of unknown shape. This may consume a large amount of memory.\n",
      "  \"Converting sparse IndexedSlices to a dense Tensor of unknown shape. \"\n"
     ]
    },
    {
     "name": "stdout",
     "output_type": "stream",
     "text": [
      "    Progress: |██████████████████████████████████████████████████| 100.0%% Complete | ETA: 0:00:00\n",
      "    Elapsed time: 0:01:12\n",
      "    Progress: |--------------------------------------------------| 0.0%% Complete | ETA: 0:00:00\r"
     ]
    },
    {
     "name": "stderr",
     "output_type": "stream",
     "text": [
      "/Users/morton/anaconda3/envs/wikisim/lib/python3.7/site-packages/tensorflow/python/ops/gradients_util.py:93: UserWarning: Converting sparse IndexedSlices to a dense Tensor of unknown shape. This may consume a large amount of memory.\n",
      "  \"Converting sparse IndexedSlices to a dense Tensor of unknown shape. \"\n"
     ]
    },
    {
     "name": "stdout",
     "output_type": "stream",
     "text": [
      "    Progress: |██████████████████████████████████████████████████| 100.0%% Complete | ETA: 0:00:00\n",
      "    Elapsed time: 0:01:25\n",
      "    Progress: |--------------------------------------------------| 0.0%% Complete | ETA: 0:00:00\r"
     ]
    },
    {
     "name": "stderr",
     "output_type": "stream",
     "text": [
      "/Users/morton/anaconda3/envs/wikisim/lib/python3.7/site-packages/tensorflow/python/ops/gradients_util.py:93: UserWarning: Converting sparse IndexedSlices to a dense Tensor of unknown shape. This may consume a large amount of memory.\n",
      "  \"Converting sparse IndexedSlices to a dense Tensor of unknown shape. \"\n"
     ]
    },
    {
     "name": "stdout",
     "output_type": "stream",
     "text": [
      "    Progress: |██████████████████████████████████████████████████| 100.0%% Complete | ETA: 0:00:00\n",
      "    Elapsed time: 0:01:59\n",
      "    Progress: |--------------------------------------------------| 0.0%% Complete | ETA: 0:00:00\r"
     ]
    },
    {
     "name": "stderr",
     "output_type": "stream",
     "text": [
      "/Users/morton/anaconda3/envs/wikisim/lib/python3.7/site-packages/tensorflow/python/ops/gradients_util.py:93: UserWarning: Converting sparse IndexedSlices to a dense Tensor of unknown shape. This may consume a large amount of memory.\n",
      "  \"Converting sparse IndexedSlices to a dense Tensor of unknown shape. \"\n"
     ]
    },
    {
     "name": "stdout",
     "output_type": "stream",
     "text": [
      "    Progress: |██████████████████████████████████████████████████| 100.0%% Complete | ETA: 0:00:00\n",
      "    Elapsed time: 0:00:55\n",
      "    Progress: |--------------------------------------------------| 0.0%% Complete | ETA: 0:00:00\r"
     ]
    },
    {
     "name": "stderr",
     "output_type": "stream",
     "text": [
      "/Users/morton/anaconda3/envs/wikisim/lib/python3.7/site-packages/tensorflow/python/ops/gradients_util.py:93: UserWarning: Converting sparse IndexedSlices to a dense Tensor of unknown shape. This may consume a large amount of memory.\n",
      "  \"Converting sparse IndexedSlices to a dense Tensor of unknown shape. \"\n"
     ]
    },
    {
     "name": "stdout",
     "output_type": "stream",
     "text": [
      "    Progress: |██████████████████████████████████████████████████| 100.0%% Complete | ETA: 0:00:00\n",
      "    Elapsed time: 0:01:18\n",
      "    Progress: |--------------------------------------------------| 0.0%% Complete | ETA: 0:00:00\r"
     ]
    },
    {
     "name": "stderr",
     "output_type": "stream",
     "text": [
      "/Users/morton/anaconda3/envs/wikisim/lib/python3.7/site-packages/tensorflow/python/ops/gradients_util.py:93: UserWarning: Converting sparse IndexedSlices to a dense Tensor of unknown shape. This may consume a large amount of memory.\n",
      "  \"Converting sparse IndexedSlices to a dense Tensor of unknown shape. \"\n"
     ]
    },
    {
     "name": "stdout",
     "output_type": "stream",
     "text": [
      "    Progress: |██████████████████████████████████████████████████| 100.0%% Complete | ETA: 0:00:00\n",
      "    Elapsed time: 0:01:28\n",
      "    Progress: |--------------------------------------------------| 0.0%% Complete | ETA: 0:00:00\r"
     ]
    },
    {
     "name": "stderr",
     "output_type": "stream",
     "text": [
      "/Users/morton/anaconda3/envs/wikisim/lib/python3.7/site-packages/tensorflow/python/ops/gradients_util.py:93: UserWarning: Converting sparse IndexedSlices to a dense Tensor of unknown shape. This may consume a large amount of memory.\n",
      "  \"Converting sparse IndexedSlices to a dense Tensor of unknown shape. \"\n"
     ]
    },
    {
     "name": "stdout",
     "output_type": "stream",
     "text": [
      "    Progress: |██████████████████████████████████████████████████| 100.0%% Complete | ETA: 0:00:00\n",
      "    Elapsed time: 0:01:12\n",
      "    Progress: |--------------------------------------------------| 0.0%% Complete | ETA: 0:00:00\r"
     ]
    },
    {
     "name": "stderr",
     "output_type": "stream",
     "text": [
      "/Users/morton/anaconda3/envs/wikisim/lib/python3.7/site-packages/tensorflow/python/ops/gradients_util.py:93: UserWarning: Converting sparse IndexedSlices to a dense Tensor of unknown shape. This may consume a large amount of memory.\n",
      "  \"Converting sparse IndexedSlices to a dense Tensor of unknown shape. \"\n"
     ]
    },
    {
     "name": "stdout",
     "output_type": "stream",
     "text": [
      "    Progress: |██████████████████████████████████████████████████| 100.0%% Complete | ETA: 0:00:00\n",
      "    Elapsed time: 0:01:29\n",
      "    Progress: |--------------------------------------------------| 0.0%% Complete | ETA: 0:00:00\r"
     ]
    },
    {
     "name": "stderr",
     "output_type": "stream",
     "text": [
      "/Users/morton/anaconda3/envs/wikisim/lib/python3.7/site-packages/tensorflow/python/ops/gradients_util.py:93: UserWarning: Converting sparse IndexedSlices to a dense Tensor of unknown shape. This may consume a large amount of memory.\n",
      "  \"Converting sparse IndexedSlices to a dense Tensor of unknown shape. \"\n"
     ]
    },
    {
     "name": "stdout",
     "output_type": "stream",
     "text": [
      "    Progress: |██████████████████████████████████████████████████| 100.0%% Complete | ETA: 0:00:00\n",
      "    Elapsed time: 0:01:03\n",
      "    Progress: |--------------------------------------------------| 0.0%% Complete | ETA: 0:00:00\r"
     ]
    },
    {
     "name": "stderr",
     "output_type": "stream",
     "text": [
      "/Users/morton/anaconda3/envs/wikisim/lib/python3.7/site-packages/tensorflow/python/ops/gradients_util.py:93: UserWarning: Converting sparse IndexedSlices to a dense Tensor of unknown shape. This may consume a large amount of memory.\n",
      "  \"Converting sparse IndexedSlices to a dense Tensor of unknown shape. \"\n"
     ]
    },
    {
     "name": "stdout",
     "output_type": "stream",
     "text": [
      "    Progress: |██████████████████████████████████████████████████| 100.0%% Complete | ETA: 0:00:00\n",
      "    Elapsed time: 0:01:02\n",
      "    Progress: |--------------------------------------------------| 0.0%% Complete | ETA: 0:00:00\r"
     ]
    },
    {
     "name": "stderr",
     "output_type": "stream",
     "text": [
      "/Users/morton/anaconda3/envs/wikisim/lib/python3.7/site-packages/tensorflow/python/ops/gradients_util.py:93: UserWarning: Converting sparse IndexedSlices to a dense Tensor of unknown shape. This may consume a large amount of memory.\n",
      "  \"Converting sparse IndexedSlices to a dense Tensor of unknown shape. \"\n"
     ]
    },
    {
     "name": "stdout",
     "output_type": "stream",
     "text": [
      "    Progress: |██████████████████████████████████████████████████| 100.0%% Complete | ETA: 0:00:00\n",
      "    Elapsed time: 0:00:58\n",
      "    Progress: |--------------------------------------------------| 0.0%% Complete | ETA: 0:00:00\r"
     ]
    },
    {
     "name": "stderr",
     "output_type": "stream",
     "text": [
      "/Users/morton/anaconda3/envs/wikisim/lib/python3.7/site-packages/tensorflow/python/ops/gradients_util.py:93: UserWarning: Converting sparse IndexedSlices to a dense Tensor of unknown shape. This may consume a large amount of memory.\n",
      "  \"Converting sparse IndexedSlices to a dense Tensor of unknown shape. \"\n"
     ]
    },
    {
     "name": "stdout",
     "output_type": "stream",
     "text": [
      "    Progress: |██████████████████████████████████████████████████| 100.0%% Complete | ETA: 0:00:00\n",
      "    Elapsed time: 0:00:39\n",
      "    Progress: |--------------------------------------------------| 0.0%% Complete | ETA: 0:00:00\r"
     ]
    },
    {
     "name": "stderr",
     "output_type": "stream",
     "text": [
      "/Users/morton/anaconda3/envs/wikisim/lib/python3.7/site-packages/tensorflow/python/ops/gradients_util.py:93: UserWarning: Converting sparse IndexedSlices to a dense Tensor of unknown shape. This may consume a large amount of memory.\n",
      "  \"Converting sparse IndexedSlices to a dense Tensor of unknown shape. \"\n"
     ]
    },
    {
     "name": "stdout",
     "output_type": "stream",
     "text": [
      "    Progress: |██████████████████████████████████████████████████| 100.0%% Complete | ETA: 0:00:00\n",
      "    Elapsed time: 0:01:42\n",
      "    Progress: |--------------------------------------------------| 0.0%% Complete | ETA: 0:00:00\r"
     ]
    },
    {
     "name": "stderr",
     "output_type": "stream",
     "text": [
      "/Users/morton/anaconda3/envs/wikisim/lib/python3.7/site-packages/tensorflow/python/ops/gradients_util.py:93: UserWarning: Converting sparse IndexedSlices to a dense Tensor of unknown shape. This may consume a large amount of memory.\n",
      "  \"Converting sparse IndexedSlices to a dense Tensor of unknown shape. \"\n"
     ]
    },
    {
     "name": "stdout",
     "output_type": "stream",
     "text": [
      "    Progress: |██████████████████████████████████████████████████| 100.0%% Complete | ETA: 0:00:00\n",
      "    Elapsed time: 0:00:58\n",
      "    Progress: |--------------------------------------------------| 0.0%% Complete | ETA: 0:00:00\r"
     ]
    },
    {
     "name": "stderr",
     "output_type": "stream",
     "text": [
      "/Users/morton/anaconda3/envs/wikisim/lib/python3.7/site-packages/tensorflow/python/ops/gradients_util.py:93: UserWarning: Converting sparse IndexedSlices to a dense Tensor of unknown shape. This may consume a large amount of memory.\n",
      "  \"Converting sparse IndexedSlices to a dense Tensor of unknown shape. \"\n"
     ]
    },
    {
     "name": "stdout",
     "output_type": "stream",
     "text": [
      "    Progress: |██████████████████████████████████████████████████| 100.0%% Complete | ETA: 0:00:00\n",
      "    Elapsed time: 0:01:09\n",
      "    Progress: |--------------------------------------------------| 0.0%% Complete | ETA: 0:00:00\r"
     ]
    },
    {
     "name": "stderr",
     "output_type": "stream",
     "text": [
      "/Users/morton/anaconda3/envs/wikisim/lib/python3.7/site-packages/tensorflow/python/ops/gradients_util.py:93: UserWarning: Converting sparse IndexedSlices to a dense Tensor of unknown shape. This may consume a large amount of memory.\n",
      "  \"Converting sparse IndexedSlices to a dense Tensor of unknown shape. \"\n"
     ]
    },
    {
     "name": "stdout",
     "output_type": "stream",
     "text": [
      "    Progress: |██████████████████████████████████████████████████| 100.0%% Complete | ETA: 0:00:00\n",
      "    Elapsed time: 0:00:59\n",
      "    Progress: |--------------------------------------------------| 0.0%% Complete | ETA: 0:00:00\r"
     ]
    },
    {
     "name": "stderr",
     "output_type": "stream",
     "text": [
      "/Users/morton/anaconda3/envs/wikisim/lib/python3.7/site-packages/tensorflow/python/ops/gradients_util.py:93: UserWarning: Converting sparse IndexedSlices to a dense Tensor of unknown shape. This may consume a large amount of memory.\n",
      "  \"Converting sparse IndexedSlices to a dense Tensor of unknown shape. \"\n"
     ]
    },
    {
     "name": "stdout",
     "output_type": "stream",
     "text": [
      "    Progress: |██████████████████████████████████████████████████| 100.0%% Complete | ETA: 0:00:00\n",
      "    Elapsed time: 0:01:03\n",
      "    Progress: |--------------------------------------------------| 0.0%% Complete | ETA: 0:00:00\r"
     ]
    },
    {
     "name": "stderr",
     "output_type": "stream",
     "text": [
      "/Users/morton/anaconda3/envs/wikisim/lib/python3.7/site-packages/tensorflow/python/ops/gradients_util.py:93: UserWarning: Converting sparse IndexedSlices to a dense Tensor of unknown shape. This may consume a large amount of memory.\n",
      "  \"Converting sparse IndexedSlices to a dense Tensor of unknown shape. \"\n"
     ]
    },
    {
     "name": "stdout",
     "output_type": "stream",
     "text": [
      "    Progress: |██████████████████████████████████████████████████| 100.0%% Complete | ETA: 0:00:00\n",
      "    Elapsed time: 0:01:10\n",
      "    Progress: |--------------------------------------------------| 0.0%% Complete | ETA: 0:00:00\r"
     ]
    },
    {
     "name": "stderr",
     "output_type": "stream",
     "text": [
      "/Users/morton/anaconda3/envs/wikisim/lib/python3.7/site-packages/tensorflow/python/ops/gradients_util.py:93: UserWarning: Converting sparse IndexedSlices to a dense Tensor of unknown shape. This may consume a large amount of memory.\n",
      "  \"Converting sparse IndexedSlices to a dense Tensor of unknown shape. \"\n"
     ]
    },
    {
     "name": "stdout",
     "output_type": "stream",
     "text": [
      "    Progress: |██████████████████████████████████████████████████| 100.0%% Complete | ETA: 0:00:00\n",
      "    Elapsed time: 0:01:05\n",
      "    Progress: |--------------------------------------------------| 0.0%% Complete | ETA: 0:00:00\r"
     ]
    },
    {
     "name": "stderr",
     "output_type": "stream",
     "text": [
      "/Users/morton/anaconda3/envs/wikisim/lib/python3.7/site-packages/tensorflow/python/ops/gradients_util.py:93: UserWarning: Converting sparse IndexedSlices to a dense Tensor of unknown shape. This may consume a large amount of memory.\n",
      "  \"Converting sparse IndexedSlices to a dense Tensor of unknown shape. \"\n"
     ]
    },
    {
     "name": "stdout",
     "output_type": "stream",
     "text": [
      "    Progress: |██████████████████████████████████████████████████| 100.0%% Complete | ETA: 0:00:00\n",
      "    Elapsed time: 0:00:47\n",
      "    Progress: |--------------------------------------------------| 0.0%% Complete | ETA: 0:00:00\r"
     ]
    },
    {
     "name": "stderr",
     "output_type": "stream",
     "text": [
      "/Users/morton/anaconda3/envs/wikisim/lib/python3.7/site-packages/tensorflow/python/ops/gradients_util.py:93: UserWarning: Converting sparse IndexedSlices to a dense Tensor of unknown shape. This may consume a large amount of memory.\n",
      "  \"Converting sparse IndexedSlices to a dense Tensor of unknown shape. \"\n"
     ]
    },
    {
     "name": "stdout",
     "output_type": "stream",
     "text": [
      "    Progress: |██████████████████████████████████████████████████| 100.0%% Complete | ETA: 0:00:00\n",
      "    Elapsed time: 0:01:05\n",
      "    Progress: |--------------------------------------------------| 0.0%% Complete | ETA: 0:00:00\r"
     ]
    },
    {
     "name": "stderr",
     "output_type": "stream",
     "text": [
      "/Users/morton/anaconda3/envs/wikisim/lib/python3.7/site-packages/tensorflow/python/ops/gradients_util.py:93: UserWarning: Converting sparse IndexedSlices to a dense Tensor of unknown shape. This may consume a large amount of memory.\n",
      "  \"Converting sparse IndexedSlices to a dense Tensor of unknown shape. \"\n"
     ]
    },
    {
     "name": "stdout",
     "output_type": "stream",
     "text": [
      "    Progress: |██████████████████████████████████████████████████| 100.0%% Complete | ETA: 0:00:00\n",
      "    Elapsed time: 0:01:19\n",
      "    Progress: |--------------------------------------------------| 0.0%% Complete | ETA: 0:00:00\r"
     ]
    },
    {
     "name": "stderr",
     "output_type": "stream",
     "text": [
      "/Users/morton/anaconda3/envs/wikisim/lib/python3.7/site-packages/tensorflow/python/ops/gradients_util.py:93: UserWarning: Converting sparse IndexedSlices to a dense Tensor of unknown shape. This may consume a large amount of memory.\n",
      "  \"Converting sparse IndexedSlices to a dense Tensor of unknown shape. \"\n"
     ]
    },
    {
     "name": "stdout",
     "output_type": "stream",
     "text": [
      "    Progress: |██████████████████████████████████████████████████| 100.0%% Complete | ETA: 0:00:00\n",
      "    Elapsed time: 0:01:07\n",
      "    Progress: |--------------------------------------------------| 0.0%% Complete | ETA: 0:00:00\r"
     ]
    },
    {
     "name": "stderr",
     "output_type": "stream",
     "text": [
      "/Users/morton/anaconda3/envs/wikisim/lib/python3.7/site-packages/tensorflow/python/ops/gradients_util.py:93: UserWarning: Converting sparse IndexedSlices to a dense Tensor of unknown shape. This may consume a large amount of memory.\n",
      "  \"Converting sparse IndexedSlices to a dense Tensor of unknown shape. \"\n"
     ]
    },
    {
     "name": "stdout",
     "output_type": "stream",
     "text": [
      "    Progress: |██████████████████████████████████████████████████| 100.0%% Complete | ETA: 0:00:00\n",
      "    Elapsed time: 0:00:47\n",
      "    Progress: |--------------------------------------------------| 0.0%% Complete | ETA: 0:00:00\r"
     ]
    },
    {
     "name": "stderr",
     "output_type": "stream",
     "text": [
      "/Users/morton/anaconda3/envs/wikisim/lib/python3.7/site-packages/tensorflow/python/ops/gradients_util.py:93: UserWarning: Converting sparse IndexedSlices to a dense Tensor of unknown shape. This may consume a large amount of memory.\n",
      "  \"Converting sparse IndexedSlices to a dense Tensor of unknown shape. \"\n"
     ]
    },
    {
     "name": "stdout",
     "output_type": "stream",
     "text": [
      "    Progress: |██████████████████████████████████████████████████| 100.0%% Complete | ETA: 0:00:00\n",
      "    Elapsed time: 0:00:44\n",
      "    Progress: |--------------------------------------------------| 0.0%% Complete | ETA: 0:00:00\r"
     ]
    },
    {
     "name": "stderr",
     "output_type": "stream",
     "text": [
      "/Users/morton/anaconda3/envs/wikisim/lib/python3.7/site-packages/tensorflow/python/ops/gradients_util.py:93: UserWarning: Converting sparse IndexedSlices to a dense Tensor of unknown shape. This may consume a large amount of memory.\n",
      "  \"Converting sparse IndexedSlices to a dense Tensor of unknown shape. \"\n"
     ]
    },
    {
     "name": "stdout",
     "output_type": "stream",
     "text": [
      "    Progress: |██████████████████████████████████████████████████| 100.0%% Complete | ETA: 0:00:00\n",
      "    Elapsed time: 0:00:44\n",
      "    Progress: |--------------------------------------------------| 0.0%% Complete | ETA: 0:00:00\r"
     ]
    },
    {
     "name": "stderr",
     "output_type": "stream",
     "text": [
      "/Users/morton/anaconda3/envs/wikisim/lib/python3.7/site-packages/tensorflow/python/ops/gradients_util.py:93: UserWarning: Converting sparse IndexedSlices to a dense Tensor of unknown shape. This may consume a large amount of memory.\n",
      "  \"Converting sparse IndexedSlices to a dense Tensor of unknown shape. \"\n"
     ]
    },
    {
     "name": "stdout",
     "output_type": "stream",
     "text": [
      "    Progress: |██████████████████████████████████████████████████| 100.0%% Complete | ETA: 0:00:00\n",
      "    Elapsed time: 0:00:56\n",
      "    Progress: |--------------------------------------------------| 0.0%% Complete | ETA: 0:00:00\r"
     ]
    },
    {
     "name": "stderr",
     "output_type": "stream",
     "text": [
      "/Users/morton/anaconda3/envs/wikisim/lib/python3.7/site-packages/tensorflow/python/ops/gradients_util.py:93: UserWarning: Converting sparse IndexedSlices to a dense Tensor of unknown shape. This may consume a large amount of memory.\n",
      "  \"Converting sparse IndexedSlices to a dense Tensor of unknown shape. \"\n"
     ]
    },
    {
     "name": "stdout",
     "output_type": "stream",
     "text": [
      "    Progress: |██████████████████████████████████████████████████| 100.0%% Complete | ETA: 0:00:00\n",
      "    Elapsed time: 0:01:25\n",
      "    Progress: |--------------------------------------------------| 0.0%% Complete | ETA: 0:00:00\r"
     ]
    },
    {
     "name": "stderr",
     "output_type": "stream",
     "text": [
      "/Users/morton/anaconda3/envs/wikisim/lib/python3.7/site-packages/tensorflow/python/ops/gradients_util.py:93: UserWarning: Converting sparse IndexedSlices to a dense Tensor of unknown shape. This may consume a large amount of memory.\n",
      "  \"Converting sparse IndexedSlices to a dense Tensor of unknown shape. \"\n"
     ]
    },
    {
     "name": "stdout",
     "output_type": "stream",
     "text": [
      "    Progress: |██████████████████████████████████████████████████| 100.0%% Complete | ETA: 0:00:00\n",
      "    Elapsed time: 0:00:46\n",
      "    Progress: |--------------------------------------------------| 0.0%% Complete | ETA: 0:00:00\r"
     ]
    },
    {
     "name": "stderr",
     "output_type": "stream",
     "text": [
      "/Users/morton/anaconda3/envs/wikisim/lib/python3.7/site-packages/tensorflow/python/ops/gradients_util.py:93: UserWarning: Converting sparse IndexedSlices to a dense Tensor of unknown shape. This may consume a large amount of memory.\n",
      "  \"Converting sparse IndexedSlices to a dense Tensor of unknown shape. \"\n"
     ]
    },
    {
     "name": "stdout",
     "output_type": "stream",
     "text": [
      "    Progress: |██████████████████████████████████████████████████| 100.0%% Complete | ETA: 0:00:00\n",
      "    Elapsed time: 0:00:58\n",
      "    Progress: |--------------------------------------------------| 0.0%% Complete | ETA: 0:00:00\r"
     ]
    },
    {
     "name": "stderr",
     "output_type": "stream",
     "text": [
      "/Users/morton/anaconda3/envs/wikisim/lib/python3.7/site-packages/tensorflow/python/ops/gradients_util.py:93: UserWarning: Converting sparse IndexedSlices to a dense Tensor of unknown shape. This may consume a large amount of memory.\n",
      "  \"Converting sparse IndexedSlices to a dense Tensor of unknown shape. \"\n"
     ]
    },
    {
     "name": "stdout",
     "output_type": "stream",
     "text": [
      "    Progress: |██████████████████████████████████████████████████| 100.0%% Complete | ETA: 0:00:00\n",
      "    Elapsed time: 0:00:39\n",
      "    Progress: |--------------------------------------------------| 0.0%% Complete | ETA: 0:00:00\r"
     ]
    },
    {
     "name": "stderr",
     "output_type": "stream",
     "text": [
      "/Users/morton/anaconda3/envs/wikisim/lib/python3.7/site-packages/tensorflow/python/ops/gradients_util.py:93: UserWarning: Converting sparse IndexedSlices to a dense Tensor of unknown shape. This may consume a large amount of memory.\n",
      "  \"Converting sparse IndexedSlices to a dense Tensor of unknown shape. \"\n"
     ]
    },
    {
     "name": "stdout",
     "output_type": "stream",
     "text": [
      "    Progress: |██████████████████████████████████████████████████| 100.0%% Complete | ETA: 0:00:00\n",
      "    Elapsed time: 0:01:31\n"
     ]
    }
   ],
   "source": [
    "summary = []\n",
    "for condition in range(1, 5):\n",
    "    obs = embed.psiz_obs(sim.loc[sim.condition == condition])\n",
    "    res = dim.dimension_search(obs, psiz.models.Exponential, 60, range(1, 11), \n",
    "                               n_split=5, n_fold=5, max_patience=10)\n",
    "    summary.append(res)"
   ]
  },
  {
   "cell_type": "code",
   "execution_count": 6,
   "metadata": {},
   "outputs": [
    {
     "data": {
      "text/plain": [
       "[{'dim_list': array([ 1,  2,  3,  4,  5,  6,  7,  8,  9, 10]),\n",
       "  'loss_train': array([[2.92910147, 3.02011847, 2.92322016, 2.94586349, 2.9275794 ],\n",
       "         [2.77318215, 2.87918425, 2.81344557, 2.81901765, 2.76752329],\n",
       "         [2.65990162, 2.77716208, 2.68823981, 2.71063733, 2.62568569],\n",
       "         [2.6022079 , 2.72640109, 2.62781978, 2.69277263, 2.58689594],\n",
       "         [2.56149626, 2.67027044, 2.60717368, 2.6668818 , 2.56281924],\n",
       "         [2.54822445, 2.69258785, 2.61115551, 2.66102695, 2.56572938],\n",
       "         [2.53305197, 2.67087913, 2.58599329, 2.49611187, 2.56783414],\n",
       "         [2.5009501 , 2.65333271, 2.42183709, 2.60779548, 2.56936121],\n",
       "         [2.47829962, 2.6433351 , 2.55398417, 2.61875224, 2.51294947],\n",
       "         [2.48229504, 2.66384411, 2.62041116, 2.65499353, 2.54072332]]),\n",
       "  'loss_test': array([[3.25399017, 2.68533373, 3.0340271 , 2.95254469, 3.01833868],\n",
       "         [3.19529104, 2.68652701, 3.06108642, 2.8911562 , 3.05262399],\n",
       "         [3.10055947, 2.58910418, 2.94063401, 2.79183221, 3.11958838],\n",
       "         [3.14067411, 2.59751725, 2.95946717, 2.84063506, 3.04467726],\n",
       "         [3.19155169, 2.56244397, 2.94349408, 2.794626  , 3.12933469],\n",
       "         [3.16957855, 2.32922268, 2.95646262, 2.8159039 , 3.09593296],\n",
       "         [3.21509409, 2.2982626 , 2.9526217 , 2.88056183, 3.01069689],\n",
       "         [3.28537798, 2.60403323, 3.0834837 , 2.75366426, 3.13600659],\n",
       "         [3.20227385, 2.64049268, 2.91588879, 2.82493162, 3.05326629],\n",
       "         [3.24363112, 2.55933547, 2.94187379, 2.78087616, 3.01388526]]),\n",
       "  'dim_best': 7},\n",
       " {'dim_list': array([ 1,  2,  3,  4,  5,  6,  7,  8,  9, 10]),\n",
       "  'loss_train': array([[2.62619305, 2.5343771 , 2.59423399, 2.57594323, 2.65932798],\n",
       "         [2.44540906, 2.32377577, 2.40662909, 2.4047339 , 2.46312046],\n",
       "         [2.35308361, 2.21459055, 2.30236983, 2.29873443, 2.36528444],\n",
       "         [2.30415249, 2.18078184, 2.24330354, 2.24019718, 2.31133604],\n",
       "         [2.26175833, 2.10258555, 2.21413851, 2.20538235, 2.28706741],\n",
       "         [2.26782441, 2.09812474, 2.16993451, 2.16748714, 2.24488163],\n",
       "         [2.13185453, 2.10866117, 2.14148259, 2.170681  , 2.23056746],\n",
       "         [2.23209763, 1.95683837, 2.13517094, 2.13434005, 2.13917279],\n",
       "         [2.1881671 , 2.00727582, 2.14365506, 2.15339899, 2.21031046],\n",
       "         [2.24816227, 2.06092048, 2.03001785, 2.00662398, 2.18303227]]),\n",
       "  'loss_test': array([[2.53683567, 2.94578481, 2.63358283, 2.74338436, 2.48261285],\n",
       "         [2.4442873 , 2.77054811, 2.47682166, 2.48224592, 2.31515098],\n",
       "         [2.34052849, 2.83959484, 2.46445394, 2.51494837, 2.25571775],\n",
       "         [2.39921999, 2.87687349, 2.47029519, 2.51073694, 2.24963284],\n",
       "         [2.35565829, 2.86041069, 2.42716789, 2.49362612, 2.20755959],\n",
       "         [2.30515981, 2.89753389, 2.44903779, 2.54571676, 2.2065115 ],\n",
       "         [2.49544573, 2.85068488, 2.47160912, 2.4492445 , 2.24497366],\n",
       "         [2.51074958, 3.12754893, 2.42067647, 2.4903388 , 2.38958001],\n",
       "         [2.38432765, 2.90392756, 2.44934416, 2.48217368, 2.2088201 ],\n",
       "         [2.32582927, 2.80949974, 2.60010076, 2.75247622, 2.21789908]]),\n",
       "  'dim_best': 5},\n",
       " {'dim_list': array([ 1,  2,  3,  4,  5,  6,  7,  8,  9, 10]),\n",
       "  'loss_train': array([[2.95828176, 2.93590713, 2.81788373, 2.94517636, 2.93339825],\n",
       "         [2.80941725, 2.82928801, 2.71852112, 2.84568405, 2.82189393],\n",
       "         [2.78192687, 2.76751256, 2.66423893, 2.8140614 , 2.76602268],\n",
       "         [2.72353172, 2.7025516 , 2.64211822, 2.78303695, 2.73396468],\n",
       "         [2.76121068, 2.71067834, 2.68007803, 2.77374959, 2.72882915],\n",
       "         [2.70282316, 2.68278885, 2.62914491, 2.73644948, 2.7120955 ],\n",
       "         [2.68142295, 2.72115993, 2.64689064, 2.71791148, 2.68156171],\n",
       "         [2.76064801, 2.68840742, 2.63326263, 2.7044704 , 2.69751668],\n",
       "         [2.75983644, 2.68073559, 2.62548566, 2.71315384, 2.65525365],\n",
       "         [2.72086906, 2.68703771, 2.48299122, 2.63861442, 2.70733595]]),\n",
       "  'loss_test': array([[2.77685523, 2.93366504, 3.41154313, 2.80894518, 2.85114098],\n",
       "         [2.82887363, 2.90750217, 3.32058406, 2.7153554 , 2.86143637],\n",
       "         [2.81446075, 2.92673612, 3.29175639, 2.77685618, 2.87351799],\n",
       "         [2.88603735, 2.97779155, 3.32639813, 2.73247814, 2.8654561 ],\n",
       "         [2.81859469, 2.91746044, 3.3227706 , 2.75847101, 2.86737561],\n",
       "         [2.86621165, 3.06890869, 3.37960553, 2.77846837, 2.88378024],\n",
       "         [2.855407  , 2.89013028, 3.21460986, 2.81300831, 2.87655401],\n",
       "         [2.81274033, 2.93553066, 3.29206657, 2.78060889, 2.89345026],\n",
       "         [2.80413914, 2.91833758, 3.33314037, 2.97622228, 2.91003013],\n",
       "         [2.80136538, 2.92848706, 3.58152175, 2.82098961, 2.82251644]]),\n",
       "  'dim_best': 2},\n",
       " {'dim_list': array([ 1,  2,  3,  4,  5,  6,  7,  8,  9, 10]),\n",
       "  'loss_train': array([[3.01997948, 2.99081492, 3.00829196, 3.03768826, 3.0400207 ],\n",
       "         [2.79493356, 2.79125738, 2.7494967 , 2.84322548, 2.79611397],\n",
       "         [2.6732595 , 2.68086743, 2.63702869, 2.6849246 , 2.65925193],\n",
       "         [2.56689334, 2.56058192, 2.510324  , 2.6320591 , 2.55619025],\n",
       "         [2.50320816, 2.50685453, 2.45378399, 2.59326291, 2.55864978],\n",
       "         [2.44405007, 2.4938879 , 2.44084597, 2.53317094, 2.57752323],\n",
       "         [2.40709853, 2.44460583, 2.40454698, 2.49436951, 2.47973561],\n",
       "         [2.37608767, 2.40931344, 2.44368982, 2.49063802, 2.56022882],\n",
       "         [2.35048366, 2.3910532 , 2.46163034, 2.43489122, 2.53741527],\n",
       "         [2.33738208, 2.37329602, 2.41674161, 2.46702623, 2.23367119]]),\n",
       "  'loss_test': array([[3.16689038, 3.12830067, 3.06540799, 2.94143248, 2.9321394 ],\n",
       "         [3.08968091, 2.94634604, 3.04464197, 2.80192327, 2.89607859],\n",
       "         [2.98798656, 2.75623226, 3.00851917, 2.74505091, 2.8307066 ],\n",
       "         [2.96385717, 2.85290694, 2.95666552, 2.70920062, 2.73583055],\n",
       "         [2.9908433 , 2.81279087, 2.97764564, 2.68799591, 2.70450068],\n",
       "         [3.04146624, 2.83286929, 2.97693872, 2.62405562, 2.45688963],\n",
       "         [2.93529129, 2.56056833, 2.91569376, 2.68209052, 2.67497993],\n",
       "         [2.92160511, 2.55427599, 2.43057108, 2.62168479, 2.420439  ],\n",
       "         [2.99458313, 2.78508878, 2.87809873, 2.64536285, 2.37857938],\n",
       "         [2.92276883, 2.53564334, 2.37930274, 2.198349  , 2.90007257]]),\n",
       "  'dim_best': 10}]"
      ]
     },
     "execution_count": 6,
     "metadata": {},
     "output_type": "execute_result"
    }
   ],
   "source": [
    "summary"
   ]
  },
  {
   "cell_type": "code",
   "execution_count": 7,
   "metadata": {},
   "outputs": [],
   "source": [
    "# compile results into a dataframe\n",
    "df_list = []\n",
    "for i, res in enumerate(summary):\n",
    "    # mean loss over xval folds for each dimension\n",
    "    cdf = pd.DataFrame({'dim_list': res['dim_list'], \n",
    "                        'loss_train': np.mean(res['loss_train'], 1),\n",
    "                        'loss_test': np.mean(res['loss_test'], 1)})\n",
    "    cdf.loc[:, 'condition'] = i + 1\n",
    "    df_list.append(cdf)\n",
    "df = pd.concat(df_list, axis=0, ignore_index=True)"
   ]
  },
  {
   "cell_type": "code",
   "execution_count": 8,
   "metadata": {},
   "outputs": [
    {
     "data": {
      "image/png": "[encoded data removed]",
      "text/plain": [
       "<Figure size 288x72 with 1 Axes>"
      ]
     },
     "metadata": {
      "needs_background": "light"
     },
     "output_type": "display_data"
    }
   ],
   "source": [
    "palette = [sns.color_palette('Reds_d', 4)[0],\n",
    "           sns.color_palette('Reds_d', 4)[-1],\n",
    "           sns.color_palette('Blues_d', 4)[0],\n",
    "           sns.color_palette('Blues_d', 4)[-1]]\n",
    "sns.palplot(palette)"
   ]
  },
  {
   "cell_type": "code",
   "execution_count": 9,
   "metadata": {},
   "outputs": [
    {
     "data": {
      "image/png": "[encoded data removed]",
      "text/plain": [
       "<Figure size 288x288 with 1 Axes>"
      ]
     },
     "metadata": {
      "needs_background": "light"
     },
     "output_type": "display_data"
    }
   ],
   "source": [
    "fig, ax = plt.subplots(figsize=(4, 4))\n",
    "sns.lineplot(x='dim_list', y='loss_test', hue='condition', \n",
    "             hue_order=[1, 3, 2, 4], palette=palette, \n",
    "             legend=False, data=df, ax=ax, linewidth=1.5)\n",
    "ax.set_xlabel('Dimension');\n",
    "ax.set_ylabel('Loss');\n",
    "fig.savefig(os.path.join(fig_dir, 'em_dim.pdf'))"
   ]
  }
 ],
 "metadata": {
  "kernelspec": {
   "display_name": "wikisim2",
   "language": "python",
   "name": "wikisim2"
  },
  "language_info": {
   "codemirror_mode": {
    "name": "ipython",
    "version": 3
   },
   "file_extension": ".py",
   "mimetype": "text/x-python",
   "name": "python",
   "nbconvert_exporter": "python",
   "pygments_lexer": "ipython3",
   "version": "3.7.7"
  }
 },
 "nbformat": 4,
 "nbformat_minor": 4
}